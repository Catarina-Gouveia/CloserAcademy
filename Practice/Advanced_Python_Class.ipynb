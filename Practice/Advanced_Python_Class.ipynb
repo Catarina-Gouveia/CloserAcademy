{
 "cells": [
  {
   "cell_type": "markdown",
   "metadata": {},
   "source": [
    "<div>\n",
    "    <img src=\"Examples/img/AcademiaCloser.png\">\n",
    "</div>"
   ]
  },
  {
   "cell_type": "markdown",
   "metadata": {},
   "source": [
    "# **Functions**"
   ]
  },
  {
   "cell_type": "markdown",
   "metadata": {},
   "source": [
    "### Built-in Functions"
   ]
  },
  {
   "cell_type": "markdown",
   "metadata": {},
   "source": [
    "`len()`"
   ]
  },
  {
   "cell_type": "code",
   "execution_count": null,
   "metadata": {},
   "outputs": [],
   "source": [
    "print(\"Hello world!\")"
   ]
  },
  {
   "cell_type": "markdown",
   "metadata": {},
   "source": [
    "`input()`"
   ]
  },
  {
   "cell_type": "code",
   "execution_count": null,
   "metadata": {},
   "outputs": [],
   "source": [
    "nome = input(\"Introduce name:\")\n",
    "print(\"Hi,\", nome)"
   ]
  },
  {
   "cell_type": "markdown",
   "metadata": {},
   "source": [
    "`len()`"
   ]
  },
  {
   "cell_type": "code",
   "execution_count": null,
   "metadata": {},
   "outputs": [],
   "source": [
    "word = \"Hello\"\n",
    "len(word)\n",
    "print(\"The length of this string is:\", word)\n",
    "# The following line prints an empty line\n",
    "print()\n",
    "\n",
    "list = [1,2,3,4,5,6,7,8,9,10]\n",
    "print(len(list))"
   ]
  },
  {
   "cell_type": "markdown",
   "metadata": {},
   "source": [
    "`range()`"
   ]
  },
  {
   "cell_type": "code",
   "execution_count": null,
   "metadata": {},
   "outputs": [],
   "source": [
    "for i in range(5): # The number 5 will be the upper limit of the range (which will start at 0, which is the \"default\" value)\n",
    "    print(i)\n",
    "print()\n",
    "\n",
    "for l in range(1, 5): # The lower limit of the range is 1, inclusive, and the upper limit is exclusive, 5\n",
    "    print(l)\n",
    "print()\n",
    "\n",
    "for j in range(1, 5, 2): # The lower limit of the range is 1, inclusive, and the upper limit is exclusive, 5\n",
    "    # The third argument specifies the number of steps to skip (2, in this case).\n",
    "    print(j)\n",
    "print()\n",
    "\n",
    "for n in range(5, 1):\n",
    "    print(n)\n",
    "    print(\"Here\")\n",
    "print()\n",
    "# The specified range does not contain numbers that meet the initial condition (5 < 1).\n",
    "# Therefore, the loop is not executed, and the message \"Here\" is not printed.\n",
    "\n",
    "for x in range(2, 2):\n",
    "    print(x)\n",
    "    print(\"Here\")\n",
    "# The specified range does not contain numbers because the lower and upper limits are equal (2).\n",
    "# Therefore, the loop is not executed, and the message \"Here\" is not printed."
   ]
  },
  {
   "cell_type": "markdown",
   "metadata": {},
   "source": [
    "`type()`"
   ]
  },
  {
   "cell_type": "code",
   "execution_count": null,
   "metadata": {},
   "outputs": [],
   "source": [
    "x = 5\n",
    "print(type(x)) # Output: <class ‘int’>"
   ]
  },
  {
   "cell_type": "markdown",
   "metadata": {},
   "source": [
    "## User-defined Functions"
   ]
  },
  {
   "cell_type": "code",
   "execution_count": null,
   "metadata": {},
   "outputs": [],
   "source": [
    "# Define the function\n",
    "def print_hello_to_all():\n",
    "\t\"\"\"\n",
    "\tThis function prints \"Hello everyone!\".\n",
    "\t\"\"\"\n",
    "\tprint(\"Hello everyone!\")"
   ]
  },
  {
   "cell_type": "code",
   "execution_count": null,
   "metadata": {},
   "outputs": [],
   "source": [
    "# Call the function\n",
    "print_hello_to_all()\n",
    "# Output: \"Hello everyone!\""
   ]
  },
  {
   "cell_type": "code",
   "execution_count": null,
   "metadata": {},
   "outputs": [],
   "source": [
    "# Note: since the function `print_hello_to_all()` does not have a return statement, if you try to store the result in a variable, it will have the value of None:\n",
    "var = print_hello_to_all()\n",
    "print(var)\n",
    "# \"Hello everyone!\" is still printed because the function was called - the line print(\"Hello everyone!\") is executed whenever the function is called."
   ]
  },
  {
   "cell_type": "code",
   "execution_count": null,
   "metadata": {},
   "outputs": [],
   "source": [
    "# Check what happens if you call the function without ():\n",
    "print_hello_to_all"
   ]
  },
  {
   "cell_type": "markdown",
   "metadata": {},
   "source": [
    "**Explanation:**\n",
    "\n",
    "When you call a function without the parentheses, you are referring to the function object itself, rather than invoking the function to execute the code. Therefore, the line `print(\"Hello everyone!\")` is not executed."
   ]
  },
  {
   "cell_type": "code",
   "execution_count": null,
   "metadata": {},
   "outputs": [],
   "source": [
    "def add_two_numbers(nr1, nr2):\n",
    "    \"\"\"\n",
    "    This function adds two numbers.\n",
    "    Args:\n",
    "        - nr1: The first number.\n",
    "        - nr2: The second number.\n",
    "    Returns:\n",
    "        The sum of nr1 and nr2.\n",
    "    \"\"\"\n",
    "    sum = nr1 + nr2\n",
    "    return sum"
   ]
  },
  {
   "cell_type": "code",
   "execution_count": null,
   "metadata": {},
   "outputs": [],
   "source": [
    "sum = add_two_numbers(2, 10)\n",
    "\n",
    "# Print the sum result:\n",
    "print(sum)"
   ]
  },
  {
   "cell_type": "markdown",
   "metadata": {},
   "source": [
    "#### Positional arguments"
   ]
  },
  {
   "cell_type": "code",
   "execution_count": null,
   "metadata": {},
   "outputs": [],
   "source": [
    "def present(name, age):\n",
    "    \"\"\"\n",
    "    This function prints a presentation.\n",
    "    \"\"\"\n",
    "    print(\"Hello, my name is\", name, \"and I am\", age, \"years old.\")\n",
    "\n",
    "present(\"Alice\", 25) \n",
    "# Output: Hello, my name is Alice and I am 25 years old.\n",
    "\n",
    "present(25, \"Alice\") \n",
    "# Output: Hello, my name is 25 and I am Alice years old."
   ]
  },
  {
   "cell_type": "markdown",
   "metadata": {},
   "source": [
    "#### Default/Optional Arguments"
   ]
  },
  {
   "cell_type": "code",
   "execution_count": null,
   "metadata": {},
   "outputs": [],
   "source": [
    "def greet(name=\"Guest\"):\n",
    "    \"\"\"\n",
    "    This function prints a greeting.\n",
    "    \"\"\"\n",
    "    print(\"Hello,\", name)\n",
    "\n",
    "greet() \n",
    "# Output: Hello, Guest\n",
    "\n",
    "greet(\"Alice\") \n",
    "# Output: Hello, Alice"
   ]
  },
  {
   "cell_type": "markdown",
   "metadata": {},
   "source": [
    "#### Keyword Arguments"
   ]
  },
  {
   "cell_type": "code",
   "execution_count": null,
   "metadata": {},
   "outputs": [],
   "source": [
    "def greet(name, greeting):\n",
    "    \"\"\"\n",
    "    This function prints a greeting.\n",
    "    \"\"\"\n",
    "    print(greeting, name)\n",
    "\n",
    "greet(greeting=\"Hello\", name=\"Alice\") \n",
    "# Output: Hello Alice\n",
    "\n",
    "greet(name=\"Alice\", greeting=\"Hello\") \n",
    "# Output: Hello Alice"
   ]
  },
  {
   "cell_type": "markdown",
   "metadata": {},
   "source": [
    "#### Arguments - rules"
   ]
  },
  {
   "cell_type": "code",
   "execution_count": null,
   "metadata": {},
   "outputs": [],
   "source": [
    "def multiply_3_numbers(nr1, nr2, nr3=3):\n",
    "    \"\"\"This function multiplies three numbers (nr1, nr2, nr3).\"\"\"\n",
    "    return nr1 * nr2 * nr3\n",
    "\n",
    "result1 = multiply_3_numbers(2, 4)\n",
    "print(result1) \n",
    "# Output: 24\n",
    "\n",
    "result2 = multiply_3_numbers(2, 4, 4) \n",
    "print(result2)\n",
    "# Output: 32"
   ]
  },
  {
   "cell_type": "code",
   "execution_count": null,
   "metadata": {},
   "outputs": [],
   "source": [
    "def multiply_3_numbers(nr1, nr2, nr3=3):\n",
    "    \"\"\"Multiplies three numbers.\"\"\"\n",
    "    return nr1 * nr2 * nr3\n",
    "\n",
    "multiply_3_numbers(4, 1)"
   ]
  },
  {
   "cell_type": "markdown",
   "metadata": {},
   "source": [
    "#### **Args* - Positional Arguments of Variable Length"
   ]
  },
  {
   "cell_type": "code",
   "execution_count": null,
   "metadata": {},
   "outputs": [],
   "source": [
    "def multiply_numbers(*args):\n",
    "    \"\"\"This function multiplies number(s) passed as argument(s).\"\"\"\n",
    "    total = 1\n",
    "    for num in args:\n",
    "        total *= num\n",
    "    return total\n",
    "\n",
    "result = multiply_numbers(1, 2, 3, 4, 5)\n",
    "print(result)  # Output: 120\n",
    "\n",
    "numbers = (1, 2, 3, 4, 5)\n",
    "print(multiply_numbers(*numbers))  # Output: 120\n",
    "\n",
    "numbers = [1, 2, 3, 4, 5]\n",
    "print(multiply_numbers(*numbers))  # Output: 120\n",
    "\n",
    "numbers = {1, 2, 3, 4, 5}\n",
    "print(multiply_numbers(*numbers))  # Output: 120"
   ]
  },
  {
   "cell_type": "markdown",
   "metadata": {},
   "source": [
    "***Kwargs* – Keyword Arguments of Variable Length"
   ]
  },
  {
   "cell_type": "code",
   "execution_count": null,
   "metadata": {},
   "outputs": [],
   "source": [
    "def print_info(**kwargs):\n",
    "    \"\"\"This function prints information.\"\"\"\n",
    "    for key, value in kwargs.items():\n",
    "        print(f\"{key} = {value}\")\n",
    "\n",
    "print_info(first_name=\"Catarina\", last_name=\"Gouveia\")\n",
    "# Output: first_name = Catarina\n",
    "#          last_name = Gouveia\n",
    "\n",
    "info = {\"first name\": \"Catarina\", \"last name\": \"Gouveia\"}\n",
    "print_info(**info)\n",
    "# Output: first name = Catarina\n",
    "#          last name = Gouveia"
   ]
  },
  {
   "cell_type": "code",
   "execution_count": null,
   "metadata": {},
   "outputs": [],
   "source": [
    "# Alternatively, you can define the function to receive and handle specific arguments\n",
    "def print_info_2(**kwargs):\n",
    "    first_name = kwargs.get('first_name')\n",
    "    last_name = kwargs.get('last_name')\n",
    "    \n",
    "    print(first_name)\n",
    "    print(last_name)\n",
    "    \n",
    "print_info_2(first_name='Catarina', last_name='Gouveia')\n",
    "print()\n",
    "print_info_2(first_name='Eduardo', last_name='Martins', age=18, profession='engineer')\n",
    "print()\n",
    "print_info_2(first_name='Eduardo', age=18, profession='engineer')\n",
    "# Note that in this last case, since the \"last_name\" variable was not passed, last_name will be None"
   ]
  },
  {
   "cell_type": "markdown",
   "metadata": {},
   "source": [
    "### Comments and docstrings"
   ]
  },
  {
   "cell_type": "code",
   "execution_count": null,
   "metadata": {},
   "outputs": [],
   "source": [
    "def sum(a, b):\n",
    "    \"\"\"\n",
    "    Returns the sum of two numbers.\n",
    "\n",
    "    This function takes two numbers, 'a' and 'b', and returns their sum.\n",
    "\n",
    "    Parameters:\n",
    "    a (int, float): The first number to be added.\n",
    "    b (int, float): The second number to be added.\n",
    "\n",
    "    Returns:\n",
    "    int or float: The sum of numbers 'a' and 'b'.\n",
    "\n",
    "    Examples:\n",
    "    >>> sum(2, 3)\n",
    "    5\n",
    "    >>> sum(1.5, 2.5)\n",
    "    4.0\n",
    "    \"\"\"\n",
    "    return a + b"
   ]
  },
  {
   "cell_type": "code",
   "execution_count": null,
   "metadata": {},
   "outputs": [],
   "source": [
    "print(sum(2,3))"
   ]
  },
  {
   "cell_type": "markdown",
   "metadata": {},
   "source": [
    "### Lambda Functions"
   ]
  },
  {
   "cell_type": "code",
   "execution_count": null,
   "metadata": {},
   "outputs": [],
   "source": [
    "# Define a function\n",
    "def square_of_two(num):\n",
    "    \"\"\"This function calculates the square of a number.\"\"\"\n",
    "    return num ** 2\n",
    "\n",
    "# Replace the above function with a lambda function\n",
    "square_of_two_lambda = lambda num: num ** 2\n",
    "print(square_of_two(3))\n",
    "print(square_of_two_lambda(3))"
   ]
  },
  {
   "cell_type": "code",
   "execution_count": null,
   "metadata": {},
   "outputs": [],
   "source": [
    "words = [\"strawberry\", \"apple\", \"blackberry\", \"banana\"] \n",
    "words_plural = list(map(lambda p: p + \"s\", words))\n",
    "print(words_plural)\n",
    "# Output: [\"strawberrys\", \"apples\", \"blackberrys\", \"bananas\"] "
   ]
  },
  {
   "cell_type": "code",
   "execution_count": null,
   "metadata": {},
   "outputs": [],
   "source": [
    "words = [\"strawberry\", \"apple\", \"blackberry\", \"banana\"] \n",
    "words_ordenadas = sorted(words, key = lambda word: len(word))\n",
    "print(words_ordenadas)\n",
    "# Output: [\"apple\", \"banana\", \"blackberry\", \"strawberry\"]"
   ]
  },
  {
   "cell_type": "code",
   "execution_count": null,
   "metadata": {},
   "outputs": [],
   "source": [
    "add = lambda x, y: x + y\n",
    "result = add(5, 3)\n",
    "print(result)\n",
    "# Output: 8"
   ]
  },
  {
   "cell_type": "markdown",
   "metadata": {},
   "source": [
    "`map()`"
   ]
  },
  {
   "cell_type": "code",
   "execution_count": null,
   "metadata": {},
   "outputs": [],
   "source": [
    "numbers = range(1, 6) # equivalent to [1, 2, 3, 4, 5]\n",
    "print(list(numbers))\n",
    "\n",
    "doubles = map(lambda x: x*2, numbers)\n",
    "print(list(doubles))"
   ]
  },
  {
   "cell_type": "markdown",
   "metadata": {},
   "source": [
    "`filter()`"
   ]
  },
  {
   "cell_type": "code",
   "execution_count": null,
   "metadata": {},
   "outputs": [],
   "source": [
    "numbers = range(1, 11)\n",
    "evens = filter(lambda x: x % 2 == 0, numbers)\n",
    "print(list(evens))"
   ]
  },
  {
   "cell_type": "markdown",
   "metadata": {},
   "source": [
    "`reduce()`"
   ]
  },
  {
   "cell_type": "code",
   "execution_count": null,
   "metadata": {},
   "outputs": [],
   "source": [
    "from functools import reduce\n",
    "\n",
    "numbers = [1, 2, 3, 4, 5]\n",
    "red = reduce(lambda x, y: x + y, numbers)\n",
    "print(red)"
   ]
  },
  {
   "cell_type": "markdown",
   "metadata": {},
   "source": [
    "### Recursive functions"
   ]
  },
  {
   "cell_type": "code",
   "execution_count": null,
   "metadata": {},
   "outputs": [],
   "source": [
    "def factorial(n):\n",
    "    # Base case: if n is 0 or 1, the factorial is 1\n",
    "    if n == 0 or n == 1:\n",
    "        return 1\n",
    "    # Recursive case: calls the factorial function with n-1 and multiplies by n\n",
    "    else:\n",
    "        return n * factorial(n - 1)\n",
    "\n",
    "# Example of usage\n",
    "result = factorial(5)\n",
    "print(\"The factorial of 5 is:\", result)"
   ]
  },
  {
   "cell_type": "markdown",
   "metadata": {},
   "source": [
    "# Big-O Notation"
   ]
  },
  {
   "cell_type": "code",
   "execution_count": null,
   "metadata": {},
   "outputs": [],
   "source": [
    "def sum_list(lst):\n",
    "    total = 0\n",
    "    for element in lst:\n",
    "        total += element\n",
    "    return total"
   ]
  },
  {
   "cell_type": "markdown",
   "metadata": {},
   "source": [
    "**Explanation:**\n",
    "\n",
    "The function iterates through each element of the list once, adding it to the total. Therefore, the execution time of the function is directly proportional to the number of elements in the list, denoted as $n$.\n",
    "\n",
    "Thus, the time complexity of the sum_list function is $O(n)$, where $n$ is the size of the list.\n",
    "\n",
    "This means that the execution time increases linearly with the increase in the size of the list. If the list has twice as many elements, the function will take approximately twice as long to execute. Even if the list has millions of elements, the execution time of the sum_list function will be directly proportional to the number of elements in the list, without depending on other factors."
   ]
  },
  {
   "cell_type": "code",
   "execution_count": null,
   "metadata": {},
   "outputs": [],
   "source": [
    "def print_pairs(lst):\n",
    "    for i in range(len(lst)):\n",
    "        for j in range(len(lst)):\n",
    "            print(lst[i], lst[j])"
   ]
  },
  {
   "cell_type": "markdown",
   "metadata": {},
   "source": [
    "**Explanation:**\n",
    "\n",
    "The first `for` loop iterates over all elements of the list, which takes $O(n)$ operations, where $n$ is the size of the list.\n",
    "\n",
    "Within this loop, there is another `for` loop that iterates again over all elements of the list and also performs $O(n)$ operations.\n",
    "\n",
    "Since both `for` loops are nested, the function performs $O(n * n)$ operations in total.\n",
    "\n",
    "Therefore, the time complexity of the `print_pairs` function is $O(n^2)$, where $n$ is the size of the list.\n",
    "\n",
    "This means that the execution time increases quadratically with the increase in the size of the list. If the list doubles in size, the function will take approximately four times longer to execute."
   ]
  },
  {
   "cell_type": "markdown",
   "metadata": {},
   "source": [
    "# Object Oriented Programming"
   ]
  },
  {
   "cell_type": "markdown",
   "metadata": {},
   "source": [
    "## Classes"
   ]
  },
  {
   "cell_type": "markdown",
   "metadata": {},
   "source": [
    "### Example - Creating the Car Class\n",
    "Represents a car"
   ]
  },
  {
   "cell_type": "code",
   "execution_count": null,
   "metadata": {},
   "outputs": [],
   "source": [
    "class Car:\n",
    "    def __init__(self, brand, model, year, color):\n",
    "        self.brand = brand\n",
    "        self.model = model\n",
    "        self.year = year\n",
    "        self.color = color\n",
    "        self.speed = 0\n",
    "        \n",
    "    def accelerate(self, increment):\n",
    "        \"\"\"Accelerates the car.\"\"\"\n",
    "        self.speed += increment\n",
    "    \n",
    "    def decelerate(self, decrement):\n",
    "        \"\"\"Decelerates the car.\"\"\"\n",
    "        self.speed -= decrement"
   ]
  },
  {
   "cell_type": "markdown",
   "metadata": {},
   "source": [
    "Example - Python *built-in*"
   ]
  },
  {
   "cell_type": "code",
   "execution_count": null,
   "metadata": {},
   "outputs": [],
   "source": [
    "example = [1, \"a\", {\"blackberry\": 0}, [1, 2, 3], (2, 3, 5)] \n",
    "print([type(x) for x in example])\n",
    "# [<class ‘int’>, <class ‘str’>, <class ‘dict’>, <class ‘list’>, <class ‘tuple’>]"
   ]
  },
  {
   "cell_type": "markdown",
   "metadata": {},
   "source": [
    "Example - Python Numpy"
   ]
  },
  {
   "cell_type": "code",
   "execution_count": null,
   "metadata": {},
   "outputs": [],
   "source": [
    "# Note: run the following line to install the library (if you don't have it installed already)\n",
    "!pip install numpy"
   ]
  },
  {
   "cell_type": "code",
   "execution_count": null,
   "metadata": {},
   "outputs": [],
   "source": [
    "import numpy as np\n",
    "\n",
    "# Create a numpy array\n",
    "my_array = np.array([1, 2, 3, 4, 5])"
   ]
  },
  {
   "cell_type": "code",
   "execution_count": null,
   "metadata": {},
   "outputs": [],
   "source": [
    "# Access the \"shape\" attribute\n",
    "shape = my_array.shape\n",
    "print(shape)"
   ]
  },
  {
   "cell_type": "code",
   "execution_count": null,
   "metadata": {},
   "outputs": [],
   "source": [
    "# Invoke the \"sum\" method to calculate the sum of elements\n",
    "sum = my_array.sum()"
   ]
  },
  {
   "cell_type": "markdown",
   "metadata": {},
   "source": [
    "### Example - Class Person"
   ]
  },
  {
   "cell_type": "code",
   "execution_count": null,
   "metadata": {},
   "outputs": [],
   "source": [
    "class Person:\n",
    "    def __init__(self, name, age, profession):\n",
    "        self.name = name\n",
    "        self.age = age\n",
    "        self.profession = profession\n",
    "        \n",
    "    def work(self):\n",
    "        print(f\"{self.name} works as a {self.profession}.\")"
   ]
  },
  {
   "cell_type": "code",
   "execution_count": null,
   "metadata": {},
   "outputs": [],
   "source": [
    "# Creating the person1 object\n",
    "person1 = Person(\"Jessica\", 33, \"Engineer\")\n",
    "person1.work()"
   ]
  },
  {
   "cell_type": "code",
   "execution_count": null,
   "metadata": {},
   "outputs": [],
   "source": [
    "# Note: check what happens if you only call work:\n",
    "person1.work"
   ]
  },
  {
   "cell_type": "code",
   "execution_count": null,
   "metadata": {},
   "outputs": [],
   "source": [
    "# Creating the person3 object\n",
    "person1 = Person(\"Eduardo\", 42, \"Engineer\")\n",
    "person1.work()"
   ]
  },
  {
   "cell_type": "markdown",
   "metadata": {},
   "source": [
    "### Classes - call methods"
   ]
  },
  {
   "cell_type": "code",
   "execution_count": null,
   "metadata": {},
   "outputs": [],
   "source": [
    "class Animal:\n",
    "    def __init__(self, name, age):\n",
    "        self.name = name\n",
    "        self.age = age\n",
    "        \n",
    "    def make_sound(self):\n",
    "        return f\"{self.name} emits a sound.\"\n",
    "        \n",
    "    def move(self):\n",
    "        return f\"{self.name} moves.\"\n",
    "    \n",
    "    def info(self):\n",
    "        return f\"{self.name} is {self.age} years old.\""
   ]
  },
  {
   "cell_type": "code",
   "execution_count": null,
   "metadata": {},
   "outputs": [],
   "source": [
    "# Initialize the class and call methods\n",
    "animal1 = Animal(\"Dog\", 5)\n",
    "print(animal1.make_sound())\n",
    "print(animal1.move())\n",
    "print(animal1.info())"
   ]
  },
  {
   "cell_type": "markdown",
   "metadata": {},
   "source": [
    "### Special Methods"
   ]
  },
  {
   "cell_type": "code",
   "execution_count": null,
   "metadata": {},
   "outputs": [],
   "source": [
    "class Animal:\n",
    "    def __init__(self, nome, idade):\n",
    "        self.nome = nome\n",
    "        self.idade = idade\n",
    "        \n",
    "    def __str__(self):\n",
    "        return f\"{self.nome}, {self.idade} years old.\"\n",
    "    \n",
    "    def __eq__(self, other):\n",
    "        return self.nome == other.nome and self.idade == other.idade"
   ]
  },
  {
   "cell_type": "code",
   "execution_count": null,
   "metadata": {},
   "outputs": [],
   "source": [
    "# Initializing the class and calling methods\n",
    "animal1 = Animal(\"Dog\", 5)\n",
    "animal2 = Animal(\"Cat\", 3)\n",
    "print(str(animal1))\n",
    "print(animal1 == animal2)\n",
    "animal3 = Animal(\"Dog\", 5)\n",
    "print(animal1 == animal3)"
   ]
  },
  {
   "cell_type": "markdown",
   "metadata": {},
   "source": [
    "### Hierarchy and inheritance"
   ]
  },
  {
   "cell_type": "code",
   "execution_count": null,
   "metadata": {},
   "outputs": [],
   "source": [
    "class Animal:\n",
    "    def __init__(self, nome):\n",
    "        self.nome = nome\n",
    "        \n",
    "    def make_sound(self):\n",
    "        return f\"{self.nome} makes a sound.\"\n",
    "        \n",
    "    def eat(self, food):\n",
    "        self.food = food\n",
    "        return f\"{self.nome} eats {self.food}.\""
   ]
  },
  {
   "cell_type": "code",
   "execution_count": null,
   "metadata": {},
   "outputs": [],
   "source": [
    "class Cat(Animal):\n",
    "    def sleep(self, hours):\n",
    "        self.sleep_time = hours\n",
    "        return f\"The cat will be sleeping for {hours} hours.\""
   ]
  },
  {
   "cell_type": "code",
   "execution_count": null,
   "metadata": {},
   "outputs": [],
   "source": [
    "class Dog(Animal):\n",
    "    def __init__(self, name, breed):\n",
    "        super().__init__(name)  # Call the constructor of the superclass\n",
    "        self.breed = breed\n",
    "    \n",
    "    def make_sound(self):\n",
    "        return f\"{self.name} barks.\""
   ]
  },
  {
   "cell_type": "markdown",
   "metadata": {},
   "source": [
    "1. What are the attributes and methods available in the Animal class?\n",
    "2. What are the attributes and methods available for the Cat class?\n",
    "3. And for the Dog class?\n",
    "4. What are the differences between the Dog and Cat classes?\n",
    "5. Create an object of the Dog class and an object of the Cat class. Call their methods make_sound(), respectively.\n",
    "6. Create a Bird class that has a method sleep() and a method make_sound() - they should be representative of a bird."
   ]
  },
  {
   "cell_type": "code",
   "execution_count": null,
   "metadata": {},
   "outputs": [],
   "source": [
    "dog1 = Dog(\"Bobby\", \"Golden Retriever\")\n",
    "cat1 = Cat(\"Iris\")\n",
    "print(f\"{dog1.nome} - {dog1.raca}\")\n",
    "print(cat1.nome)\n",
    "\n",
    "print(cat1.make_sound())\n",
    "print(cat1.eat(\"ovo\"))\n",
    "print(cat1.sleep(8))\n",
    "\n",
    "print(dog1.make_sound())\n",
    "print(dog1.eat(\"carne\"))\n",
    "\n",
    "# Output:\n",
    "# Bobby - Golden Retriever\n",
    "# Iris\n",
    "\n",
    "# Iris makes a sound.\n",
    "# Iris eats egg.\n",
    "# The cat will sleep for 8 hours.\n",
    "\n",
    "# Bobby barks.\n",
    "# Bobby eats meat."
   ]
  },
  {
   "cell_type": "code",
   "execution_count": null,
   "metadata": {},
   "outputs": [],
   "source": []
  }
 ],
 "metadata": {
  "kernelspec": {
   "display_name": "scc-imageanonymizer-env",
   "language": "python",
   "name": "python3"
  },
  "language_info": {
   "codemirror_mode": {
    "name": "ipython",
    "version": 3
   },
   "file_extension": ".py",
   "mimetype": "text/x-python",
   "name": "python",
   "nbconvert_exporter": "python",
   "pygments_lexer": "ipython3",
   "version": "3.11.2"
  }
 },
 "nbformat": 4,
 "nbformat_minor": 2
}
