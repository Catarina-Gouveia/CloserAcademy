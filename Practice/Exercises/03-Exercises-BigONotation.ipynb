{
 "cells": [
  {
   "cell_type": "markdown",
   "metadata": {},
   "source": [
    "<div>\n",
    "    <img src=\"img/CloserAcademy.png\">\n",
    "</div>"
   ]
  },
  {
   "cell_type": "markdown",
   "metadata": {},
   "source": [
    "## Exercises - Big-O Notation"
   ]
  },
  {
   "cell_type": "markdown",
   "metadata": {},
   "source": [
    "### Exercise 1:\n",
    "Determine the Big O notation for the following function:"
   ]
  },
  {
   "cell_type": "code",
   "execution_count": 1,
   "metadata": {},
   "outputs": [],
   "source": [
    "def sum_list(list):\n",
    "    total = 0\n",
    "    for element in list:\n",
    "        total += element\n",
    "    return total"
   ]
  },
  {
   "cell_type": "markdown",
   "metadata": {},
   "source": [
    "A complexidade da função sum_list() é linear (O(n)) porque percorre cada elemento da lista 1 vez. (constante)\n"
   ]
  },
  {
   "cell_type": "markdown",
   "metadata": {},
   "source": [
    "### Exercise 2:\n",
    "Determine the Big O notation for the following function:"
   ]
  },
  {
   "cell_type": "code",
   "execution_count": 2,
   "metadata": {
    "collapsed": true
   },
   "outputs": [],
   "source": [
    "def sort_list(lst):\n",
    "    sorted_list = sorted(lst)\n",
    "    return sorted_list"
   ]
  },
  {
   "cell_type": "markdown",
   "metadata": {},
   "source": [
    "Esta função utiliza a função sorted() para ordenar a lista de entrada e a operação de ordenação é executada em O(n log n), onde n é o tamanho da lista de entrada. (complexidade temporal logarítmica)"
   ]
  },
  {
   "cell_type": "markdown",
   "metadata": {},
   "source": [
    "### Exercise 3:\n",
    "Determine the Big O notation for the following function:"
   ]
  },
  {
   "cell_type": "code",
   "execution_count": 3,
   "metadata": {},
   "outputs": [],
   "source": [
    "def binary_search(lst, element):\n",
    "    start = 0\n",
    "    end = len(lst) - 1\n",
    "    while start <= end:\n",
    "        mid = (start + end) // 2\n",
    "        if lst[mid] == element:\n",
    "            return True\n",
    "        elif lst[mid] < element:\n",
    "            start = mid + 1\n",
    "        else:\n",
    "            end = mid - 1\n",
    "    return False"
   ]
  },
  {
   "cell_type": "markdown",
   "metadata": {},
   "source": [
    "A função binary_search() tem uma complexidade temporal logarítmica, indicada por O(log n), o que significa que à medida que o tamanho da lista aumenta, o tempo de execução do algoritmo cresce de forma eficiente, pois a busca é realizada em partes cada vez menores da lista."
   ]
  },
  {
   "cell_type": "markdown",
   "metadata": {},
   "source": [
    "### Exercise 4:\n",
    "Determine the Big O notation for the following function."
   ]
  },
  {
   "cell_type": "code",
   "execution_count": 4,
   "metadata": {},
   "outputs": [],
   "source": [
    "def intersection_lists(list1, list2):\n",
    "    intersection = []\n",
    "    for element1 in list1:\n",
    "        for element2 in list2:\n",
    "            if element1 == element2:\n",
    "                intersection.append(element1)\n",
    "    return intersection"
   ]
  },
  {
   "cell_type": "markdown",
   "metadata": {},
   "source": [
    "A função intersection_lists() tem uma complexidade temporal quadrática, indicada por O(n*m). Isso significa que, à medida que o tamanho das listas aumenta, o tempo de execução da função cresce de forma significativa. \n"
   ]
  },
  {
   "cell_type": "markdown",
   "metadata": {},
   "source": []
  }
 ],
 "metadata": {
  "kernelspec": {
   "display_name": "Python 3 (ipykernel)",
   "language": "python",
   "name": "python3"
  },
  "language_info": {
   "codemirror_mode": {
    "name": "ipython",
    "version": 3
   },
   "file_extension": ".py",
   "mimetype": "text/x-python",
   "name": "python",
   "nbconvert_exporter": "python",
   "pygments_lexer": "ipython3",
   "version": "3.11.2"
  },
  "vscode": {
   "interpreter": {
    "hash": "c56527485b7c9dd36c8c8808345694ae9d0a642c0f00dfb6356f9a65494ceb50"
   }
  }
 },
 "nbformat": 4,
 "nbformat_minor": 1
}
