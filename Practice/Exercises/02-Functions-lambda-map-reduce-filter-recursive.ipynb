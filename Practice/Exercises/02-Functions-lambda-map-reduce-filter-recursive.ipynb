{
 "cells": [
  {
   "cell_type": "markdown",
   "metadata": {},
   "source": [
    "<div>\n",
    "    <img src=\"img/CloserAcademy.png\">\n",
    "</div>"
   ]
  },
  {
   "cell_type": "markdown",
   "metadata": {},
   "source": [
    "## Exercises"
   ]
  },
  {
   "cell_type": "markdown",
   "metadata": {},
   "source": [
    "### Lambda Functions"
   ]
  },
  {
   "cell_type": "markdown",
   "metadata": {},
   "source": [
    "1. Define a lambda function that converts a string to uppercase.\n",
    "\n",
    "2. Define a lambda function that calculates the cube of a number.\n",
    "\n",
    "3. Define a lambda function that converts a temperature from Celsius to Fahrenheit."
   ]
  },
  {
   "cell_type": "code",
   "execution_count": 4,
   "metadata": {},
   "outputs": [
    {
     "name": "stdout",
     "output_type": "stream",
     "text": [
      "#1\n",
      "Uppercase String - OLA\n"
     ]
    }
   ],
   "source": [
    "# Solve exercise here\n",
    "#1 \n",
    "uppercase = lambda x : x.upper()\n",
    "\n",
    "print(\"#1\")\n",
    "print(\"Uppercase String -\", uppercase(\"oLa\"))"
   ]
  },
  {
   "cell_type": "code",
   "execution_count": 5,
   "metadata": {},
   "outputs": [
    {
     "name": "stdout",
     "output_type": "stream",
     "text": [
      "#2\n",
      "Cube of a the number 2 is 8\n"
     ]
    }
   ],
   "source": [
    "# Solve exercise here\n",
    "cube_of_number = lambda x : x **3\n",
    "x=2\n",
    "print(\"#2\")\n",
    "print(f\"Cube of a the number {x} is {cube_of_number(x)}\")"
   ]
  },
  {
   "cell_type": "markdown",
   "metadata": {},
   "source": [
    "Help Exercise 3:\n",
    "\n",
    "$F=C*9/5+32$\n",
    "\n",
    "Where:\n",
    "\n",
    "$F$ is the temperature in Fahrenheit,\n",
    "\n",
    "$C$ is the temperature in Celsius."
   ]
  },
  {
   "cell_type": "code",
   "execution_count": 6,
   "metadata": {},
   "outputs": [
    {
     "name": "stdout",
     "output_type": "stream",
     "text": [
      "#3\n",
      "The conversion of 20C to Fahrenheit is 68.0F\n"
     ]
    }
   ],
   "source": [
    "# Solve exercise here\n",
    "#3\n",
    "temp = 20\n",
    "celsius_to_fah = lambda x : ((x)*(9/5)) + 32\n",
    "print(\"#3\")\n",
    "print(f\"The conversion of {temp}C to Fahrenheit is {celsius_to_fah(temp)}F\")"
   ]
  },
  {
   "cell_type": "markdown",
   "metadata": {},
   "source": [
    "`map()`"
   ]
  },
  {
   "cell_type": "markdown",
   "metadata": {},
   "source": [
    "Use each of the lambda functions with an iterable using the built-in function `map()`."
   ]
  },
  {
   "cell_type": "code",
   "execution_count": 7,
   "metadata": {
    "collapsed": true,
    "jupyter": {
     "outputs_hidden": true
    }
   },
   "outputs": [
    {
     "name": "stdout",
     "output_type": "stream",
     "text": [
      "#4\n",
      "['OLA', 'ADEUS', 'ATEJA']\n"
     ]
    }
   ],
   "source": [
    "# Solve exercise here\n",
    "lista = ['ola', 'adeus', 'ateja']\n",
    "\n",
    "print(\"#4\")\n",
    "print(list(map(uppercase, lista)))"
   ]
  },
  {
   "cell_type": "code",
   "execution_count": 8,
   "metadata": {},
   "outputs": [
    {
     "name": "stdout",
     "output_type": "stream",
     "text": [
      "#5\n",
      "[1, 8, 27]\n"
     ]
    }
   ],
   "source": [
    "# Solve exercise here\n",
    "lista = [1,2,3]\n",
    "\n",
    "print(\"#5\")\n",
    "print(list(map(cube_of_number, lista)))"
   ]
  },
  {
   "cell_type": "code",
   "execution_count": 9,
   "metadata": {},
   "outputs": [
    {
     "name": "stdout",
     "output_type": "stream",
     "text": [
      "#6\n",
      "[17.6, 86.0, 104.0, 50.0]\n"
     ]
    }
   ],
   "source": [
    "# Solve exercise here\n",
    "lista = [-8, 30, 40, 10]\n",
    "\n",
    "print(\"#6\")  \n",
    "print(list(map(celsius_to_fah, lista)))"
   ]
  },
  {
   "cell_type": "markdown",
   "metadata": {},
   "source": [
    "`filter()`\n",
    "\n",
    "7. Define a lambda function that checks if a number is even and use it with the filter function to filter out all the even numbers from a list.\n",
    "\n",
    "8. Define a lambda function that checks if a word starts with the letter 'a' and use it with the filter function to filter out all words from a list that start with 'a'.\n",
    "\n",
    "9. Define a lambda function that checks if a number is positive and use it with the filter function to filter out all positive numbers from a list."
   ]
  },
  {
   "cell_type": "code",
   "execution_count": 10,
   "metadata": {},
   "outputs": [
    {
     "name": "stdout",
     "output_type": "stream",
     "text": [
      "#7\n",
      "[2, 4, 6]\n"
     ]
    }
   ],
   "source": [
    "# Solve exercise here\n",
    "listb = [1,2,3,4,5,6]\n",
    "is_even = lambda x: x%2 == 0\n",
    "\n",
    "print(\"#7\")\n",
    "print(list(filter(is_even,listb)))"
   ]
  },
  {
   "cell_type": "code",
   "execution_count": 11,
   "metadata": {},
   "outputs": [
    {
     "name": "stdout",
     "output_type": "stream",
     "text": [
      "#8\n",
      "['adeus', 'ate ja']\n"
     ]
    }
   ],
   "source": [
    "# Solve exercise here\n",
    "listc = [\"ola\", \"adeus\", \"ate ja\"]\n",
    "starts_with_a = lambda x : x.startswith(\"a\")\n",
    "\n",
    "print(\"#8\")\n",
    "print(list(filter(starts_with_a,listc)))"
   ]
  },
  {
   "cell_type": "code",
   "execution_count": 12,
   "metadata": {},
   "outputs": [
    {
     "name": "stdout",
     "output_type": "stream",
     "text": [
      "#9\n",
      "[2, 4, 10]\n"
     ]
    }
   ],
   "source": [
    "# Solve exercise here\n",
    "listd = [-1,2,4,-5,10]\n",
    "positive_numbers = lambda x: x > 0 \n",
    "\n",
    "print(\"#9\")\n",
    "print(list(filter(positive_numbers, listd)))"
   ]
  },
  {
   "cell_type": "markdown",
   "metadata": {},
   "source": [
    "`reduce()`\n",
    "\n",
    "Note: Don't forget to import the `reduce` function from the `functools` module.\n",
    "\n",
    "10. Define a lambda function that calculates the product of two numbers and use it with the `reduce` function to calculate the product of all elements in a list.\n",
    "\n",
    "11. Define a lambda function that finds the maximum of two numbers and use it with the `reduce` function to find the maximum of a list of numbers.\n",
    "\n",
    "12. Define a lambda function that concatenates two strings and use it with the `reduce` function to concatenate all elements of a list of strings."
   ]
  },
  {
   "cell_type": "code",
   "execution_count": 13,
   "metadata": {},
   "outputs": [
    {
     "name": "stdout",
     "output_type": "stream",
     "text": [
      "#10\n",
      "24\n"
     ]
    }
   ],
   "source": [
    "# Solve exercise here\n",
    "import functools as ft \n",
    "listf = [1,2,3,4]\n",
    "product = lambda x, y : x * y\n",
    "\n",
    "print(\"#10\")\n",
    "print(ft.reduce(product,listf))"
   ]
  },
  {
   "cell_type": "code",
   "execution_count": 14,
   "metadata": {},
   "outputs": [
    {
     "name": "stdout",
     "output_type": "stream",
     "text": [
      "#11\n",
      "4\n"
     ]
    }
   ],
   "source": [
    "# Solve exercise here\n",
    "listf = [1,2,3,4]\n",
    "max_between_two_numbers = lambda x,y : max(x,y)\n",
    "\n",
    "print(\"#11\")\n",
    "print(ft.reduce(max_between_two_numbers,listf))"
   ]
  },
  {
   "cell_type": "code",
   "execution_count": 20,
   "metadata": {},
   "outputs": [
    {
     "name": "stdout",
     "output_type": "stream",
     "text": [
      "#12\n",
      "Olá Python\n"
     ]
    }
   ],
   "source": [
    "# Solve exercise here\n",
    "str_list = [\"Olá\", \" \", \"Python\"]\n",
    "concat = lambda x, y: x + y\n",
    "\n",
    "print(\"#12\")\n",
    "print(ft.reduce(concat,str_list))"
   ]
  },
  {
   "cell_type": "markdown",
   "metadata": {},
   "source": [
    "## Recursive Functions:\n",
    "\n",
    "13. Write a recursive function to calculate the nth term of the Fibonacci sequence.\n",
    "\n",
    "14. Write a recursive function to reverse a string."
   ]
  },
  {
   "cell_type": "markdown",
   "metadata": {},
   "source": [
    "The Fibonacci sequence is a series of integers where each number is the sum of the two preceding ones. Formally, the sequence is defined recursively by the following conditions:\n",
    "\n",
    "$F(0)=0$\n",
    "\n",
    "$F(1)=1$\n",
    "\n",
    "$F(n)=F(n−1)+F(n−2)$ for $n>1$"
   ]
  },
  {
   "cell_type": "code",
   "execution_count": 5,
   "metadata": {},
   "outputs": [
    {
     "name": "stdout",
     "output_type": "stream",
     "text": [
      "#13\n",
      "5\n"
     ]
    }
   ],
   "source": [
    "# Solve exercise here\n",
    "\n",
    "def fibonacci(number): \n",
    "    j = 0\n",
    "    if number <= 1:\n",
    "        j = number \n",
    "    else: \n",
    "        j += fibonacci(number - 1) + fibonacci(number - 2)\n",
    "\n",
    "    return j\n",
    "\n",
    "print(\"#13\")\n",
    "print(fibonacci(5))\n",
    "\n"
   ]
  },
  {
   "cell_type": "code",
   "execution_count": 10,
   "metadata": {},
   "outputs": [
    {
     "name": "stdout",
     "output_type": "stream",
     "text": [
      "#14\n",
      "resolC an ohlabart e ocsicnarF o uos ue alO\n"
     ]
    }
   ],
   "source": [
    "# Solve exercise here\n",
    "\n",
    "def reverse_string(string):\n",
    "    new_str = \"\"\n",
    "    if len(string) <= 1: \n",
    "        return string\n",
    "    else:\n",
    "        new_str += (reverse_string(string[1:]) + string[0])\n",
    "    \n",
    "    return new_str\n",
    "\n",
    "\n",
    "print(\"#14\")\n",
    "print(reverse_string(\"Ola eu sou o Francisco e trabalho na Closer\"))"
   ]
  },
  {
   "cell_type": "markdown",
   "metadata": {},
   "source": []
  }
 ],
 "metadata": {
  "kernelspec": {
   "display_name": "Python 3 (ipykernel)",
   "language": "python",
   "name": "python3"
  },
  "language_info": {
   "codemirror_mode": {
    "name": "ipython",
    "version": 3
   },
   "file_extension": ".py",
   "mimetype": "text/x-python",
   "name": "python",
   "nbconvert_exporter": "python",
   "pygments_lexer": "ipython3",
   "version": "3.11.9"
  },
  "vscode": {
   "interpreter": {
    "hash": "c56527485b7c9dd36c8c8808345694ae9d0a642c0f00dfb6356f9a65494ceb50"
   }
  }
 },
 "nbformat": 4,
 "nbformat_minor": 4
}
