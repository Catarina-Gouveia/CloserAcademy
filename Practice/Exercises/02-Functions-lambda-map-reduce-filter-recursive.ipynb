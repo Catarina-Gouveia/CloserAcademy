{
 "cells": [
  {
   "cell_type": "markdown",
   "metadata": {},
   "source": [
    "<div>\n",
    "    <img src=\"img/CloserAcademy.png\">\n",
    "</div>"
   ]
  },
  {
   "cell_type": "markdown",
   "metadata": {},
   "source": [
    "## Exercises"
   ]
  },
  {
   "cell_type": "markdown",
   "metadata": {},
   "source": [
    "### Lambda Functions"
   ]
  },
  {
   "cell_type": "markdown",
   "metadata": {},
   "source": [
    "1. Define a lambda function that converts a string to uppercase.\n",
    "\n",
    "2. Define a lambda function that calculates the cube of a number.\n",
    "\n",
    "3. Define a lambda function that converts a temperature from Celsius to Fahrenheit."
   ]
  },
  {
   "cell_type": "code",
   "execution_count": 1,
   "metadata": {},
   "outputs": [],
   "source": [
    "# Solve exercise here"
   ]
  },
  {
   "cell_type": "code",
   "execution_count": 2,
   "metadata": {},
   "outputs": [],
   "source": [
    "# Solve exercise here"
   ]
  },
  {
   "cell_type": "markdown",
   "metadata": {},
   "source": [
    "Help Exercise 3:\n",
    "\n",
    "$F=C*9/5+32$\n",
    "\n",
    "Where:\n",
    "\n",
    "$F$ is the temperature in Fahrenheit,\n",
    "\n",
    "$C$ is the temperature in Celsius."
   ]
  },
  {
   "cell_type": "code",
   "execution_count": 3,
   "metadata": {},
   "outputs": [],
   "source": [
    "# Solve exercise here"
   ]
  },
  {
   "cell_type": "markdown",
   "metadata": {},
   "source": [
    "`map()`"
   ]
  },
  {
   "cell_type": "markdown",
   "metadata": {},
   "source": [
    "Use each of the lambda functions with an iterable using the built-in function `map()`."
   ]
  },
  {
   "cell_type": "code",
   "execution_count": 4,
   "metadata": {
    "collapsed": true
   },
   "outputs": [],
   "source": [
    "# Solve exercise here"
   ]
  },
  {
   "cell_type": "code",
   "execution_count": 5,
   "metadata": {},
   "outputs": [],
   "source": [
    "# Solve exercise here"
   ]
  },
  {
   "cell_type": "code",
   "execution_count": 6,
   "metadata": {},
   "outputs": [],
   "source": [
    "# Solve exercise here"
   ]
  },
  {
   "cell_type": "markdown",
   "metadata": {},
   "source": [
    "`filter()`\n",
    "\n",
    "7. Define a lambda function that checks if a number is even and use it with the filter function to filter out all the even numbers from a list.\n",
    "\n",
    "8. Define a lambda function that checks if a word starts with the letter 'a' and use it with the filter function to filter out all words from a list that start with 'a'.\n",
    "\n",
    "9. Define a lambda function that checks if a number is positive and use it with the filter function to filter out all positive numbers from a list."
   ]
  },
  {
   "cell_type": "code",
   "execution_count": 7,
   "metadata": {},
   "outputs": [],
   "source": [
    "# Solve exercise here"
   ]
  },
  {
   "cell_type": "code",
   "execution_count": 8,
   "metadata": {},
   "outputs": [],
   "source": [
    "# Solve exercise here"
   ]
  },
  {
   "cell_type": "code",
   "execution_count": 9,
   "metadata": {},
   "outputs": [],
   "source": [
    "# Solve exercise here"
   ]
  },
  {
   "cell_type": "markdown",
   "metadata": {},
   "source": [
    "`reduce()`\n",
    "\n",
    "Note: Don't forget to import the `reduce` function from the `functools` module.\n",
    "\n",
    "10. Define a lambda function that calculates the product of two numbers and use it with the `reduce` function to calculate the product of all elements in a list.\n",
    "\n",
    "11. Define a lambda function that finds the maximum of two numbers and use it with the `reduce` function to find the maximum of a list of numbers.\n",
    "\n",
    "12. Define a lambda function that concatenates two strings and use it with the `reduce` function to concatenate all elements of a list of strings."
   ]
  },
  {
   "cell_type": "code",
   "execution_count": 10,
   "metadata": {},
   "outputs": [],
   "source": [
    "# Solve exercise here"
   ]
  },
  {
   "cell_type": "code",
   "execution_count": 11,
   "metadata": {},
   "outputs": [],
   "source": [
    "# Solve exercise here"
   ]
  },
  {
   "cell_type": "code",
   "execution_count": 12,
   "metadata": {},
   "outputs": [],
   "source": [
    "# Solve exercise here"
   ]
  },
  {
   "cell_type": "markdown",
   "metadata": {},
   "source": [
    "## Recursive Functions:\n",
    "\n",
    "13. Write a recursive function to calculate the nth term of the Fibonacci sequence.\n",
    "\n",
    "14. Write a recursive function to reverse a string."
   ]
  },
  {
   "cell_type": "markdown",
   "metadata": {},
   "source": [
    "The Fibonacci sequence is a series of integers where each number is the sum of the two preceding ones. Formally, the sequence is defined recursively by the following conditions:\n",
    "\n",
    "$F(0)=0$\n",
    "\n",
    "$F(1)=1$\n",
    "\n",
    "$F(n)=F(n−1)+F(n−2)$ for $n>1$"
   ]
  },
  {
   "cell_type": "code",
   "execution_count": 13,
   "metadata": {},
   "outputs": [],
   "source": [
    "# Solve exercise here"
   ]
  },
  {
   "cell_type": "code",
   "execution_count": 14,
   "metadata": {},
   "outputs": [],
   "source": [
    "# Solve exercise here"
   ]
  },
  {
   "cell_type": "markdown",
   "metadata": {},
   "source": []
  }
 ],
 "metadata": {
  "kernelspec": {
   "display_name": "Python 3 (ipykernel)",
   "language": "python",
   "name": "python3"
  },
  "language_info": {
   "codemirror_mode": {
    "name": "ipython",
    "version": 3
   },
   "file_extension": ".py",
   "mimetype": "text/x-python",
   "name": "python",
   "nbconvert_exporter": "python",
   "pygments_lexer": "ipython3",
   "version": "3.11.2"
  },
  "vscode": {
   "interpreter": {
    "hash": "c56527485b7c9dd36c8c8808345694ae9d0a642c0f00dfb6356f9a65494ceb50"
   }
  }
 },
 "nbformat": 4,
 "nbformat_minor": 1
}
