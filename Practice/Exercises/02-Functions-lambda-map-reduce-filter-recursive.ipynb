{
 "cells": [
  {
   "cell_type": "markdown",
   "metadata": {},
   "source": [
    "<div>\n",
    "    <img src=\"img/CloserAcademy.png\">\n",
    "</div>"
   ]
  },
  {
   "cell_type": "markdown",
   "metadata": {},
   "source": [
    "## Exercises"
   ]
  },
  {
   "cell_type": "markdown",
   "metadata": {},
   "source": [
    "### Lambda Functions"
   ]
  },
  {
   "cell_type": "markdown",
   "metadata": {},
   "source": [
    "1. Define a lambda function that converts a string to uppercase.\n",
    "\n",
    "2. Define a lambda function that calculates the cube of a number.\n",
    "\n",
    "3. Define a lambda function that converts a temperature from Celsius to Fahrenheit."
   ]
  },
  {
   "cell_type": "code",
   "execution_count": 1,
   "metadata": {},
   "outputs": [
    {
     "name": "stdout",
     "output_type": "stream",
     "text": [
      "VASCO\n"
     ]
    }
   ],
   "source": [
    "uppercase_converter = lambda phrase: phrase.upper()\n",
    "\n",
    "print(uppercase_converter(\"Vasco\"))"
   ]
  },
  {
   "cell_type": "code",
   "execution_count": 2,
   "metadata": {},
   "outputs": [
    {
     "name": "stdout",
     "output_type": "stream",
     "text": [
      "64\n"
     ]
    }
   ],
   "source": [
    "cube_of_number = lambda num: num ** 3\n",
    "\n",
    "print(cube_of_number(4))"
   ]
  },
  {
   "cell_type": "markdown",
   "metadata": {},
   "source": [
    "Help Exercise 3:\n",
    "\n",
    "$F=C*9/5+32$\n",
    "\n",
    "Where:\n",
    "\n",
    "$F$ is the temperature in Fahrenheit,\n",
    "\n",
    "$C$ is the temperature in Celsius."
   ]
  },
  {
   "cell_type": "code",
   "execution_count": 4,
   "metadata": {},
   "outputs": [
    {
     "name": "stdout",
     "output_type": "stream",
     "text": [
      "77.0\n"
     ]
    }
   ],
   "source": [
    "temp_converter = lambda T: T*9/5 + 32\n",
    "\n",
    "print(temp_converter(25))"
   ]
  },
  {
   "cell_type": "markdown",
   "metadata": {},
   "source": [
    "`map()`"
   ]
  },
  {
   "cell_type": "markdown",
   "metadata": {},
   "source": [
    "Use each of the lambda functions with an iterable using the built-in function `map()`."
   ]
  },
  {
   "cell_type": "code",
   "execution_count": 7,
   "metadata": {
    "collapsed": true
   },
   "outputs": [
    {
     "name": "stdout",
     "output_type": "stream",
     "text": [
      "['OLÁ', 'VASCO', 'ESTÁS', 'A', 'GOSTAR', 'DE', 'PYTHON?']\n"
     ]
    }
   ],
   "source": [
    "phrases = [\"Olá\", \"Vasco\", \"Estás\", \"a\", \"gostar\", \"de\", \"Python?\"]\n",
    "\n",
    "uppercased_phrases = list(map(uppercase_converter, phrases))\n",
    "\n",
    "print(uppercased_phrases)"
   ]
  },
  {
   "cell_type": "code",
   "execution_count": 14,
   "metadata": {},
   "outputs": [
    {
     "name": "stdout",
     "output_type": "stream",
     "text": [
      "[27, 125, 343, 8, 64]\n"
     ]
    }
   ],
   "source": [
    "numbers = [3, 5, 7, 2, 4]\n",
    "\n",
    "cubed_numbers = list(map(cube_of_number, numbers))\n",
    "\n",
    "print(cubed_numbers)"
   ]
  },
  {
   "cell_type": "code",
   "execution_count": 10,
   "metadata": {},
   "outputs": [
    {
     "name": "stdout",
     "output_type": "stream",
     "text": [
      "[32.0, 77.0, 140.0, 212.0]\n"
     ]
    }
   ],
   "source": [
    "temp_C = [0, 25, 60, 100]\n",
    "\n",
    "temp_F = list(map(temp_converter, temp_C))\n",
    "\n",
    "print(temp_F)"
   ]
  },
  {
   "cell_type": "markdown",
   "metadata": {},
   "source": [
    "`filter()`\n",
    "\n",
    "7. Define a lambda function that checks if a number is even and use it with the filter function to filter out all the even numbers from a list.\n",
    "\n",
    "8. Define a lambda function that checks if a word starts with the letter 'a' and use it with the filter function to filter out all words from a list that start with 'a'.\n",
    "\n",
    "9. Define a lambda function that checks if a number is positive and use it with the filter function to filter out all positive numbers from a list."
   ]
  },
  {
   "cell_type": "code",
   "execution_count": 18,
   "metadata": {},
   "outputs": [
    {
     "name": "stdout",
     "output_type": "stream",
     "text": [
      "[4, 6, 12]\n"
     ]
    }
   ],
   "source": [
    "numbers = [4, 3, 7, 6, 9, 12, 15]\n",
    "evens = list(filter(lambda num: num % 2 == 0, numbers))\n",
    "print(evens)"
   ]
  },
  {
   "cell_type": "code",
   "execution_count": 17,
   "metadata": {},
   "outputs": [
    {
     "name": "stdout",
     "output_type": "stream",
     "text": [
      "['abba', 'apple', 'a', 'alicate']\n"
     ]
    }
   ],
   "source": [
    "words = [\"abba\", \"apple\", \"Banana\", \"a\", \"coruja\", \"alicate\", \"corda?\"]\n",
    "words_with_a = list(filter(lambda word: word.startswith(\"a\"), words))\n",
    "print(words_with_a)"
   ]
  },
  {
   "cell_type": "code",
   "execution_count": 21,
   "metadata": {},
   "outputs": [
    {
     "name": "stdout",
     "output_type": "stream",
     "text": [
      "[-3, -7, -9, -15]\n"
     ]
    }
   ],
   "source": [
    "numbers = [4, -3, -7, 6, -9, 12, -15]\n",
    "positives = list(filter(lambda num: num < 0, numbers))\n",
    "print(positives)"
   ]
  },
  {
   "cell_type": "markdown",
   "metadata": {},
   "source": [
    "`reduce()`\n",
    "\n",
    "Note: Don't forget to import the `reduce` function from the `functools` module.\n",
    "\n",
    "10. Define a lambda function that calculates the product of two numbers and use it with the `reduce` function to calculate the product of all elements in a list.\n",
    "\n",
    "11. Define a lambda function that finds the maximum of two numbers and use it with the `reduce` function to find the maximum of a list of numbers.\n",
    "\n",
    "12. Define a lambda function that concatenates two strings and use it with the `reduce` function to concatenate all elements of a list of strings."
   ]
  },
  {
   "cell_type": "code",
   "execution_count": 23,
   "metadata": {},
   "outputs": [
    {
     "name": "stdout",
     "output_type": "stream",
     "text": [
      "84\n"
     ]
    }
   ],
   "source": [
    "from functools import reduce\n",
    "numbers = [4, -3, -7]\n",
    "product = reduce(lambda a, b: a * b, numbers)\n",
    "print(product)"
   ]
  },
  {
   "cell_type": "code",
   "execution_count": 25,
   "metadata": {},
   "outputs": [
    {
     "name": "stdout",
     "output_type": "stream",
     "text": [
      "15\n"
     ]
    }
   ],
   "source": [
    "numbers = [4, 3, 7, 6, 9, 12, 15]\n",
    "maximum = reduce(lambda a, b: a if a > b else b, numbers)\n",
    "print(maximum)"
   ]
  },
  {
   "cell_type": "code",
   "execution_count": 31,
   "metadata": {},
   "outputs": [
    {
     "name": "stdout",
     "output_type": "stream",
     "text": [
      "abba apple Banana a coruja alicate corda?\n"
     ]
    }
   ],
   "source": [
    "words = [\"abba\", \"apple\", \"Banana\", \"a\", \"coruja\", \"alicate\", \"corda?\"]\n",
    "all_words = reduce(lambda a, b: a + \" \" + b, words)\n",
    "print(all_words)"
   ]
  },
  {
   "cell_type": "markdown",
   "metadata": {},
   "source": [
    "## Recursive Functions:\n",
    "\n",
    "13. Write a recursive function to calculate the nth term of the Fibonacci sequence.\n",
    "\n",
    "14. Write a recursive function to reverse a string."
   ]
  },
  {
   "cell_type": "markdown",
   "metadata": {},
   "source": [
    "The Fibonacci sequence is a series of integers where each number is the sum of the two preceding ones. Formally, the sequence is defined recursively by the following conditions:\n",
    "\n",
    "$F(0)=0$\n",
    "\n",
    "$F(1)=1$\n",
    "\n",
    "$F(n)=F(n−1)+F(n−2)$ for $n>1$"
   ]
  },
  {
   "cell_type": "code",
   "execution_count": 32,
   "metadata": {},
   "outputs": [
    {
     "name": "stdout",
     "output_type": "stream",
     "text": [
      "3\n",
      "n has to be a positive integer\n",
      "1\n",
      "21\n",
      "89\n"
     ]
    }
   ],
   "source": [
    "def Fibonacci(n):\n",
    "    if n == 0 or n == 1:\n",
    "        return n\n",
    "    elif n > 1:\n",
    "        return Fibonacci(n-2) + Fibonacci(n-1)\n",
    "    else:\n",
    "        return \"n has to be a positive integer\"\n",
    "\n",
    "print(Fibonacci(4))\n",
    "print(Fibonacci(-4))\n",
    "print(Fibonacci(1))\n",
    "print(Fibonacci(8))\n",
    "print(Fibonacci(11))"
   ]
  },
  {
   "cell_type": "code",
   "execution_count": 35,
   "metadata": {},
   "outputs": [
    {
     "name": "stdout",
     "output_type": "stream",
     "text": [
      "?anoicnuf euq áreS\n"
     ]
    }
   ],
   "source": [
    "def reverse_string(string):\n",
    "    if len(string) <= 1:\n",
    "        return string\n",
    "    return reverse_string(string[1:]) + string[0]\n",
    "\n",
    "print(reverse_string(\"Será que funciona?\"))"
   ]
  },
  {
   "cell_type": "markdown",
   "metadata": {},
   "source": []
  }
 ],
 "metadata": {
  "kernelspec": {
   "display_name": "Python 3 (ipykernel)",
   "language": "python",
   "name": "python3"
  },
  "language_info": {
   "codemirror_mode": {
    "name": "ipython",
    "version": 3
   },
   "file_extension": ".py",
   "mimetype": "text/x-python",
   "name": "python",
   "nbconvert_exporter": "python",
   "pygments_lexer": "ipython3",
   "version": "3.11.9"
  },
  "vscode": {
   "interpreter": {
    "hash": "c56527485b7c9dd36c8c8808345694ae9d0a642c0f00dfb6356f9a65494ceb50"
   }
  }
 },
 "nbformat": 4,
 "nbformat_minor": 1
}
