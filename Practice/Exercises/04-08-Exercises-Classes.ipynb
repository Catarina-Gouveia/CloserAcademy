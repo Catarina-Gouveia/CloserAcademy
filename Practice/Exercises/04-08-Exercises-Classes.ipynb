{
 "cells": [
  {
   "cell_type": "markdown",
   "metadata": {},
   "source": [
    "<div>\n",
    "    <img src=\"img/CloserAcademy.png\">\n",
    "</div>"
   ]
  },
  {
   "cell_type": "markdown",
   "metadata": {},
   "source": [
    "## **Exercises - Classes**\n",
    "\n",
    "Note: This file contains exercises on classes, objects, methods, and hierarchy."
   ]
  },
  {
   "cell_type": "markdown",
   "metadata": {},
   "source": [
    "### **Exercise 1**\n",
    "1. Create an object of the rocket class, defined below, named \"Rocket1\" at coordinates (10, 8).\n",
    "2. Print the coordinates of the rocket.\n",
    "3. Move the rocket - increase 2 units on the x-axis and decrease 1 unit on the y-axis.\n",
    "4. Print the coordinates of the rocket again. Use the methods of the class to perform the exercise."
   ]
  },
  {
   "cell_type": "code",
   "execution_count": 2,
   "metadata": {},
   "outputs": [],
   "source": [
    "class Rocket():\n",
    "     \n",
    "    def __init__(self, x=0, y=0):\n",
    "        self.x = x\n",
    "        self.y = y\n",
    "        \n",
    "    def move_rocket(self, increment_x=0, increment_y=1):\n",
    "        self.x += increment_x\n",
    "        self.y += increment_y\n",
    "        \n",
    "    def print_rocket(self):\n",
    "        print(self.x, self.y)"
   ]
  },
  {
   "cell_type": "code",
   "execution_count": 3,
   "metadata": {},
   "outputs": [
    {
     "name": "stdout",
     "output_type": "stream",
     "text": [
      "10 8\n",
      "12 7\n"
     ]
    }
   ],
   "source": [
    "# Solve exercise here\n",
    "\n",
    "# Create an object  (10, 8)\n",
    "Rocket1 = Rocket(10, 8)\n",
    "\n",
    "# Print the coordinates of the rocket\n",
    "Rocket1.print_rocket()\n",
    "\n",
    "# Move the rocket\n",
    "Rocket1.move_rocket(2, -1)\n",
    "\n",
    "# Print the coordinates of the rocket \n",
    "Rocket1.print_rocket()"
   ]
  },
  {
   "cell_type": "markdown",
   "metadata": {},
   "source": [
    "### **Exercise 2**\n",
    "\n",
    "Create a class for a simple bank account.\n",
    "\n",
    "In Python, create a class called `BankAccount` with the following attributes and methods:\n",
    "\n",
    "Attributes:\n",
    "- `account_number` (unique account number)\n",
    "- `account_holder` (name of the account holder)\n",
    "- `balance` (initial balance)\n",
    "\n",
    "Methods:\n",
    "- `deposit(amount)`: adds the provided amount to the account balance.\n",
    "- `withdraw(amount)`: subtracts the withdrawn amount from the account balance. If the amount is greater than the balance, print \"Insufficient funds!\".\n",
    "- `get_balance()`: Returns the current balance.\n",
    "- `show_account_info()`: Displays the account number, account holder's name, and current balance."
   ]
  },
  {
   "cell_type": "code",
   "execution_count": 1,
   "metadata": {},
   "outputs": [
    {
     "name": "stdout",
     "output_type": "stream",
     "text": [
      "Account Number: 2324545\n",
      "Account Holder: Diogo Santos\n",
      "Balance: 103450000\n",
      "Account Number: 2324545\n",
      "Account Holder: Diogo Santos\n",
      "Balance: 103449800\n"
     ]
    }
   ],
   "source": [
    "# Solve exercise here\n",
    "class BankAccount:\n",
    "    def __init__(self, account_number, account_holder, initial_balance):\n",
    "        self.account_number = account_number\n",
    "        self.account_holder = account_holder\n",
    "        self.balance = initial_balance\n",
    "    \n",
    "    def deposit(self, amount):\n",
    "        self.balance += amount\n",
    "    \n",
    "    def withdraw(self, amount):\n",
    "        if amount <= self.balance:\n",
    "            self.balance -= amount\n",
    "        else:\n",
    "            print(\"Insufficient funds!\")\n",
    "    \n",
    "    def get_balance(self):\n",
    "        return self.balance\n",
    "    \n",
    "    def show_account_info(self):\n",
    "        print(\"Account Number:\", self.account_number)\n",
    "        print(\"Account Holder:\", self.account_holder)\n",
    "        print(\"Balance:\", self.balance)\n",
    "\n"
   ]
  },
  {
   "cell_type": "code",
   "execution_count": 2,
   "metadata": {},
   "outputs": [
    {
     "name": "stdout",
     "output_type": "stream",
     "text": [
      "Account Number: 343454\n",
      "Account Holder: Pedro\n",
      "Balance: 11250000\n",
      "Current balance: 12239000\n"
     ]
    }
   ],
   "source": [
    "# Test class\n",
    "\n",
    "# Create a BankAccount object\n",
    "my_account = BankAccount(\"343454\", \"Pedro\", 11250000)\n",
    "\n",
    "# Show account information\n",
    "my_account.show_account_info()\n",
    "\n",
    "# Deposit 1000000 into the account\n",
    "my_account.deposit(1000000)\n",
    "\n",
    "# Withdraw 200 from the account\n",
    "my_account.withdraw(11000)\n",
    "\n",
    "# Get the current balance\n",
    "current_balance = my_account.get_balance()\n",
    "print(\"Current balance:\", current_balance)"
   ]
  },
  {
   "cell_type": "markdown",
   "metadata": {},
   "source": [
    "### **Exercise 3**\n",
    "Consider the following class:"
   ]
  },
  {
   "cell_type": "code",
   "execution_count": 4,
   "metadata": {
    "collapsed": true
   },
   "outputs": [],
   "source": [
    "class BankCustomer:\n",
    "    def __init__(self, first_name, last_name, age, address):\n",
    "        self.first_name = first_name\n",
    "        self.last_name = last_name\n",
    "        self.age = age\n",
    "        self.address = address\n",
    "\n",
    "    def greeting(self):\n",
    "        return f\"Welcome, {self.first_name} {self.last_name}.\"\n",
    "\n",
    "    def birthday(self):\n",
    "        self.age += 1\n",
    "        return f\"Today is your birthday! Happy birthday, {self.first_name}.\"\n",
    "\n",
    "    def change_address(self, new_address):\n",
    "        self.address = new_address"
   ]
  },
  {
   "cell_type": "markdown",
   "metadata": {},
   "source": [
    "Exercises:\n",
    "1. Change the address from \"Porto\" to \"Lisbon\" and print the updated address.\n",
    "2. Celebrate Manuel's birthday and print his updated age.\n",
    "3. Change Manuel's age to 30 and print his updated age."
   ]
  },
  {
   "cell_type": "code",
   "execution_count": 5,
   "metadata": {},
   "outputs": [
    {
     "name": "stdout",
     "output_type": "stream",
     "text": [
      "Updated address: Lisbon\n",
      "Current age: 26\n",
      "Updated age: 30\n"
     ]
    }
   ],
   "source": [
    "# Solve exercise here\n",
    "# Create a bank customer object\n",
    "nuno_customer = BankCustomer(\"Nuno\", \"Silva\", 25, \"Santarém\")\n",
    "\n",
    "# 1. Change the address from \"Porto\" to \"Lisbon\" and print the updated address.\n",
    "nuno_customer.change_address(\"Lisbon\")\n",
    "print(\"Updated address:\", nuno_customer.address)\n",
    "\n",
    "# 2. Celebrate Manuel's birthday and print his updated age.\n",
    "nuno_customer.birthday()\n",
    "print(\"Current age:\", nuno_customer.age)\n",
    "\n",
    "# 3. Change Manuel's age to 30 and print his updated age.\n",
    "nuno_customer.age = 30\n",
    "print(\"Updated age:\", nuno_customer.age)\n"
   ]
  },
  {
   "cell_type": "markdown",
   "metadata": {},
   "source": [
    "### **Exercise 4 - Hierarchy**\n",
    "Consider the class `BankCustomer` created earlier.\n",
    "\n",
    "1. Define a class `BankAccountCustomer` inherited from `BankCustomer` with additional attributes `account_number` and `balance`.\n",
    "\n",
    "   Implement the methods:\n",
    "   \n",
    "   - `__init__(self, first_name, last_name, age, account_number, balance)`, which initializes a bank account with a name, age, account number, and balance.\n",
    "   - `deposit(self, amount)`, which adds the deposited amount to the account balance.\n",
    "   - `withdrawal(self, amount)`, which subtracts the withdrawn amount from the account balance. If the amount is greater than the balance, print \"insufficient balance!\".\n",
    "   - `display_account_info(self)`, which returns a formatted string with the customer's name, account number, balance, and a greeting. For example, when calling this method, the output could be something like: \"Hello, [customer's name], your account number is [account number] and you have [available balance] available in your account at this moment.\"\n",
    "\n",
    "2. Create objects of this class and apply some of the methods, including calls to superclass methods (`BankCustomer`)."
   ]
  },
  {
   "cell_type": "code",
   "execution_count": 7,
   "metadata": {},
   "outputs": [],
   "source": [
    "# Solve exercise here\n",
    "class BankAccountCustomer(BankCustomer):\n",
    "    def __init__(self, first_name, last_name, age, address, account_number, balance):\n",
    "\n",
    "        super().__init__(first_name, last_name, age, address)  #Construtor\n",
    "        self.account_number = account_number\n",
    "        self.balance = balance\n",
    "\n",
    "    def deposit(self, amount):\n",
    "        self.balance += amount\n",
    "\n",
    "    def withdrawal(self, amount):\n",
    "        if amount > self.balance:\n",
    "            print(\"Insufficient balance!\")\n",
    "        else:\n",
    "            self.balance -= amount\n",
    "\n",
    "    def display_account_info(self):\n",
    "        customer_greeting = super().greeting()\n",
    "        return f\"{customer_greeting} Your account number is {self.account_number} and you have ${self.balance} available in your account at this moment.\""
   ]
  },
  {
   "cell_type": "code",
   "execution_count": 8,
   "metadata": {},
   "outputs": [
    {
     "name": "stdout",
     "output_type": "stream",
     "text": [
      "Welcome, Ana Morgado. Your account number is 544666 and you have $535 available in your account at this moment.\n"
     ]
    }
   ],
   "source": [
    "# Solve exercise here\n",
    "# Create an object of BankAccountCustomer\n",
    "Ana = BankAccountCustomer(\"Ana\", \"Morgado\", 29, \"Rua Dr Melo\", \"544666\", 235)\n",
    "\n",
    "# Make a deposit of 500 into the account\n",
    "Ana.deposit(500)\n",
    "\n",
    "# Withdraw 200 from the account\n",
    "Ana.withdrawal(200)\n",
    "\n",
    "# Display the account information\n",
    "account_info = Ana.display_account_info()\n",
    "print(account_info)"
   ]
  },
  {
   "cell_type": "markdown",
   "metadata": {},
   "source": []
  }
 ],
 "metadata": {
  "kernelspec": {
   "display_name": "Python 3 (ipykernel)",
   "language": "python",
   "name": "python3"
  },
  "language_info": {
   "codemirror_mode": {
    "name": "ipython",
    "version": 3
   },
   "file_extension": ".py",
   "mimetype": "text/x-python",
   "name": "python",
   "nbconvert_exporter": "python",
   "pygments_lexer": "ipython3",
   "version": "3.12.2"
  },
  "vscode": {
   "interpreter": {
    "hash": "c56527485b7c9dd36c8c8808345694ae9d0a642c0f00dfb6356f9a65494ceb50"
   }
  }
 },
 "nbformat": 4,
 "nbformat_minor": 1
}
