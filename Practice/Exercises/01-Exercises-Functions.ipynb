{
 "cells": [
  {
   "cell_type": "markdown",
   "metadata": {},
   "source": [
    "<div>\n",
    "    <img src=\"img/CloserAcademy.png\">\n",
    "</div>"
   ]
  },
  {
   "cell_type": "markdown",
   "metadata": {},
   "source": [
    "## Exercises"
   ]
  },
  {
   "cell_type": "markdown",
   "metadata": {},
   "source": [
    "### Built-in Functions"
   ]
  },
  {
   "cell_type": "markdown",
   "metadata": {},
   "source": [
    "1. Write a function called `largest_value` that takes a list of numbers as an argument and returns the largest value in the list.\n",
    "2. Write a function called `count_words` that takes a string as an argument and returns the number of words in the string.\n",
    "3. Write a function called `sum_of_squares` that takes a list of numbers as an argument and returns the sum of the squares of those numbers.\n",
    "4. Write a function called `mean` that takes a list of numbers as an argument and returns the mean of those numbers.\n",
    "5. Write a function called `sort_list` that takes a list of numbers as an argument and returns a new list containing the same numbers, but in ascending order."
   ]
  },
  {
   "cell_type": "code",
   "execution_count": 6,
   "metadata": {},
   "outputs": [
    {
     "name": "stdout",
     "output_type": "stream",
     "text": [
      "5\n"
     ]
    }
   ],
   "source": [
    "# Solve exercise here\n",
    "def largest_value(lista):\n",
    "    return max(lista)\n",
    "\n",
    "a = largest_value([1,2,5,4,3])\n",
    "print (a)\n"
   ]
  },
  {
   "cell_type": "code",
   "execution_count": 10,
   "metadata": {},
   "outputs": [
    {
     "data": {
      "text/plain": [
       "6"
      ]
     },
     "execution_count": 10,
     "metadata": {},
     "output_type": "execute_result"
    }
   ],
   "source": [
    "# Solve exercise here\n",
    "def count_words(string):\n",
    "    return len(string.split())\n",
    "\n",
    "\n",
    "count_words(\"Eu estou a resolver os exercícios\")"
   ]
  },
  {
   "cell_type": "code",
   "execution_count": 12,
   "metadata": {},
   "outputs": [
    {
     "data": {
      "text/plain": [
       "14"
      ]
     },
     "execution_count": 12,
     "metadata": {},
     "output_type": "execute_result"
    }
   ],
   "source": [
    "# Solve exercise here\n",
    "def sum_of_squares(lista):\n",
    "    return sum(el**2 for el in lista)\n",
    "\n",
    "sum_of_squares([1,2,3])"
   ]
  },
  {
   "cell_type": "code",
   "execution_count": 13,
   "metadata": {
    "collapsed": true
   },
   "outputs": [
    {
     "data": {
      "text/plain": [
       "2.0"
      ]
     },
     "execution_count": 13,
     "metadata": {},
     "output_type": "execute_result"
    }
   ],
   "source": [
    "# Solve exercise here\n",
    "def mean(lista):\n",
    "    return sum(lista)/len(lista)\n",
    "\n",
    "mean([1,2,3])"
   ]
  },
  {
   "cell_type": "code",
   "execution_count": 16,
   "metadata": {},
   "outputs": [
    {
     "data": {
      "text/plain": [
       "[1, 3, 4, 5, 25]"
      ]
     },
     "execution_count": 16,
     "metadata": {},
     "output_type": "execute_result"
    }
   ],
   "source": [
    "# Solve exercise here\n",
    "def sort_list(lista):\n",
    "    return sorted(lista)\n",
    "\n",
    "sort_list([5,3,25,1,4])"
   ]
  },
  {
   "cell_type": "markdown",
   "metadata": {},
   "source": [
    "### User-Defined Functions\n",
    "6. Write a function called `sum_values` that takes three numbers as arguments and returns the sum of those numbers.\n",
    "7. Write a function called `reverse_string` that takes a string as an argument and returns the reversed string.\n",
    "8. Write a function called `calculate_rectangle_area` that takes the length and width of a rectangle as arguments and returns the area of the rectangle.\n",
    "9. Write a function called `check_palindrome` that takes a string as an argument and returns `True` if the string is a palindrome and `False` otherwise.\n",
    "10. Write a function called `multiply_list` that takes a list of numbers as an argument and returns the product of those numbers."
   ]
  },
  {
   "cell_type": "code",
   "execution_count": 17,
   "metadata": {},
   "outputs": [
    {
     "data": {
      "text/plain": [
       "6"
      ]
     },
     "execution_count": 17,
     "metadata": {},
     "output_type": "execute_result"
    }
   ],
   "source": [
    "# Solve exercise here\n",
    "def sum_values(num1, num2, num3):\n",
    "    return num1+num2+num3\n",
    "\n",
    "sum_values(1,2,3)"
   ]
  },
  {
   "cell_type": "code",
   "execution_count": 22,
   "metadata": {},
   "outputs": [
    {
     "data": {
      "text/plain": [
       "'2 alO'"
      ]
     },
     "execution_count": 22,
     "metadata": {},
     "output_type": "execute_result"
    }
   ],
   "source": [
    "# Solve exercise here\n",
    "def reverse_string(string):\n",
    "    return string[::-1]\n",
    "\n",
    "reverse_string(\"Ola\")"
   ]
  },
  {
   "cell_type": "code",
   "execution_count": 23,
   "metadata": {},
   "outputs": [
    {
     "data": {
      "text/plain": [
       "12"
      ]
     },
     "execution_count": 23,
     "metadata": {},
     "output_type": "execute_result"
    }
   ],
   "source": [
    "# Solve exercise here\n",
    "def calculate_rectangle_area(length, width):\n",
    "    return length*width\n",
    "\n",
    "calculate_rectangle_area(6,2)"
   ]
  },
  {
   "cell_type": "code",
   "execution_count": 25,
   "metadata": {},
   "outputs": [
    {
     "name": "stdout",
     "output_type": "stream",
     "text": [
      "True\n",
      "False\n"
     ]
    }
   ],
   "source": [
    "# Solve exercise here\n",
    "def check_palindrome(string):\n",
    "    string = string.lower()\n",
    "    if string == reverse_string(string):\n",
    "        return True\n",
    "    else:\n",
    "        return False\n",
    "    \n",
    "    \n",
    "print(check_palindrome(\"Ana\"))\n",
    "print(check_palindrome(\"Joana\"))"
   ]
  },
  {
   "cell_type": "code",
   "execution_count": 32,
   "metadata": {},
   "outputs": [
    {
     "data": {
      "text/plain": [
       "24"
      ]
     },
     "execution_count": 32,
     "metadata": {},
     "output_type": "execute_result"
    }
   ],
   "source": [
    "# Solve exercise here\n",
    "def multiply_list(lista):\n",
    "    prod = 1\n",
    "    for el in lista:\n",
    "        prod = prod * el\n",
    "    return prod\n",
    "\n",
    "multiply_list([1,2,3,4])"
   ]
  },
  {
   "cell_type": "markdown",
   "metadata": {},
   "source": [
    "### Functions with Different Types of Arguments\n",
    "11. Write a function called `greeting` that takes the `name` and an initial greeting (`initial_greeting`) as mandatory arguments and an optional argument `additional_greeting`. The function should print a customized greeting according to the provided arguments.\n",
    "12. Write a function called `concatenate_strings` that takes two or more strings as arguments and returns a single concatenated string.\n",
    "13. Write a function called `display_info` that accepts a mandatory argument `name` and two optional arguments `age` and `city`. The function should print information about the person, including name, age, and city if provided."
   ]
  },
  {
   "cell_type": "code",
   "execution_count": 36,
   "metadata": {},
   "outputs": [
    {
     "name": "stdout",
     "output_type": "stream",
     "text": [
      "Olá Joana como estás?\n",
      "Hi Mary \n"
     ]
    }
   ],
   "source": [
    "# Solve exercise here\n",
    "def greeting(name, initial_greeting, aditional_greeting = \"\"):\n",
    "    print(f\"{initial_greeting} {name} {aditional_greeting}\")\n",
    "\n",
    "greeting(\"Joana\", \"Olá\", \"como estás?\")\n",
    "greeting(\"Mary\", \"Hi\")"
   ]
  },
  {
   "cell_type": "code",
   "execution_count": 38,
   "metadata": {},
   "outputs": [
    {
     "data": {
      "text/plain": [
       "'Olátudo bem?'"
      ]
     },
     "execution_count": 38,
     "metadata": {},
     "output_type": "execute_result"
    }
   ],
   "source": [
    "# Solve exercise here\n",
    "def concatenate_string(*args):\n",
    "    conc = \"\"\n",
    "    for el in args:\n",
    "        conc = conc + el\n",
    "    return conc\n",
    "\n",
    "concatenate_string(\"Olá\", \"tudo bem\", \"?\")\n",
    "\n"
   ]
  },
  {
   "cell_type": "code",
   "execution_count": 40,
   "metadata": {},
   "outputs": [
    {
     "name": "stdout",
     "output_type": "stream",
     "text": [
      "Name: Maria\n",
      "Name: João\n",
      "Age: 20\n",
      "Name: Francisco\n",
      "City: Lisboa\n",
      "Name: Madalena\n",
      "Age: 30\n",
      "City: Porto\n"
     ]
    }
   ],
   "source": [
    "# Solve exercise here\n",
    "def display_info(name, age = None, city = None):\n",
    "    print(f\"Name: {name}\")\n",
    "    if age != None: \n",
    "        print(f\"Age: {age}\")\n",
    "    if city != None:\n",
    "        print(f\"City: {city}\")\n",
    "\n",
    "display_info(\"Maria\")\n",
    "display_info(\"João\", 20)\n",
    "display_info(\"Francisco\", city = \"Lisboa\")\n",
    "display_info(\"Madalena\", 30, \"Porto\")\n"
   ]
  },
  {
   "cell_type": "markdown",
   "metadata": {},
   "source": [
    "### Extra Exercises\n",
    "14. Write a function called `calculate_weighted_average` that takes two lists: a list of values and a list of corresponding weights. The function should calculate and return the weighted average of the values.\n",
    "15. Write a function called `convert_temperature` that takes a temperature in Celsius degrees as an argument and an optional argument indicating the desired temperature scale (e.g., Fahrenheit or Kelvin). The function should return the temperature converted to the desired scale.\n",
    "16. Write a function called `calculate_age_in_days` that takes a person's age in years, months, and days as arguments and returns the total age in days."
   ]
  },
  {
   "cell_type": "code",
   "execution_count": 43,
   "metadata": {},
   "outputs": [
    {
     "data": {
      "text/plain": [
       "6.214285714285714"
      ]
     },
     "execution_count": 43,
     "metadata": {},
     "output_type": "execute_result"
    }
   ],
   "source": [
    "# Solve exercise here\n",
    "def calculate_weighted_average(values, weights):\n",
    "    #numerador -> Soma do produto dos valores com respetivo weigth\n",
    "    num = 0\n",
    "    for i in range(len(values)):\n",
    "        num += values[i]*weights[i]\n",
    "    #denominador -> Soma dos pesos\n",
    "    den = sum(weights)\n",
    "    return num / den \n",
    "\n",
    "calculate_weighted_average([5,8,7,4],[6,4,3,1])\n"
   ]
  },
  {
   "cell_type": "code",
   "execution_count": 44,
   "metadata": {},
   "outputs": [
    {
     "name": "stdout",
     "output_type": "stream",
     "text": [
      "25\n",
      "298\n",
      "77.0\n"
     ]
    },
    {
     "data": {
      "text/plain": [
       "'Invalid Scale'"
      ]
     },
     "execution_count": 44,
     "metadata": {},
     "output_type": "execute_result"
    }
   ],
   "source": [
    "# Solve exercise here\n",
    "def convert_temperature(temp_c, scale = None):\n",
    "    if scale == None: \n",
    "        return temp_c\n",
    "    elif scale == 'Fahrenheit':\n",
    "        fah = (temp_c * 1.8) + 32\n",
    "        return fah\n",
    "    elif scale == 'Kelvin':\n",
    "        return temp_c + 273\n",
    "    else: \n",
    "        return \"Invalid Scale\"\n",
    "\n",
    "print(convert_temperature(25))\n",
    "print(convert_temperature(25, \"Kelvin\"))\n",
    "print(convert_temperature(25, \"Fahrenheit\"))\n",
    "convert_temperature(25, \"Scale\")"
   ]
  },
  {
   "cell_type": "code",
   "execution_count": 46,
   "metadata": {},
   "outputs": [
    {
     "data": {
      "text/plain": [
       "8584"
      ]
     },
     "execution_count": 46,
     "metadata": {},
     "output_type": "execute_result"
    }
   ],
   "source": [
    "def calculate_age_in_days(age_years, age_months, age_days):\n",
    "    return age_years*365 + age_months*31 + age_days\n",
    "\n",
    "calculate_age_in_days(23,6,3)"
   ]
  },
  {
   "cell_type": "markdown",
   "metadata": {},
   "source": []
  }
 ],
 "metadata": {
  "kernelspec": {
   "display_name": "Python 3 (ipykernel)",
   "language": "python",
   "name": "python3"
  },
  "language_info": {
   "codemirror_mode": {
    "name": "ipython",
    "version": 3
   },
   "file_extension": ".py",
   "mimetype": "text/x-python",
   "name": "python",
   "nbconvert_exporter": "python",
   "pygments_lexer": "ipython3",
   "version": "3.12.2"
  },
  "vscode": {
   "interpreter": {
    "hash": "c56527485b7c9dd36c8c8808345694ae9d0a642c0f00dfb6356f9a65494ceb50"
   }
  }
 },
 "nbformat": 4,
 "nbformat_minor": 1
}
