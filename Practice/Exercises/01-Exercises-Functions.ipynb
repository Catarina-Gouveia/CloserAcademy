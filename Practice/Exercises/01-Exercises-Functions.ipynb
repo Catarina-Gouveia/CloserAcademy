{
 "cells": [
  {
   "cell_type": "markdown",
   "metadata": {},
   "source": [
    "<div>\n",
    "    <img src=\"img/CloserAcademy.png\">\n",
    "</div>"
   ]
  },
  {
   "cell_type": "markdown",
   "metadata": {},
   "source": [
    "## Exercises"
   ]
  },
  {
   "cell_type": "markdown",
   "metadata": {},
   "source": [
    "### Built-in Functions"
   ]
  },
  {
   "cell_type": "markdown",
   "metadata": {},
   "source": [
    "1. Write a function called `largest_value` that takes a list of numbers as an argument and returns the largest value in the list.\n",
    "2. Write a function called `count_words` that takes a string as an argument and returns the number of words in the string.\n",
    "3. Write a function called `sum_of_squares` that takes a list of numbers as an argument and returns the sum of the squares of those numbers.\n",
    "4. Write a function called `mean` that takes a list of numbers as an argument and returns the mean of those numbers.\n",
    "5. Write a function called `sort_list` that takes a list of numbers as an argument and returns a new list containing the same numbers, but in ascending order."
   ]
  },
  {
   "cell_type": "code",
   "execution_count": 2,
   "metadata": {},
   "outputs": [
    {
     "data": {
      "text/plain": [
       "123"
      ]
     },
     "execution_count": 2,
     "metadata": {},
     "output_type": "execute_result"
    }
   ],
   "source": [
    "#1\n",
    "def largest_value(numList):\n",
    "    return max(numList)"
   ]
  },
  {
   "cell_type": "code",
   "execution_count": 6,
   "metadata": {},
   "outputs": [
    {
     "data": {
      "text/plain": [
       "4"
      ]
     },
     "execution_count": 6,
     "metadata": {},
     "output_type": "execute_result"
    }
   ],
   "source": [
    "# 2\n",
    "def count_words(s):\n",
    "    return len(s.strip().split())"
   ]
  },
  {
   "cell_type": "code",
   "execution_count": 9,
   "metadata": {},
   "outputs": [
    {
     "data": {
      "text/plain": [
       "131"
      ]
     },
     "execution_count": 9,
     "metadata": {},
     "output_type": "execute_result"
    }
   ],
   "source": [
    "# 3\n",
    "def sum_of_squares(numList):\n",
    "    return sum([n**2 for n in numList])"
   ]
  },
  {
   "cell_type": "code",
   "execution_count": 12,
   "metadata": {
    "collapsed": true
   },
   "outputs": [
    {
     "data": {
      "text/plain": [
       "10.0"
      ]
     },
     "execution_count": 12,
     "metadata": {},
     "output_type": "execute_result"
    }
   ],
   "source": [
    "# 4\n",
    "def mean(numList):\n",
    "    return sum(numList)/len(numList)"
   ]
  },
  {
   "cell_type": "code",
   "execution_count": 13,
   "metadata": {},
   "outputs": [
    {
     "data": {
      "text/plain": [
       "[1, 2, 3, 28, 45, 67]"
      ]
     },
     "execution_count": 13,
     "metadata": {},
     "output_type": "execute_result"
    }
   ],
   "source": [
    "# 5\n",
    "def sort_list(numList):\n",
    "    return sorted(numList)"
   ]
  },
  {
   "cell_type": "markdown",
   "metadata": {},
   "source": [
    "### User-Defined Functions\n",
    "6. Write a function called `sum_values` that takes three numbers as arguments and returns the sum of those numbers.\n",
    "7. Write a function called `reverse_string` that takes a string as an argument and returns the reversed string.\n",
    "8. Write a function called `calculate_rectangle_area` that takes the length and width of a rectangle as arguments and returns the area of the rectangle.\n",
    "9. Write a function called `check_palindrome` that takes a string as an argument and returns `True` if the string is a palindrome and `False` otherwise.\n",
    "10. Write a function called `multiply_list` that takes a list of numbers as an argument and returns the product of those numbers."
   ]
  },
  {
   "cell_type": "code",
   "execution_count": 6,
   "metadata": {},
   "outputs": [],
   "source": [
    "# 6\n",
    "def sum_values(n1, n2, n3):\n",
    "    return n1 + n2 + n3"
   ]
  },
  {
   "cell_type": "code",
   "execution_count": 16,
   "metadata": {},
   "outputs": [],
   "source": [
    "# 7\n",
    "def reverse_string(s):\n",
    "    return s[::-1]"
   ]
  },
  {
   "cell_type": "code",
   "execution_count": 8,
   "metadata": {},
   "outputs": [],
   "source": [
    "# 8\n",
    "def calculate_rectangle_area(a, b):\n",
    "    return a * b"
   ]
  },
  {
   "cell_type": "code",
   "execution_count": 18,
   "metadata": {},
   "outputs": [
    {
     "data": {
      "text/plain": [
       "False"
      ]
     },
     "execution_count": 18,
     "metadata": {},
     "output_type": "execute_result"
    }
   ],
   "source": [
    "# 9\n",
    "def check_palindrome(s):\n",
    "    return s==s[::-1]"
   ]
  },
  {
   "cell_type": "code",
   "execution_count": 21,
   "metadata": {},
   "outputs": [
    {
     "data": {
      "text/plain": [
       "6.0"
      ]
     },
     "execution_count": 21,
     "metadata": {},
     "output_type": "execute_result"
    }
   ],
   "source": [
    "# 10\n",
    "from functools import reduce\n",
    "def multiply_list(numList):\n",
    "    prod = reduce(lambda x, y: x*y, numList)\n",
    "    return prod"
   ]
  },
  {
   "cell_type": "markdown",
   "metadata": {},
   "source": [
    "### Functions with Different Types of Arguments\n",
    "11. Write a function called `greeting` that takes the `name` and an initial greeting (`initial_greeting`) as mandatory arguments and an optional argument `additional_greeting`. The function should print a customized greeting according to the provided arguments.\n",
    "12. Write a function called `concatenate_strings` that takes two or more strings as arguments and returns a single concatenated string.\n",
    "13. Write a function called `display_info` that accepts a mandatory argument `name` and two optional arguments `age` and `city`. The function should print information about the person, including name, age, and city if provided."
   ]
  },
  {
   "cell_type": "code",
   "execution_count": 31,
   "metadata": {},
   "outputs": [
    {
     "data": {
      "text/plain": [
       "'ola, tomas!'"
      ]
     },
     "execution_count": 31,
     "metadata": {},
     "output_type": "execute_result"
    }
   ],
   "source": [
    "# 11\n",
    "def greeting(name, initial_greeting, aditional_argument=''):\n",
    "    if aditional_argument:\n",
    "        return f'{initial_greeting}, {name}! {aditional_argument}'\n",
    "    else:\n",
    "        return f'{initial_greeting}, {name}!'\n",
    "\n",
    "greeting('tomas', 'ola')"
   ]
  },
  {
   "cell_type": "code",
   "execution_count": 34,
   "metadata": {},
   "outputs": [
    {
     "data": {
      "text/plain": [
       "'a b0s9'"
      ]
     },
     "execution_count": 34,
     "metadata": {},
     "output_type": "execute_result"
    }
   ],
   "source": [
    "# 12\n",
    "def concatenete_strings(s1, *s2):\n",
    "    total_s = s1\n",
    "    for s in s2:\n",
    "        total_s += s\n",
    "    return total_s\n"
   ]
  },
  {
   "cell_type": "code",
   "execution_count": 39,
   "metadata": {},
   "outputs": [
    {
     "name": "stdout",
     "output_type": "stream",
     "text": [
      "name: tomas, age: fig, city: 24\n"
     ]
    }
   ],
   "source": [
    "# S13\n",
    "def display_info(name, age=None, city=None):\n",
    "    info = f'name: {name}'\n",
    "    if age:\n",
    "        info += ', age: '+ str(age)\n",
    "    if city:\n",
    "            info += ', city: '+ str(city)\n",
    "    print(info)"
   ]
  },
  {
   "cell_type": "markdown",
   "metadata": {},
   "source": [
    "### Extra Exercises\n",
    "14. Write a function called `calculate_weighted_average` that takes two lists: a list of values and a list of corresponding weights. The function should calculate and return the weighted average of the values.\n",
    "15. Write a function called `convert_temperature` that takes a temperature in Celsius degrees as an argument and an optional argument indicating the desired temperature scale (e.g., Fahrenheit or Kelvin). The function should return the temperature converted to the desired scale.\n",
    "16. Write a function called `calculate_age_in_days` that takes a person's age in years, months, and days as arguments and returns the total age in days."
   ]
  },
  {
   "cell_type": "code",
   "execution_count": 42,
   "metadata": {},
   "outputs": [
    {
     "data": {
      "text/plain": [
       "5.0"
      ]
     },
     "execution_count": 42,
     "metadata": {},
     "output_type": "execute_result"
    }
   ],
   "source": [
    "# 14\n",
    "def calculate_weighted_average(values, weights):\n",
    "    total=0\n",
    "    for i in range(len(values)):\n",
    "        total += values[i] * weights[i]\n",
    "    return total/sum(weights)"
   ]
  },
  {
   "cell_type": "code",
   "execution_count": 47,
   "metadata": {},
   "outputs": [
    {
     "data": {
      "text/plain": [
       "173.14999999999998"
      ]
     },
     "execution_count": 47,
     "metadata": {},
     "output_type": "execute_result"
    }
   ],
   "source": [
    "# 15\n",
    "def convert_temperature(temp, scale='C'):\n",
    "    if scale == 'K':\n",
    "        return temp + 273.15\n",
    "    elif scale == 'F':\n",
    "        return temp * 9 / 5 + 32\n",
    "    else:\n",
    "        return temp"
   ]
  },
  {
   "cell_type": "code",
   "execution_count": 48,
   "metadata": {},
   "outputs": [
    {
     "data": {
      "text/plain": [
       "7495"
      ]
     },
     "execution_count": 48,
     "metadata": {},
     "output_type": "execute_result"
    }
   ],
   "source": [
    "# 16\n",
    "def calculate_age_in_days(years, months, days):\n",
    "    return years*365 + months*30 + days"
   ]
  },
  {
   "cell_type": "markdown",
   "metadata": {},
   "source": []
  }
 ],
 "metadata": {
  "kernelspec": {
   "display_name": "Python 3 (ipykernel)",
   "language": "python",
   "name": "python3"
  },
  "language_info": {
   "codemirror_mode": {
    "name": "ipython",
    "version": 3
   },
   "file_extension": ".py",
   "mimetype": "text/x-python",
   "name": "python",
   "nbconvert_exporter": "python",
   "pygments_lexer": "ipython3",
   "version": "3.11.7"
  },
  "vscode": {
   "interpreter": {
    "hash": "c56527485b7c9dd36c8c8808345694ae9d0a642c0f00dfb6356f9a65494ceb50"
   }
  }
 },
 "nbformat": 4,
 "nbformat_minor": 1
}
