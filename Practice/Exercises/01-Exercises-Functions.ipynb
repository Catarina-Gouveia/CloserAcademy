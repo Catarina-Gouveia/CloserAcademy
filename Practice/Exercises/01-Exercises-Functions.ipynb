{
 "cells": [
  {
   "cell_type": "markdown",
   "metadata": {},
   "source": [
    "<div>\n",
    "    <img src=\"img/CloserAcademy.png\">\n",
    "</div>"
   ]
  },
  {
   "cell_type": "markdown",
   "metadata": {},
   "source": [
    "## Exercises"
   ]
  },
  {
   "cell_type": "markdown",
   "metadata": {},
   "source": [
    "### Built-in Functions"
   ]
  },
  {
   "cell_type": "markdown",
   "metadata": {},
   "source": [
    "1. Write a function called `largest_value` that takes a list of numbers as an argument and returns the largest value in the list.\n",
    "2. Write a function called `count_words` that takes a string as an argument and returns the number of words in the string.\n",
    "3. Write a function called `sum_of_squares` that takes a list of numbers as an argument and returns the sum of the squares of those numbers.\n",
    "4. Write a function called `mean` that takes a list of numbers as an argument and returns the mean of those numbers.\n",
    "5. Write a function called `sort_list` that takes a list of numbers as an argument and returns a new list containing the same numbers, but in ascending order."
   ]
  },
  {
   "cell_type": "code",
   "execution_count": 69,
   "metadata": {},
   "outputs": [
    {
     "name": "stdout",
     "output_type": "stream",
     "text": [
      "#1\n",
      "Largest Value: 6\n",
      "-------------\n",
      "#2\n",
      "Count Words: 6\n",
      "-------------\n",
      "#3\n",
      "Sum of Squares: 66\n",
      "-------------\n",
      "#4\n",
      "Mean: 0.35714285714285715\n",
      "-------------\n",
      "#5\n",
      "Sorted List: [0, 1, 2, 5, 6]\n"
     ]
    }
   ],
   "source": [
    "# Solve exercise here\n",
    "#1\n",
    "def largest_value(lista):\n",
    "    return max(lista)   \n",
    "\n",
    "lista = [5,6,0,2,1]\n",
    "\n",
    "#2 \n",
    "def count_words(words):\n",
    "    return len(words.strip().split(\" \"))\n",
    "\n",
    "string = \" Ola o meu nome é Francisco \"\n",
    "\n",
    "#3\n",
    "def sum_of_squares(numbers): \n",
    "    j = sum(map(lambda i: i * i, numbers))\n",
    "    return j \n",
    "\n",
    "#4\n",
    "def mean(numbers): \n",
    "    i = sum(numbers)\n",
    "    j = len(numbers) \n",
    "\n",
    "    return j/i\n",
    "\n",
    "#5\n",
    "def sort_list(numbers): \n",
    "    return sorted(numbers)\n",
    "\n",
    "print(\"#1\")\n",
    "print(\"Largest Value:\", largest_value(lista))\n",
    "print(\"-------------\")\n",
    "print(\"#2\")\n",
    "print(\"Count Words:\", count_words(string))\n",
    "print(\"-------------\")\n",
    "print(\"#3\")\n",
    "print(\"Sum of Squares:\", sum_of_squares(lista))\n",
    "print(\"-------------\")\n",
    "print(\"#4\")\n",
    "print(\"Mean:\", mean(lista))\n",
    "print(\"-------------\")\n",
    "print(\"#5\")\n",
    "print(\"Sorted List:\", sort_list(lista))"
   ]
  },
  {
   "cell_type": "markdown",
   "metadata": {},
   "source": [
    "### User-Defined Functions\n",
    "6. Write a function called `sum_values` that takes three numbers as arguments and returns the sum of those numbers.\n",
    "7. Write a function called `reverse_string` that takes a string as an argument and returns the reversed string.\n",
    "8. Write a function called `calculate_rectangle_area` that takes the length and width of a rectangle as arguments and returns the area of the rectangle.\n",
    "9. Write a function called `check_palindrome` that takes a string as an argument and returns `True` if the string is a palindrome and `False` otherwise.\n",
    "10. Write a function called `multiply_list` that takes a list of numbers as an argument and returns the product of those numbers."
   ]
  },
  {
   "cell_type": "code",
   "execution_count": 68,
   "metadata": {},
   "outputs": [
    {
     "name": "stdout",
     "output_type": "stream",
     "text": [
      "#6\n",
      "Sum Values: 3\n",
      "-------------\n",
      "#7\n",
      "Reverse String: alo\n",
      "-------------\n",
      "#8\n",
      "Retangle Area: 12\n",
      "-------------\n",
      "#9\n",
      "Check Palindrome: True\n",
      "-------------\n",
      "#10\n",
      "Multiply List: 60\n"
     ]
    }
   ],
   "source": [
    "# Solve exercise here\n",
    "\n",
    "#6 \n",
    "def sum_values(n1,n2,n3):\n",
    "    return n1+n2+n3\n",
    "\n",
    "#7\n",
    "def reverse_string(word):\n",
    "    return word[::-1]\n",
    "\n",
    "#8 \n",
    "def calculate_rectangle_area(length,width):\n",
    "    return length*width \n",
    "\n",
    "#9 \n",
    "def check_palindrome(word):\n",
    "    if word == word[::-1]:\n",
    "        return True\n",
    "    return False \n",
    "\n",
    "#10 \n",
    "def multiply_list(lista1): \n",
    "    j = 1\n",
    "\n",
    "    for i in lista1: \n",
    "        j *= i\n",
    "\n",
    "    return j \n",
    "\n",
    "print(\"#6\")\n",
    "print(\"Sum Values:\", sum_values(1,1,1))\n",
    "print(\"-------------\")\n",
    "print(\"#7\")\n",
    "print(\"Reverse String:\", reverse_string(\"ola\"))\n",
    "print(\"-------------\")\n",
    "print(\"#8\")\n",
    "print(\"Retangle Area:\", calculate_rectangle_area(3,4))\n",
    "print(\"-------------\")\n",
    "print(\"#9\")\n",
    "print(\"Check Palindrome:\", check_palindrome(\"ala\"))\n",
    "print(\"-------------\")\n",
    "print(\"#10\")\n",
    "print(\"Multiply List:\", multiply_list([5,6,1,2,1]))\n"
   ]
  },
  {
   "cell_type": "markdown",
   "metadata": {},
   "source": [
    "### Functions with Different Types of Arguments\n",
    "11. Write a function called `greeting` that takes the `name` and an initial greeting (`initial_greeting`) as mandatory arguments and an optional argument `additional_greeting`. The function should print a customized greeting according to the provided arguments.\n",
    "12. Write a function called `concatenate_strings` that takes two or more strings as arguments and returns a single concatenated string.\n",
    "13. Write a function called `display_info` that accepts a mandatory argument `name` and two optional arguments `age` and `city`. The function should print information about the person, including name, age, and city if provided."
   ]
  },
  {
   "cell_type": "code",
   "execution_count": 66,
   "metadata": {},
   "outputs": [
    {
     "name": "stdout",
     "output_type": "stream",
     "text": [
      "#11\n",
      "Hello, Francisco!\n",
      "-------------\n",
      "#12\n",
      "FranciscoHelloOLA\n",
      "-------------\n",
      "#13\n",
      "Name - Francisco \n",
      "Age - 22 \n",
      "City - Lisboa\n"
     ]
    }
   ],
   "source": [
    "# Solve exercise here\n",
    "#11 \n",
    "def greeting(name,initial_greeting, additional_greeting = None): \n",
    "    message = f\"{initial_greeting}, {name}!\"\n",
    "    if additional_greeting != None: \n",
    "        message += f\" {additional_greeting}\"\n",
    "    \n",
    "    return message\n",
    "\n",
    "#12\n",
    "def concatenate_strings(*strings):\n",
    "    return ''.join(strings) \n",
    "\n",
    "\n",
    "#13\n",
    "def display_info(name, age=None, city=None): \n",
    "    message = f\"Name - {name} \\n\"\n",
    "\n",
    "    if age: \n",
    "        message += f\"Age - {age} \\n\"\n",
    "    \n",
    "    if city: \n",
    "        message += f\"City - {city}\"\n",
    "    \n",
    "    print(message)\n",
    "\n",
    "print(\"#11\")\n",
    "print(greeting(\"Francisco\", \"Hello\"))\n",
    "print(\"-------------\")\n",
    "print(\"#12\")\n",
    "print(concatenate_strings(\"Francisco\", \"Hello\",\"OLA\"))\n",
    "print(\"-------------\")\n",
    "print(\"#13\")\n",
    "display_info(\"Francisco\", \"22\",\"Lisboa\")"
   ]
  },
  {
   "cell_type": "markdown",
   "metadata": {},
   "source": [
    "### Extra Exercises\n",
    "14. Write a function called `calculate_weighted_average` that takes two lists: a list of values and a list of corresponding weights. The function should calculate and return the weighted average of the values.\n",
    "15. Write a function called `convert_temperature` that takes a temperature in Celsius degrees as an argument and an optional argument indicating the desired temperature scale (e.g., Fahrenheit or Kelvin). The function should return the temperature converted to the desired scale.\n",
    "16. Write a function called `calculate_age_in_days` that takes a person's age in years, months, and days as arguments and returns the total age in days."
   ]
  },
  {
   "cell_type": "code",
   "execution_count": 67,
   "metadata": {},
   "outputs": [
    {
     "name": "stdout",
     "output_type": "stream",
     "text": [
      "#14\n",
      "7.833333333333333\n",
      "-------------\n",
      "#15\n",
      "23\n",
      "-------------\n",
      "#16\n",
      "8386\n"
     ]
    }
   ],
   "source": [
    "# Solve exercise here\n",
    "\n",
    "#14\n",
    "def calculate_weighted_average(values,weights): \n",
    "    counter = 0 \n",
    "    if len(values) != len(weights):\n",
    "        print(\"The lists must have the same length\")\n",
    "        return 0 \n",
    "    \n",
    "    for i in values:\n",
    "        for j in weights: \n",
    "            if list1.index(i) == list2.index(j): \n",
    "                counter += (i*j)\n",
    "    \n",
    "    return counter/sum(weights)\n",
    "\n",
    "list1 = [7, 8, 9]\n",
    "list2 = [2, 3, 1]\n",
    "\n",
    "#15 \n",
    "def convert_temperature(temperature, type=None): \n",
    "    temp = 0\n",
    "\n",
    "    if type.lower() == \"fahrenheit\": \n",
    "        temp = ((temperature)*(9/5)) + 32\n",
    "    elif type.lower() == \"kelvin\": \n",
    "        temp = (temperature) + 273.15\n",
    "    else: \n",
    "        temp = temperature\n",
    "    \n",
    "    return temp\n",
    "\n",
    "#16 \n",
    "def calculate_age_in_days(years,months,days):\n",
    "    days_per_year = 365\n",
    "    days_per_month = 30\n",
    "    age_in_days = (years*365) + (months*30) + days\n",
    "    return age_in_days\n",
    "\n",
    "\n",
    "print(\"#14\")\n",
    "print(calculate_weighted_average(list1, list2))\n",
    "print(\"-------------\")\n",
    "print(\"#15\")\n",
    "print(convert_temperature(23, \"\"))\n",
    "print(\"-------------\")\n",
    "print(\"#16\")\n",
    "print(calculate_age_in_days(22,11,26))\n",
    "\n",
    "\n"
   ]
  },
  {
   "cell_type": "code",
   "execution_count": 15,
   "metadata": {},
   "outputs": [],
   "source": [
    "# Solve exercise here"
   ]
  },
  {
   "cell_type": "code",
   "execution_count": 16,
   "metadata": {},
   "outputs": [],
   "source": [
    "# Solve exercise here"
   ]
  },
  {
   "cell_type": "markdown",
   "metadata": {},
   "source": []
  }
 ],
 "metadata": {
  "kernelspec": {
   "display_name": "Python 3 (ipykernel)",
   "language": "python",
   "name": "python3"
  },
  "language_info": {
   "codemirror_mode": {
    "name": "ipython",
    "version": 3
   },
   "file_extension": ".py",
   "mimetype": "text/x-python",
   "name": "python",
   "nbconvert_exporter": "python",
   "pygments_lexer": "ipython3",
   "version": "3.11.9"
  },
  "vscode": {
   "interpreter": {
    "hash": "c56527485b7c9dd36c8c8808345694ae9d0a642c0f00dfb6356f9a65494ceb50"
   }
  }
 },
 "nbformat": 4,
 "nbformat_minor": 1
}
