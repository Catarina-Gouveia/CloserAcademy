{
 "cells": [
  {
   "cell_type": "markdown",
   "metadata": {},
   "source": [
    "<div>\n",
    "    <img src=\"img/CloserAcademy.png\">\n",
    "</div>"
   ]
  },
  {
   "cell_type": "markdown",
   "metadata": {},
   "source": [
    "## Exercises"
   ]
  },
  {
   "cell_type": "markdown",
   "metadata": {},
   "source": [
    "### Built-in Functions"
   ]
  },
  {
   "cell_type": "markdown",
   "metadata": {},
   "source": [
    "1. Write a function called `largest_value` that takes a list of numbers as an argument and returns the largest value in the list.\n",
    "2. Write a function called `count_words` that takes a string as an argument and returns the number of words in the string.\n",
    "3. Write a function called `sum_of_squares` that takes a list of numbers as an argument and returns the sum of the squares of those numbers.\n",
    "4. Write a function called `mean` that takes a list of numbers as an argument and returns the mean of those numbers.\n",
    "5. Write a function called `sort_list` that takes a list of numbers as an argument and returns a new list containing the same numbers, but in ascending order."
   ]
  },
  {
   "cell_type": "code",
   "execution_count": 1,
   "metadata": {},
   "outputs": [
    {
     "name": "stdout",
     "output_type": "stream",
     "text": [
      "20\n"
     ]
    }
   ],
   "source": [
    "# Solve exercise here\n",
    "def largest_value(lst):\n",
    "    return max(lst)\n",
    "\n",
    "# Test/Result\n",
    "numbers = [10, 5, 8, 20, 15]\n",
    "print(largest_value(numbers))  \n"
   ]
  },
  {
   "cell_type": "code",
   "execution_count": 3,
   "metadata": {},
   "outputs": [
    {
     "name": "stdout",
     "output_type": "stream",
     "text": [
      "4\n"
     ]
    }
   ],
   "source": [
    "# Solve exercise here\n",
    "def count_words(phrase):\n",
    "    words=phrase.split()\n",
    "    return len(words)\n",
    "\n",
    "text=\"My name is Diogo\"\n",
    "\n",
    "print(count_words(text))\n",
    "\n",
    "\n",
    "    "
   ]
  },
  {
   "cell_type": "code",
   "execution_count": 7,
   "metadata": {},
   "outputs": [
    {
     "name": "stdout",
     "output_type": "stream",
     "text": [
      "54\n"
     ]
    }
   ],
   "source": [
    "# Solve exercise here\n",
    "def sum_of_squares(listofnumbers):\n",
    "    return sum(i**2 for i in listofnumbers)\n",
    "\n",
    "\n",
    "list=[2,3,4,5]\n",
    "\n",
    "print(sum_of_squares(list))"
   ]
  },
  {
   "cell_type": "code",
   "execution_count": 8,
   "metadata": {
    "collapsed": true
   },
   "outputs": [
    {
     "name": "stdout",
     "output_type": "stream",
     "text": [
      "4.5\n"
     ]
    }
   ],
   "source": [
    "# Solve exercise here\n",
    "\n",
    "#4. Write a function called `mean` that takes a list of numbers as an argument and returns the mean of those numbers.\n",
    "\n",
    "def mean(list_numbers):\n",
    "    return(sum(list_numbers)/len(list_numbers))\n",
    "\n",
    "mylist=[1,2,3,4,5,6,7,8]\n",
    "\n",
    "print(mean(mylist))\n"
   ]
  },
  {
   "cell_type": "code",
   "execution_count": 9,
   "metadata": {},
   "outputs": [
    {
     "name": "stdout",
     "output_type": "stream",
     "text": [
      "[1, 5, 8, 9, 55, 89, 100]\n"
     ]
    }
   ],
   "source": [
    "# Solve exercise here\n",
    "\n",
    "#5. Write a function called `sort_list` that takes a list of numbers as an argument and returns a new list containing the same numbers, but in ascending order.\n",
    "\n",
    "def sort_list(listnumbers):\n",
    "    return(sorted(mylist))\n",
    "\n",
    "\n",
    "mylist=[8,9,5,1,89,100,55]\n",
    "\n",
    "print(sort_list(mylist))\n"
   ]
  },
  {
   "cell_type": "markdown",
   "metadata": {},
   "source": [
    "### User-Defined Functions\n",
    "6. Write a function called `sum_values` that takes three numbers as arguments and returns the sum of those numbers.\n",
    "7. Write a function called `reverse_string` that takes a string as an argument and returns the reversed string.\n",
    "8. Write a function called `calculate_rectangle_area` that takes the length and width of a rectangle as arguments and returns the area of the rectangle.\n",
    "9. Write a function called `check_palindrome` that takes a string as an argument and returns `True` if the string is a palindrome and `False` otherwise.\n",
    "10. Write a function called `multiply_list` that takes a list of numbers as an argument and returns the product of those numbers."
   ]
  },
  {
   "cell_type": "code",
   "execution_count": 11,
   "metadata": {},
   "outputs": [
    {
     "name": "stdout",
     "output_type": "stream",
     "text": [
      "112\n"
     ]
    }
   ],
   "source": [
    "# Solve exercise here\n",
    "def sum_values(n1, n2, n3):\n",
    "    return n1 + n2 + n3\n",
    "\n",
    "# Test/Result\n",
    "print(sum_values(10, 55, 47)) "
   ]
  },
  {
   "cell_type": "code",
   "execution_count": 12,
   "metadata": {},
   "outputs": [
    {
     "name": "stdout",
     "output_type": "stream",
     "text": [
      "resolC\n"
     ]
    }
   ],
   "source": [
    "# Solve exercise here\n",
    "def reverse_string(text):\n",
    "    return text[::-1]\n",
    "\n",
    "print(reverse_string(\"Closer\"))  "
   ]
  },
  {
   "cell_type": "code",
   "execution_count": 13,
   "metadata": {},
   "outputs": [
    {
     "name": "stdout",
     "output_type": "stream",
     "text": [
      "The rectangle area is:  40\n"
     ]
    }
   ],
   "source": [
    "# Solve exercise here\n",
    "def calculate_rectangle_area(length, width):\n",
    "    return length * width\n",
    "\n",
    "\n",
    "print(\"The rectangle area is: \", calculate_rectangle_area(5, 8))\n"
   ]
  },
  {
   "cell_type": "code",
   "execution_count": 15,
   "metadata": {},
   "outputs": [
    {
     "name": "stdout",
     "output_type": "stream",
     "text": [
      "True\n",
      "False\n"
     ]
    }
   ],
   "source": [
    "# Solve exercise here\n",
    "def check_palindrome(text):\n",
    "    return text == text[::-1]\n",
    "\n",
    "print(check_palindrome(\"AnA\"))  \n",
    "print(check_palindrome(\"Diogo\")) "
   ]
  },
  {
   "cell_type": "code",
   "execution_count": 16,
   "metadata": {},
   "outputs": [
    {
     "name": "stdout",
     "output_type": "stream",
     "text": [
      "120\n"
     ]
    }
   ],
   "source": [
    "# Solve exercise here\n",
    "def multiply_list(numbers):\n",
    "    result = 1\n",
    "    for num in numbers:\n",
    "        result *= num\n",
    "    return result\n",
    "\n",
    "# Test/Result\n",
    "numbers = [1, 2, 3, 4, 5]\n",
    "print(multiply_list(numbers)) "
   ]
  },
  {
   "cell_type": "markdown",
   "metadata": {},
   "source": [
    "### Functions with Different Types of Arguments\n",
    "11. Write a function called `greeting` that takes the `name` and an initial greeting (`initial_greeting`) as mandatory arguments and an optional argument `additional_greeting`. The function should print a customized greeting according to the provided arguments.\n",
    "12. Write a function called `concatenate_strings` that takes two or more strings as arguments and returns a single concatenated string.\n",
    "13. Write a function called `display_info` that accepts a mandatory argument `name` and two optional arguments `age` and `city`. The function should print information about the person, including name, age, and city if provided."
   ]
  },
  {
   "cell_type": "code",
   "execution_count": 17,
   "metadata": {},
   "outputs": [
    {
     "name": "stdout",
     "output_type": "stream",
     "text": [
      "Hello, João!\n",
      "Goodbye, Maria! Have a good night!\n"
     ]
    }
   ],
   "source": [
    "# Solve exercise here\n",
    "def greeting(name, initial_greeting, additional_greeting=None):\n",
    "    greeting_msg = f\"{initial_greeting}, {name}!\"\n",
    "    if additional_greeting:\n",
    "        greeting_msg += f\" {additional_greeting}\"\n",
    "    print(greeting_msg)\n",
    "\n",
    "# Test/Result\n",
    "greeting(\"João\", \"Hello\")\n",
    "greeting(\"Maria\", \"Goodbye\", \"Have a good night!\")\n"
   ]
  },
  {
   "cell_type": "code",
   "execution_count": 25,
   "metadata": {},
   "outputs": [
    {
     "name": "stdout",
     "output_type": "stream",
     "text": [
      "Closerisamazing!\n"
     ]
    }
   ],
   "source": [
    "# Solve exercise here\n",
    "def concatenate_strings(*args):\n",
    "    return ''.join(args)\n",
    "\n",
    "print(concatenate_strings(\"Closer\", \"is\" , \"amazing!\"))"
   ]
  },
  {
   "cell_type": "code",
   "execution_count": 26,
   "metadata": {},
   "outputs": [
    {
     "name": "stdout",
     "output_type": "stream",
     "text": [
      "Name: João, Age: 30, City: São Paulo\n",
      "Name: Maria, City: Rio de Janeiro\n"
     ]
    }
   ],
   "source": [
    "# Solve exercise here\n",
    "def display_info(name, age=None, city=None):\n",
    "    info = f\"Name: {name}\"\n",
    "    if age:\n",
    "        info += f\", Age: {age}\"\n",
    "    if city:\n",
    "        info += f\", City: {city}\"\n",
    "    print(info)\n",
    "\n",
    "# Test/Result\n",
    "display_info(\"João\", 30, \"São Paulo\")\n",
    "display_info(\"Maria\", city=\"Rio de Janeiro\")"
   ]
  },
  {
   "cell_type": "markdown",
   "metadata": {},
   "source": [
    "### Extra Exercises\n",
    "14. Write a function called `calculate_weighted_average` that takes two lists: a list of values and a list of corresponding weights. The function should calculate and return the weighted average of the values.\n",
    "15. Write a function called `convert_temperature` that takes a temperature in Celsius degrees as an argument and an optional argument indicating the desired temperature scale (e.g., Fahrenheit or Kelvin). The function should return the temperature converted to the desired scale.\n",
    "16. Write a function called `calculate_age_in_days` that takes a person's age in years, months, and days as arguments and returns the total age in days."
   ]
  },
  {
   "cell_type": "code",
   "execution_count": 30,
   "metadata": {},
   "outputs": [
    {
     "name": "stdout",
     "output_type": "stream",
     "text": [
      "7.384615384615385\n"
     ]
    }
   ],
   "source": [
    "# Solve exercise here\n",
    "def calculate_weighted_average(values, weights):\n",
    "    if len(values) != len(weights):\n",
    "        raise ValueError(\"The lists of values and weights must have the same length\")\n",
    "    total = sum(value * weight for value, weight in zip(values, weights))\n",
    "    total_weight = sum(weights)\n",
    "    return total / total_weight\n",
    "\n",
    "values = [4, 6, 10]\n",
    "weights = [3, 4, 6]\n",
    "print(calculate_weighted_average(values, weights))\n",
    "\n",
    "#Weighted average formula:\n",
    "# Média ponderada= (x1*p1)+(x2*p2)+...+(xn*pn)/p1+p2+...+pn"
   ]
  },
  {
   "cell_type": "code",
   "execution_count": 32,
   "metadata": {},
   "outputs": [
    {
     "name": "stdout",
     "output_type": "stream",
     "text": [
      "296.15\n"
     ]
    }
   ],
   "source": [
    "# Solve exercise here\n",
    "\n",
    "#               ---> FUNCTION:\n",
    "\n",
    "def convert_temperature(temp_celsius, scale=\"Fahrenheit\"):\n",
    "\n",
    "    if scale.lower() == \"fahrenheit\":\n",
    "        return (temp_celsius * 9/5) + 32\n",
    "    elif scale.lower() == \"kelvin\":\n",
    "        return temp_celsius + 273.15\n",
    "    else:\n",
    "        raise ValueError(\"Invalid temperature scale\")\n",
    "    \n",
    "#               -----END FUNCTION--------\n",
    "    \n",
    "#         VALUES TO BE INTRODUCED BY THE USER:\n",
    "\n",
    "#              1. Value in Celsius\n",
    "temperatureCº=input(\"Enter temperature in Celsius: \")\n",
    "\n",
    "if temperatureCº.isdigit():\n",
    "        temperatureCº = int(temperatureCº)\n",
    "else:\n",
    "        print(\"Please enter a numeric temperature.\")\n",
    "        \n",
    "#                    2. Scale        \n",
    "scale=input(\"Enter the scale you want to convert: \")\n",
    "\n",
    "#         Print do resultado final convertido:\n",
    "\n",
    "print(convert_temperature(temperatureCo, scale))\n",
    "\n"
   ]
  },
  {
   "cell_type": "code",
   "execution_count": 38,
   "metadata": {},
   "outputs": [
    {
     "name": "stdout",
     "output_type": "stream",
     "text": [
      "Total age in days: 8561\n"
     ]
    }
   ],
   "source": [
    "# Solve exercise here\n",
    "\n",
    "#                   ----- FUNCTION -----\n",
    "\n",
    "def calculate_age_in_days(years, months, days):\n",
    "    # Define the number of days in each month\n",
    "    days_per_month = [31, 28, 31, 30, 31, 30, 31, 31, 30, 31, 30, 31]\n",
    "    \n",
    "    # Calculate the total days for years and months until the previous month of the given month\n",
    "    total_days = years * 365 + sum(days_per_month[:months - 1])\n",
    "    \n",
    "    # Add the rest of the days count\n",
    "    total_days += days\n",
    "    \n",
    "    return total_days\n",
    "\n",
    "#                   ----- END FUNCTION -----\n",
    "\n",
    "#                            TEST:\n",
    "\n",
    "age_in_days = calculate_age_in_days(23, 6, 15)\n",
    "print(\"Total age in days:\", age_in_days)"
   ]
  },
  {
   "cell_type": "markdown",
   "metadata": {},
   "source": []
  }
 ],
 "metadata": {
  "kernelspec": {
   "display_name": "Python 3 (ipykernel)",
   "language": "python",
   "name": "python3"
  },
  "language_info": {
   "codemirror_mode": {
    "name": "ipython",
    "version": 3
   },
   "file_extension": ".py",
   "mimetype": "text/x-python",
   "name": "python",
   "nbconvert_exporter": "python",
   "pygments_lexer": "ipython3",
   "version": "3.12.2"
  },
  "vscode": {
   "interpreter": {
    "hash": "c56527485b7c9dd36c8c8808345694ae9d0a642c0f00dfb6356f9a65494ceb50"
   }
  }
 },
 "nbformat": 4,
 "nbformat_minor": 1
}
