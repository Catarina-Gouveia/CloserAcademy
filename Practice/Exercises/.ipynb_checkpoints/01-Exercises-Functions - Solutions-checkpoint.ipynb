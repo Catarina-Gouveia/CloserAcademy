{
 "cells": [
  {
   "cell_type": "markdown",
   "metadata": {},
   "source": [
    "<div>\n",
    "    <img src=\"img/CloserAcademy.png\">\n",
    "</div>"
   ]
  },
  {
   "cell_type": "markdown",
   "metadata": {},
   "source": [
    "## Exercises"
   ]
  },
  {
   "cell_type": "markdown",
   "metadata": {},
   "source": [
    "### Built-in Functions"
   ]
  },
  {
   "cell_type": "markdown",
   "metadata": {},
   "source": [
    "1. Write a function called `largest_value` that takes a list of numbers as an argument and returns the largest value in the list.\n",
    "2. Write a function called `count_words` that takes a string as an argument and returns the number of words in the string.\n",
    "3. Write a function called `sum_of_squares` that takes a list of numbers as an argument and returns the sum of the squares of those numbers.\n",
    "4. Write a function called `mean` that takes a list of numbers as an argument and returns the mean of those numbers.\n",
    "5. Write a function called `sort_list` that takes a list of numbers as an argument and returns a new list containing the same numbers, but in ascending order."
   ]
  },
  {
   "cell_type": "code",
   "execution_count": 1,
   "metadata": {},
   "outputs": [
    {
     "name": "stdout",
     "output_type": "stream",
     "text": [
      "20\n"
     ]
    }
   ],
   "source": [
    "def largest_value(lst):\n",
    "    return max(lst)\n",
    "\n",
    "# Test/Result\n",
    "numbers = [10, 5, 8, 20, 15]\n",
    "print(largest_value(numbers))  # Output: 20"
   ]
  },
  {
   "cell_type": "code",
   "execution_count": 2,
   "metadata": {},
   "outputs": [
    {
     "name": "stdout",
     "output_type": "stream",
     "text": [
      "6\n"
     ]
    }
   ],
   "source": [
    "def count_words(phrase):\n",
    "    words = phrase.split()\n",
    "    return len(words)\n",
    "\n",
    "# Test/Result\n",
    "text = \"Python is a powerful programming language\"\n",
    "print(count_words(text))  # Output: 6"
   ]
  },
  {
   "cell_type": "code",
   "execution_count": 3,
   "metadata": {},
   "outputs": [
    {
     "name": "stdout",
     "output_type": "stream",
     "text": [
      "55\n"
     ]
    }
   ],
   "source": [
    "def sum_of_squares(lst):\n",
    "    return sum(x ** 2 for x in lst)\n",
    "\n",
    "# Test/Result\n",
    "numbers = [1, 2, 3, 4, 5]\n",
    "print(sum_of_squares(numbers))  # Output: 55"
   ]
  },
  {
   "cell_type": "code",
   "execution_count": 4,
   "metadata": {
    "collapsed": true
   },
   "outputs": [
    {
     "name": "stdout",
     "output_type": "stream",
     "text": [
      "3.0\n"
     ]
    }
   ],
   "source": [
    "# Solve the exercises here\n",
    "def average(lst):\n",
    "    return sum(lst) / len(lst)\n",
    "\n",
    "# Test/Result\n",
    "numbers = [1, 2, 3, 4, 5]\n",
    "print(average(numbers))  # Output: 3.0"
   ]
  },
  {
   "cell_type": "code",
   "execution_count": 5,
   "metadata": {},
   "outputs": [
    {
     "name": "stdout",
     "output_type": "stream",
     "text": [
      "[1, 1, 2, 3, 4, 5, 5, 6, 9]\n"
     ]
    }
   ],
   "source": [
    "# Solve the exercises here\n",
    "def sort_list(number_list):\n",
    "    return sorted(number_list)\n",
    "\n",
    "# Test/Result\n",
    "number_list = [3, 1, 4, 1, 5, 9, 2, 6, 5]\n",
    "print(sort_list(number_list))  # Output: [1, 1, 2, 3, 4, 5, 5, 6, 9]"
   ]
  },
  {
   "cell_type": "markdown",
   "metadata": {},
   "source": [
    "### User-Defined Functions\n",
    "6. Write a function called `sum_values` that takes three numbers as arguments and returns the sum of those numbers.\n",
    "7. Write a function called `reverse_string` that takes a string as an argument and returns the reversed string.\n",
    "8. Write a function called `calculate_rectangle_area` that takes the length and width of a rectangle as arguments and returns the area of the rectangle.\n",
    "9. Write a function called `check_palindrome` that takes a string as an argument and returns `True` if the string is a palindrome and `False` otherwise.\n",
    "10. Write a function called `multiply_list` that takes a list of numbers as an argument and returns the product of those numbers."
   ]
  },
  {
   "cell_type": "code",
   "execution_count": 6,
   "metadata": {},
   "outputs": [
    {
     "name": "stdout",
     "output_type": "stream",
     "text": [
      "15\n"
     ]
    }
   ],
   "source": [
    "def sum_values(num1, num2, num3):\n",
    "    return num1 + num2 + num3\n",
    "\n",
    "# Test/Result\n",
    "print(sum_values(5, 7, 3))  # Output: 15"
   ]
  },
  {
   "cell_type": "code",
   "execution_count": 7,
   "metadata": {},
   "outputs": [
    {
     "name": "stdout",
     "output_type": "stream",
     "text": [
      "nohtyp\n"
     ]
    }
   ],
   "source": [
    "def reverse_string(text):\n",
    "    return text[::-1]\n",
    "\n",
    "# Test/Result\n",
    "print(reverse_string(\"python\"))  # Output: 'nohtyp'"
   ]
  },
  {
   "cell_type": "code",
   "execution_count": 8,
   "metadata": {},
   "outputs": [
    {
     "name": "stdout",
     "output_type": "stream",
     "text": [
      "40\n"
     ]
    }
   ],
   "source": [
    "def calculate_rectangle_area(length, width):\n",
    "    return length * width\n",
    "\n",
    "# Test/Result\n",
    "print(calculate_rectangle_area(5, 8))  # Output: 40"
   ]
  },
  {
   "cell_type": "code",
   "execution_count": 9,
   "metadata": {},
   "outputs": [
    {
     "name": "stdout",
     "output_type": "stream",
     "text": [
      "True\n",
      "False\n"
     ]
    }
   ],
   "source": [
    "def check_palindrome(text):\n",
    "    return text == text[::-1]\n",
    "\n",
    "# Test/Result\n",
    "print(check_palindrome(\"arara\"))  # Output: True\n",
    "print(check_palindrome(\"python\"))  # Output: False"
   ]
  },
  {
   "cell_type": "code",
   "execution_count": 10,
   "metadata": {},
   "outputs": [
    {
     "name": "stdout",
     "output_type": "stream",
     "text": [
      "120\n"
     ]
    }
   ],
   "source": [
    "def multiply_list(numbers):\n",
    "    result = 1\n",
    "    for num in numbers:\n",
    "        result *= num\n",
    "    return result\n",
    "\n",
    "# Test/Result\n",
    "numbers = [1, 2, 3, 4, 5]\n",
    "print(multiply_list(numbers))  # Output: 120"
   ]
  },
  {
   "cell_type": "markdown",
   "metadata": {},
   "source": [
    "### Functions with Different Types of Arguments\n",
    "11. Write a function called `greeting` that takes the `name` and an initial greeting (`initial_greeting`) as mandatory arguments and an optional argument `additional_greeting`. The function should print a customized greeting according to the provided arguments.\n",
    "12. Write a function called `concatenate_strings` that takes two or more strings as arguments and returns a single concatenated string.\n",
    "13. Write a function called `display_info` that accepts a mandatory argument `name` and two optional arguments `age` and `city`. The function should print information about the person, including name, age, and city if provided."
   ]
  },
  {
   "cell_type": "code",
   "execution_count": 11,
   "metadata": {},
   "outputs": [
    {
     "name": "stdout",
     "output_type": "stream",
     "text": [
      "Hello, João!\n",
      "Goodbye, Maria! Have a good night!\n"
     ]
    }
   ],
   "source": [
    "def greeting(name, initial_greeting, additional_greeting=None):\n",
    "    greeting_msg = f\"{initial_greeting}, {name}!\"\n",
    "    if additional_greeting:\n",
    "        greeting_msg += f\" {additional_greeting}\"\n",
    "    print(greeting_msg)\n",
    "\n",
    "# Test/Result\n",
    "greeting(\"João\", \"Hello\")\n",
    "greeting(\"Maria\", \"Goodbye\", \"Have a good night!\")"
   ]
  },
  {
   "cell_type": "code",
   "execution_count": 12,
   "metadata": {},
   "outputs": [
    {
     "name": "stdout",
     "output_type": "stream",
     "text": [
      "Hello, how are you?\n"
     ]
    }
   ],
   "source": [
    "def concatenate_strings(*args):\n",
    "    return ''.join(args)\n",
    "\n",
    "# Test/Result\n",
    "print(concatenate_strings(\"Hello, \", \"how \", \"are \", \"you?\"))"
   ]
  },
  {
   "cell_type": "code",
   "execution_count": 13,
   "metadata": {},
   "outputs": [
    {
     "name": "stdout",
     "output_type": "stream",
     "text": [
      "Name: João, Age: 30, City: São Paulo\n",
      "Name: Maria, City: Rio de Janeiro\n"
     ]
    }
   ],
   "source": [
    "def display_info(name, age=None, city=None):\n",
    "    info = f\"Name: {name}\"\n",
    "    if age:\n",
    "        info += f\", Age: {age}\"\n",
    "    if city:\n",
    "        info += f\", City: {city}\"\n",
    "    print(info)\n",
    "\n",
    "# Test/Result\n",
    "display_info(\"João\", 30, \"São Paulo\")\n",
    "display_info(\"Maria\", city=\"Rio de Janeiro\")"
   ]
  },
  {
   "cell_type": "markdown",
   "metadata": {},
   "source": [
    "### Extra Exercises\n",
    "14. Write a function called `calculate_weighted_average` that takes two lists: a list of values and a list of corresponding weights. The function should calculate and return the weighted average of the values.\n",
    "15. Write a function called `convert_temperature` that takes a temperature in Celsius degrees as an argument and an optional argument indicating the desired temperature scale (e.g., Fahrenheit or Kelvin). The function should return the temperature converted to the desired scale.\n",
    "16. Write a function called `calculate_age_in_days` that takes a person's age in years, months, and days as arguments and returns the total age in days."
   ]
  },
  {
   "cell_type": "code",
   "execution_count": 14,
   "metadata": {},
   "outputs": [
    {
     "name": "stdout",
     "output_type": "stream",
     "text": [
      "7.833333333333333\n"
     ]
    }
   ],
   "source": [
    "def calculate_weighted_average(values, weights):\n",
    "    if len(values) != len(weights):\n",
    "        raise ValueError(\"The lists of values and weights must have the same length\")\n",
    "    total = sum(value * weight for value, weight in zip(values, weights))\n",
    "    total_weight = sum(weights)\n",
    "    return total / total_weight\n",
    "\n",
    "# Test/Result\n",
    "values = [7, 8, 9]\n",
    "weights = [2, 3, 1]\n",
    "print(calculate_weighted_average(values, weights))"
   ]
  },
  {
   "cell_type": "code",
   "execution_count": 15,
   "metadata": {},
   "outputs": [
    {
     "name": "stdout",
     "output_type": "stream",
     "text": [
      "86.0\n",
      "303.15\n"
     ]
    }
   ],
   "source": [
    "def convert_temperature(temp_celsius, scale=\"Fahrenheit\"):\n",
    "    if scale.lower() == \"fahrenheit\":\n",
    "        return (temp_celsius * 9/5) + 32\n",
    "    elif scale.lower() == \"kelvin\":\n",
    "        return temp_celsius + 273.15\n",
    "    else:\n",
    "        raise ValueError(\"Invalid temperature scale\")\n",
    "\n",
    "# Test/Result\n",
    "print(convert_temperature(30, \"Fahrenheit\"))\n",
    "print(convert_temperature(30, \"Kelvin\"))"
   ]
  },
  {
   "cell_type": "code",
   "execution_count": 16,
   "metadata": {},
   "outputs": [
    {
     "name": "stdout",
     "output_type": "stream",
     "text": [
      "7495\n"
     ]
    }
   ],
   "source": [
    "def calculate_age_in_days(years, months, days):\n",
    "    days_per_year = 365\n",
    "    days_per_month = 30\n",
    "    return (years * days_per_year) + (months * days_per_month) + days\n",
    "\n",
    "# Test/Result\n",
    "print(calculate_age_in_days(20, 6, 15))"
   ]
  },
  {
   "cell_type": "markdown",
   "metadata": {},
   "source": []
  }
 ],
 "metadata": {
  "kernelspec": {
   "display_name": "Python 3 (ipykernel)",
   "language": "python",
   "name": "python3"
  },
  "language_info": {
   "codemirror_mode": {
    "name": "ipython",
    "version": 3
   },
   "file_extension": ".py",
   "mimetype": "text/x-python",
   "name": "python",
   "nbconvert_exporter": "python",
   "pygments_lexer": "ipython3",
   "version": "3.11.2"
  },
  "vscode": {
   "interpreter": {
    "hash": "c56527485b7c9dd36c8c8808345694ae9d0a642c0f00dfb6356f9a65494ceb50"
   }
  }
 },
 "nbformat": 4,
 "nbformat_minor": 1
}
