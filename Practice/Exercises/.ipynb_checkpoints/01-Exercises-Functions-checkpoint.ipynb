{
 "cells": [
  {
   "cell_type": "markdown",
   "metadata": {},
   "source": [
    "<div>\n",
    "    <img src=\"img/CloserAcademy.png\">\n",
    "</div>"
   ]
  },
  {
   "cell_type": "markdown",
   "metadata": {},
   "source": [
    "## Exercises"
   ]
  },
  {
   "cell_type": "markdown",
   "metadata": {},
   "source": [
    "### Built-in Functions"
   ]
  },
  {
   "cell_type": "markdown",
   "metadata": {},
   "source": [
    "1. Write a function called `largest_value` that takes a list of numbers as an argument and returns the largest value in the list.\n",
    "2. Write a function called `count_words` that takes a string as an argument and returns the number of words in the string.\n",
    "3. Write a function called `sum_of_squares` that takes a list of numbers as an argument and returns the sum of the squares of those numbers.\n",
    "4. Write a function called `mean` that takes a list of numbers as an argument and returns the mean of those numbers.\n",
    "5. Write a function called `sort_list` that takes a list of numbers as an argument and returns a new list containing the same numbers, but in ascending order."
   ]
  },
  {
   "cell_type": "code",
   "execution_count": 5,
   "metadata": {},
   "outputs": [
    {
     "name": "stdout",
     "output_type": "stream",
     "text": [
      "71\n"
     ]
    }
   ],
   "source": [
    "def largest_value(n):\n",
    "    max = n[0]\n",
    "    for i in n:\n",
    "        if i > max: max = i\n",
    "    return max\n",
    "print(largest_value([1, 71, 9 ,24, 56, 4]))"
   ]
  },
  {
   "cell_type": "code",
   "execution_count": 9,
   "metadata": {},
   "outputs": [
    {
     "data": {
      "text/plain": [
       "3"
      ]
     },
     "execution_count": 9,
     "metadata": {},
     "output_type": "execute_result"
    }
   ],
   "source": [
    "def count_words(word):\n",
    "    temp = word.split()\n",
    "    return len(temp)\n",
    "count_words(\"Avião de Papel\")"
   ]
  },
  {
   "cell_type": "code",
   "execution_count": 11,
   "metadata": {},
   "outputs": [
    {
     "data": {
      "text/plain": [
       "171"
      ]
     },
     "execution_count": 11,
     "metadata": {},
     "output_type": "execute_result"
    }
   ],
   "source": [
    "def sum_of_squares(list):\n",
    "    return sum(x ** 2 for x in list)\n",
    "sum_of_squares([4, 9, 7, 5])"
   ]
  },
  {
   "cell_type": "code",
   "execution_count": 15,
   "metadata": {},
   "outputs": [
    {
     "data": {
      "text/plain": [
       "31.333333333333332"
      ]
     },
     "execution_count": 15,
     "metadata": {},
     "output_type": "execute_result"
    }
   ],
   "source": [
    "def mean(values):\n",
    "    return sum(values) / len(values)\n",
    "mean([1, 10, 78, 2, 46, 51])"
   ]
  },
  {
   "cell_type": "code",
   "execution_count": 18,
   "metadata": {},
   "outputs": [
    {
     "data": {
      "text/plain": [
       "[1, 4, 4, 6, 6, 7, 8, 9]"
      ]
     },
     "execution_count": 18,
     "metadata": {},
     "output_type": "execute_result"
    }
   ],
   "source": [
    "def sort_list(values):\n",
    "    return sorted(values, reverse=False)\n",
    "sort_list([1, 9, 7, 6, 8, 4, 4, 6])"
   ]
  },
  {
   "cell_type": "markdown",
   "metadata": {},
   "source": [
    "### User-Defined Functions\n",
    "6. Write a function called `sum_values` that takes three numbers as arguments and returns the sum of those numbers.\n",
    "7. Write a function called `reverse_string` that takes a string as an argument and returns the reversed string.\n",
    "8. Write a function called `calculate_rectangle_area` that takes the length and width of a rectangle as arguments and returns the area of the rectangle.\n",
    "9. Write a function called `check_palindrome` that takes a string as an argument and returns `True` if the string is a palindrome and `False` otherwise.\n",
    "10. Write a function called `multiply_list` that takes a list of numbers as an argument and returns the product of those numbers."
   ]
  },
  {
   "cell_type": "code",
   "execution_count": 19,
   "metadata": {},
   "outputs": [
    {
     "data": {
      "text/plain": [
       "6"
      ]
     },
     "execution_count": 19,
     "metadata": {},
     "output_type": "execute_result"
    }
   ],
   "source": [
    "def sum_values(n1, n2, n3):\n",
    "    return n1+n2+n3\n",
    "sum_values(1, 2, 3)"
   ]
  },
  {
   "cell_type": "code",
   "execution_count": 20,
   "metadata": {},
   "outputs": [
    {
     "data": {
      "text/plain": [
       "'!dlroW ,olleH'"
      ]
     },
     "execution_count": 20,
     "metadata": {},
     "output_type": "execute_result"
    }
   ],
   "source": [
    "def reverse_string(text):\n",
    "    return text[::-1]\n",
    "reverse_string(\"Hello, World!\")"
   ]
  },
  {
   "cell_type": "code",
   "execution_count": 23,
   "metadata": {},
   "outputs": [
    {
     "data": {
      "text/plain": [
       "35"
      ]
     },
     "execution_count": 23,
     "metadata": {},
     "output_type": "execute_result"
    }
   ],
   "source": [
    "def calculate_rectangle_area(length, width):\n",
    "    return length*width\n",
    "calculate_rectangle_area(7, 5)"
   ]
  },
  {
   "cell_type": "code",
   "execution_count": 26,
   "metadata": {},
   "outputs": [
    {
     "data": {
      "text/plain": [
       "True"
      ]
     },
     "execution_count": 26,
     "metadata": {},
     "output_type": "execute_result"
    }
   ],
   "source": [
    "def check_palindrome(text):\n",
    "    if text == text[::-1]: return True\n",
    "    else: return False\n",
    "check_palindrome(\"ana\")"
   ]
  },
  {
   "cell_type": "code",
   "execution_count": 34,
   "metadata": {},
   "outputs": [
    {
     "data": {
      "text/plain": [
       "72"
      ]
     },
     "execution_count": 34,
     "metadata": {},
     "output_type": "execute_result"
    }
   ],
   "source": [
    "def multiply_list(vals):\n",
    "    x = 1\n",
    "    for i in vals:\n",
    "        x *= i\n",
    "    return x\n",
    "multiply_list([1, 2, 3, 3, 2, 1, 2])"
   ]
  },
  {
   "cell_type": "markdown",
   "metadata": {},
   "source": [
    "### Functions with Different Types of Arguments\n",
    "11. Write a function called `greeting` that takes the `name` and an initial greeting (`initial_greeting`) as mandatory arguments and an optional argument `additional_greeting`. The function should print a customized greeting according to the provided arguments.\n",
    "12. Write a function called `concatenate_strings` that takes two or more strings as arguments and returns a single concatenated string.\n",
    "13. Write a function called `display_info` that accepts a mandatory argument `name` and two optional arguments `age` and `city`. The function should print information about the person, including name, age, and city if provided."
   ]
  },
  {
   "cell_type": "code",
   "execution_count": 36,
   "metadata": {},
   "outputs": [
    {
     "name": "stdout",
     "output_type": "stream",
     "text": [
      "Oi, Francisco, tudo bem?\n"
     ]
    }
   ],
   "source": [
    "def greeting(name, initial_greeting, additional_greeting=None):\n",
    "    if additional_greeting is not None:\n",
    "        print(initial_greeting + \", \" + name + \", \" + additional_greeting)\n",
    "    else:\n",
    "        print(initial_greeting + \", \" + name)\n",
    "greeting(\"Francisco\", \"Oi\", \"tudo bem?\")"
   ]
  },
  {
   "cell_type": "code",
   "execution_count": 46,
   "metadata": {},
   "outputs": [
    {
     "data": {
      "text/plain": [
       "'Avião de Papel Jamor'"
      ]
     },
     "execution_count": 46,
     "metadata": {},
     "output_type": "execute_result"
    }
   ],
   "source": [
    "def concatenate_strings(*args):\n",
    "    final_string = \"\"\n",
    "    for i in args:\n",
    "        final_string += i\n",
    "    return final_string\n",
    "concatenate_strings(\"Avião \", \"de \", \"Papel \", \"Jamor\")"
   ]
  },
  {
   "cell_type": "code",
   "execution_count": 55,
   "metadata": {},
   "outputs": [
    {
     "data": {
      "text/plain": [
       "'Francisco, 24, Lisbon'"
      ]
     },
     "execution_count": 55,
     "metadata": {},
     "output_type": "execute_result"
    }
   ],
   "source": [
    "def display_info(name, age=None, city=None):\n",
    "    if age and city is not None:\n",
    "        return name + \", \" + str(age) + \", \" + city\n",
    "    elif city is not None:\n",
    "        return name + \", \" + city\n",
    "    elif age is not None:\n",
    "        return name + \", \" + str(age)\n",
    "    return name\n",
    "display_info(\"Francisco\", 24, \"Lisbon\")"
   ]
  },
  {
   "cell_type": "markdown",
   "metadata": {},
   "source": [
    "### Extra Exercises\n",
    "14. Write a function called `calculate_weighted_average` that takes two lists: a list of values and a list of corresponding weights. The function should calculate and return the weighted average of the values.\n",
    "15. Write a function called `calculate_weighted_average` that takes a temperature in Celsius degrees as an argument and an optional argument indicating the desired temperature scale (e.g., Fahrenheit or Kelvin). The function should return the temperature converted to the desired scale.\n",
    "16. Write a function called `calculate_weighted_average` that takes a person's age in years, months, and days as arguments and returns the total age in days."
   ]
  },
  {
   "cell_type": "code",
   "execution_count": 56,
   "metadata": {},
   "outputs": [
    {
     "data": {
      "text/plain": [
       "2.0704845814977975"
      ]
     },
     "execution_count": 56,
     "metadata": {},
     "output_type": "execute_result"
    }
   ],
   "source": [
    "def calculate_weighted_average(values, weights):\n",
    "    total_weighted_sum = sum(value * weight for value, weight in zip(values, weights))\n",
    "    total_weight = sum(weights)\n",
    "    return total_weighted_sum / total_weight\n",
    "calculate_weighted_average([1, 2, 3], [63, 85, 79])"
   ]
  },
  {
   "cell_type": "code",
   "execution_count": 60,
   "metadata": {},
   "outputs": [
    {
     "data": {
      "text/plain": [
       "296.15"
      ]
     },
     "execution_count": 60,
     "metadata": {},
     "output_type": "execute_result"
    }
   ],
   "source": [
    "def calculate_weighted_average(temp, scale=None):\n",
    "    if scale.upper() == \"KELVIN\":\n",
    "        return temp + 273.15\n",
    "    elif scale.upper() == \"FAHRENHEIT\":\n",
    "        return (temp * 9/5) + 32\n",
    "    else:\n",
    "        return temp\n",
    "calculate_weighted_average(23, \"kelvin\")"
   ]
  },
  {
   "cell_type": "code",
   "execution_count": 59,
   "metadata": {},
   "outputs": [
    {
     "data": {
      "text/plain": [
       "8907"
      ]
     },
     "execution_count": 59,
     "metadata": {},
     "output_type": "execute_result"
    }
   ],
   "source": [
    "def calculate_age_in_days(years, months, days):\n",
    "    return (years * 365) + (months * 30) + days\n",
    "calculate_age_in_days(24, 4, 27)"
   ]
  },
  {
   "cell_type": "markdown",
   "metadata": {},
   "source": []
  }
 ],
 "metadata": {
  "kernelspec": {
   "display_name": "Python 3 (ipykernel)",
   "language": "python",
   "name": "python3"
  },
  "language_info": {
   "codemirror_mode": {
    "name": "ipython",
    "version": 3
   },
   "file_extension": ".py",
   "mimetype": "text/x-python",
   "name": "python",
   "nbconvert_exporter": "python",
   "pygments_lexer": "ipython3",
   "version": "3.11.7"
  },
  "vscode": {
   "interpreter": {
    "hash": "c56527485b7c9dd36c8c8808345694ae9d0a642c0f00dfb6356f9a65494ceb50"
   }
  }
 },
 "nbformat": 4,
 "nbformat_minor": 4
}
