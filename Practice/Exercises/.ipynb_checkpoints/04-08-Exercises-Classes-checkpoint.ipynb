{
 "cells": [
  {
   "cell_type": "markdown",
   "metadata": {},
   "source": [
    "<div>\n",
    "    <img src=\"img/CloserAcademy.png\">\n",
    "</div>"
   ]
  },
  {
   "cell_type": "markdown",
   "metadata": {},
   "source": [
    "## **Exercises - Classes**\n",
    "\n",
    "Note: This file contains exercises on classes, objects, methods, and hierarchy."
   ]
  },
  {
   "cell_type": "markdown",
   "metadata": {},
   "source": [
    "### **Exercise 1**\n",
    "1. Create an object of the rocket class, defined below, named \"Rocket1\" at coordinates (10, 8).\n",
    "2. Print the coordinates of the rocket.\n",
    "3. Move the rocket - increase 2 units on the x-axis and decrease 1 unit on the y-axis.\n",
    "4. Print the coordinates of the rocket again. Use the methods of the class to perform the exercise."
   ]
  },
  {
   "cell_type": "code",
   "execution_count": 37,
   "metadata": {},
   "outputs": [],
   "source": [
    "class Rocket():   \n",
    "    def __init__(self, x=0, y=0):\n",
    "        self.x = x\n",
    "        self.y = y\n",
    "        \n",
    "    def move_rocket(self, increment_x=0, increment_y=1):\n",
    "        self.x += increment_x\n",
    "        self.y += increment_y\n",
    "        \n",
    "    def print_rocket(self):\n",
    "        print(self.x, self.y)"
   ]
  },
  {
   "cell_type": "code",
   "execution_count": 7,
   "metadata": {},
   "outputs": [
    {
     "name": "stdout",
     "output_type": "stream",
     "text": [
      "Original position:\n",
      "10 8\n",
      "New position:\n",
      "12 7\n"
     ]
    }
   ],
   "source": [
    "Rocket1 = Rocket(10, 8)\n",
    "\n",
    "print(\"Original position:\")\n",
    "Rocket1.print_rocket()\n",
    "\n",
    "Rocket1.move_rocket(2, -1)\n",
    "\n",
    "print(\"New position:\")\n",
    "Rocket1.print_rocket()"
   ]
  },
  {
   "cell_type": "markdown",
   "metadata": {},
   "source": [
    "### **Exercise 2**\n",
    "\n",
    "Create a class for a simple bank account.\n",
    "\n",
    "In Python, create a class called `BankAccount` with the following attributes and methods:\n",
    "\n",
    "Attributes:\n",
    "- `account_number` (unique account number)\n",
    "- `account_holder` (name of the account holder)\n",
    "- `balance` (initial balance)\n",
    "\n",
    "Methods:\n",
    "- `deposit(amount)`: adds the provided amount to the account balance.\n",
    "- `withdraw(amount)`: subtracts the withdrawn amount from the account balance. If the amount is greater than the balance, print \"Insufficient funds!\".\n",
    "- `get_balance()`: Returns the current balance.\n",
    "- `show_account_info()`: Displays the account number, account holder's name, and current balance."
   ]
  },
  {
   "cell_type": "code",
   "execution_count": 20,
   "metadata": {},
   "outputs": [],
   "source": [
    "class BankAccount:\n",
    "    def __init__(self, account_number, account_holder, initial_balance):\n",
    "        self.account_number = account_number\n",
    "        self.account_holder = account_holder\n",
    "        self.balance = initial_balance\n",
    "    \n",
    "    def deposit(self, amount):\n",
    "        self.balance += amount\n",
    "    \n",
    "    def withdraw(self, amount):\n",
    "        if amount <= self.balance:\n",
    "            self.balance -= amount\n",
    "        else:\n",
    "            print(\"Balance is insufucient for that withdraw amount\")\n",
    "    \n",
    "    def get_balance(self):\n",
    "        return self.balance\n",
    "    \n",
    "    def show_account_info(self):\n",
    "        print(\"=========== ACOUNT INFO ===========\")\n",
    "        print(\"Account Number:\", self.account_number)\n",
    "        print(\"Account Holder:\", self.account_holder)\n",
    "        print(\"Balance:\", self.balance)\n",
    "        print(\"===================================\")"
   ]
  },
  {
   "cell_type": "code",
   "execution_count": 16,
   "metadata": {},
   "outputs": [
    {
     "name": "stdout",
     "output_type": "stream",
     "text": [
      "=========== ACOUNT INFO ===========\n",
      "Account Number: PT5525785585690182\n",
      "Account Holder: Francisco\n",
      "Balance: 2576.7799999999997\n",
      "===================================\n",
      "=========== ACOUNT INFO ===========\n",
      "Account Number: PT5525785585690182\n",
      "Account Holder: Francisco\n",
      "Balance: 2496.7799999999997\n",
      "===================================\n"
     ]
    }
   ],
   "source": [
    "account1 = BankAccount(\"PT5525785585690182\", \"Francisco\", 1376.78)\n",
    "account1.deposit(1200)\n",
    "account1.show_account_info()\n",
    "account1.withdraw(80)\n",
    "account1.show_account_info()"
   ]
  },
  {
   "cell_type": "markdown",
   "metadata": {},
   "source": [
    "### **Exercise 3**\n",
    "Consider the following class:"
   ]
  },
  {
   "cell_type": "code",
   "execution_count": 32,
   "metadata": {},
   "outputs": [],
   "source": [
    "class BankCustomer:\n",
    "    def __init__(self, first_name, last_name, age, address):\n",
    "        self.first_name = first_name\n",
    "        self.last_name = last_name\n",
    "        self.age = age\n",
    "        self.address = address\n",
    "\n",
    "    def greeting(self):\n",
    "        return f\"Welcome, {self.first_name} {self.last_name}\"\n",
    "\n",
    "    def birthday(self):\n",
    "        self.age += 1\n",
    "        return f\"Today is your birthday! Happy birthday, {self.first_name}.\"\n",
    "\n",
    "    def change_address(self, new_address):\n",
    "        self.address = new_address"
   ]
  },
  {
   "cell_type": "code",
   "execution_count": 27,
   "metadata": {},
   "outputs": [],
   "source": [
    "# Create a bank customer object\n",
    "manuel_customer = BankCustomer(\"Manuel\", \"Silva\", 25, \"Porto\")"
   ]
  },
  {
   "cell_type": "markdown",
   "metadata": {},
   "source": [
    "Exercises:\n",
    "1. Change the address from \"Porto\" to \"Lisbon\" and print the updated address.\n",
    "2. Celebrate Manuel's birthday and print his updated age.\n",
    "3. Change Manuel's age to 30 and print his updated age."
   ]
  },
  {
   "cell_type": "code",
   "execution_count": 28,
   "metadata": {},
   "outputs": [
    {
     "name": "stdout",
     "output_type": "stream",
     "text": [
      "Lisbon\n",
      "26\n",
      "30\n"
     ]
    }
   ],
   "source": [
    "manuel_customer.change_address(\"Lisbon\")\n",
    "print(manuel_customer.address)\n",
    "\n",
    "manuel_customer.birthday()\n",
    "print(manuel_customer.age)\n",
    "\n",
    "manuel_customer.age = 30\n",
    "print(manuel_customer.age)"
   ]
  },
  {
   "cell_type": "markdown",
   "metadata": {},
   "source": [
    "### **Exercise 4 - Hierarchy**\n",
    "Consider the class `BankCustomer` created earlier.\n",
    "\n",
    "1. Define a class `BankAccountCustomer` inherited from `BankCustomer` with additional attributes `account_number` and `balance`.\n",
    "\n",
    "   Implement the methods:\n",
    "   \n",
    "   - `__init__(self, first_name, last_name, age, account_number, balance)`, which initializes a bank account with a name, age, account number, and balance.\n",
    "   - `deposit(self, amount)`, which adds the deposited amount to the account balance.\n",
    "   - `withdrawal(self, amount)`, which subtracts the withdrawn amount from the account balance. If the amount is greater than the balance, print \"insufficient balance!\".\n",
    "   - `display_account_info(self)`, which returns a formatted string with the customer's name, account number, balance, and a greeting. For example, when calling this method, the output could be something like: \"Hello, [customer's name], your account number is [account number] and you have [available balance] available in your account at this moment.\"\n",
    "\n",
    "2. Create objects of this class and apply some of the methods, including calls to superclass methods (`BankCustomer`)."
   ]
  },
  {
   "cell_type": "code",
   "execution_count": 35,
   "metadata": {},
   "outputs": [],
   "source": [
    "class BankAccountCustomer(BankCustomer):\n",
    "    def __init__(self, first_name, last_name, age, address, account_number, balance):\n",
    "        super().__init__(first_name, last_name, age, address)\n",
    "        self.account_number = account_number\n",
    "        self.balance = balance\n",
    "\n",
    "    def deposit(self, amount):\n",
    "        self.balance += amount\n",
    "\n",
    "    def withdrawal(self, amount):\n",
    "        if amount > self.balance:\n",
    "            print(\"Balance is insufucient for that withdraw amount\")\n",
    "        else:\n",
    "            self.balance -= amount\n",
    "\n",
    "    def display_account_info(self):\n",
    "        customer_greeting = super().greeting()\n",
    "        return f\"{customer_greeting}, your account number is {self.account_number} and you have {self.balance}€ available in your account at this moment.\""
   ]
  },
  {
   "cell_type": "code",
   "execution_count": 36,
   "metadata": {},
   "outputs": [
    {
     "name": "stdout",
     "output_type": "stream",
     "text": [
      "Welcome, Francisco Falcao, your account number is PT50655616511005166 and you have 2646€ available in your account at this moment.\n"
     ]
    }
   ],
   "source": [
    "c1_bank_account = BankAccountCustomer(\"Francisco\", \"Falcao\", 24, \"Rua 123\", \"PT50655616511005166\", 2314)\n",
    "\n",
    "c1_bank_account.deposit(352)\n",
    "\n",
    "c1_bank_account.withdrawal(20)\n",
    "\n",
    "print(c1_bank_account.display_account_info())"
   ]
  },
  {
   "cell_type": "markdown",
   "metadata": {},
   "source": []
  }
 ],
 "metadata": {
  "kernelspec": {
   "display_name": "Python 3 (ipykernel)",
   "language": "python",
   "name": "python3"
  },
  "language_info": {
   "codemirror_mode": {
    "name": "ipython",
    "version": 3
   },
   "file_extension": ".py",
   "mimetype": "text/x-python",
   "name": "python",
   "nbconvert_exporter": "python",
   "pygments_lexer": "ipython3",
   "version": "3.11.7"
  },
  "vscode": {
   "interpreter": {
    "hash": "c56527485b7c9dd36c8c8808345694ae9d0a642c0f00dfb6356f9a65494ceb50"
   }
  }
 },
 "nbformat": 4,
 "nbformat_minor": 4
}
