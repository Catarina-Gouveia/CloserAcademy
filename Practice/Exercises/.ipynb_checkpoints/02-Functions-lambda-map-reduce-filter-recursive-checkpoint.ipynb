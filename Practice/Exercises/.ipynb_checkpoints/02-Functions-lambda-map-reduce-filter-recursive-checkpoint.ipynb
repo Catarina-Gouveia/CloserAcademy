{
 "cells": [
  {
   "cell_type": "markdown",
   "metadata": {},
   "source": [
    "<div>\n",
    "    <img src=\"img/CloserAcademy.png\">\n",
    "</div>"
   ]
  },
  {
   "cell_type": "markdown",
   "metadata": {},
   "source": [
    "## Exercises"
   ]
  },
  {
   "cell_type": "markdown",
   "metadata": {},
   "source": [
    "### Lambda Functions"
   ]
  },
  {
   "cell_type": "markdown",
   "metadata": {},
   "source": [
    "1. Define a lambda function that converts a string to uppercase.\n",
    "\n",
    "2. Define a lambda function that calculates the cube of a number.\n",
    "\n",
    "3. Define a lambda function that converts a temperature from Celsius to Fahrenheit."
   ]
  },
  {
   "cell_type": "code",
   "execution_count": 3,
   "metadata": {},
   "outputs": [],
   "source": [
    "string_to_upper = lambda str: str.upper()"
   ]
  },
  {
   "cell_type": "code",
   "execution_count": 12,
   "metadata": {},
   "outputs": [],
   "source": [
    "n1 = lambda n: n**3"
   ]
  },
  {
   "cell_type": "markdown",
   "metadata": {},
   "source": [
    "Help Exercise 3:\n",
    "\n",
    "$F=C*9/5+32$\n",
    "\n",
    "Where:\n",
    "\n",
    "$F$ is the temperature in Fahrenheit,\n",
    "\n",
    "$C$ is the temperature in Celsius."
   ]
  },
  {
   "cell_type": "code",
   "execution_count": 8,
   "metadata": {},
   "outputs": [],
   "source": [
    "temp_convert = lambda i: i * 9/5 + 32"
   ]
  },
  {
   "cell_type": "markdown",
   "metadata": {},
   "source": [
    "`map()`"
   ]
  },
  {
   "cell_type": "markdown",
   "metadata": {},
   "source": [
    "Use each of the lambda functions with an iterable using the built-in function `map()`."
   ]
  },
  {
   "cell_type": "code",
   "execution_count": 5,
   "metadata": {},
   "outputs": [
    {
     "name": "stdout",
     "output_type": "stream",
     "text": [
      "['AVIAO', 'DE', 'PAPEL']\n"
     ]
    }
   ],
   "source": [
    "print(list(map(string_to_upper, ['aviao', 'de', 'papel'])))"
   ]
  },
  {
   "cell_type": "code",
   "execution_count": 21,
   "metadata": {},
   "outputs": [
    {
     "name": "stdout",
     "output_type": "stream",
     "text": [
      "[64, 729, 12167]\n"
     ]
    }
   ],
   "source": [
    "print(list(map(n1, [4, 9, 23])))"
   ]
  },
  {
   "cell_type": "code",
   "execution_count": 22,
   "metadata": {},
   "outputs": [
    {
     "name": "stdout",
     "output_type": "stream",
     "text": [
      "[39.2, 48.2, 73.4]\n"
     ]
    }
   ],
   "source": [
    "print(list(map(temp_convert, [4, 9, 23])))"
   ]
  },
  {
   "cell_type": "markdown",
   "metadata": {},
   "source": [
    "`filter()`\n",
    "\n",
    "7. Define a lambda function that checks if a number is even and use it with the filter function to filter out all the even numbers from a list.\n",
    "\n",
    "8. Define a lambda function that checks if a word starts with the letter 'a' and use it with the filter function to filter out all words from a list that start with 'a'.\n",
    "\n",
    "9. Define a lambda function that checks if a number is positive and use it with the filter function to filter out all positive numbers from a list."
   ]
  },
  {
   "cell_type": "code",
   "execution_count": 26,
   "metadata": {},
   "outputs": [
    {
     "name": "stdout",
     "output_type": "stream",
     "text": [
      "[2, 4, 6, 8, 10, 14, 64, 6]\n"
     ]
    }
   ],
   "source": [
    "n = [1, 2, 3, 4, 5, 6, 7, 8, 9, 10, 14, 53, 25, 64, 6]\n",
    "even = list(filter(lambda x: x % 2 == 0, n))\n",
    "print(even)"
   ]
  },
  {
   "cell_type": "code",
   "execution_count": 28,
   "metadata": {},
   "outputs": [
    {
     "name": "stdout",
     "output_type": "stream",
     "text": [
      "['ana', 'ancora', 'alface']\n"
     ]
    }
   ],
   "source": [
    "words = [\"ana\", \"coelho\", \"ancora\", \"baliza\", \"vermelho\", \"alface\"]\n",
    "start_a = list(filter(lambda i: i[0].lower() == \"a\", words))\n",
    "print(start_a)"
   ]
  },
  {
   "cell_type": "code",
   "execution_count": 29,
   "metadata": {},
   "outputs": [
    {
     "name": "stdout",
     "output_type": "stream",
     "text": [
      "[1, 2, 4, 5, 7, 8, 14, 53, 6]\n"
     ]
    }
   ],
   "source": [
    "n = [1, 2, -3, 4, 5, -6, 7, 8, -9, -10, 14, 53, -25, -64, 6]\n",
    "positive = list(filter(lambda x: x > 0, n))\n",
    "print(positive)"
   ]
  },
  {
   "cell_type": "markdown",
   "metadata": {},
   "source": [
    "`reduce()`\n",
    "\n",
    "Note: Don't forget to import the `reduce` function from the `functools` module.\n",
    "\n",
    "10. Define a lambda function that calculates the product of two numbers and use it with the `reduce` function to calculate the product of all elements in a list.\n",
    "\n",
    "11. Define a lambda function that finds the maximum of two numbers and use it with the `reduce` function to find the maximum of a list of numbers.\n",
    "\n",
    "12. Define a lambda function that concatenates two strings and use it with the `reduce` function to concatenate all elements of a list of strings."
   ]
  },
  {
   "cell_type": "code",
   "execution_count": 34,
   "metadata": {},
   "outputs": [
    {
     "name": "stdout",
     "output_type": "stream",
     "text": [
      "210\n"
     ]
    }
   ],
   "source": [
    "from functools import reduce\n",
    "vals = [1, 2, 3, 5, 7]\n",
    "p = reduce(lambda x, y: x * y, vals)\n",
    "print(p)"
   ]
  },
  {
   "cell_type": "code",
   "execution_count": 35,
   "metadata": {},
   "outputs": [
    {
     "name": "stdout",
     "output_type": "stream",
     "text": [
      "7\n"
     ]
    }
   ],
   "source": [
    "vals = [1, 2, 3, 5, 7]\n",
    "mx = reduce(lambda x, y: x if x > y else y, vals)\n",
    "print(mx)"
   ]
  },
  {
   "cell_type": "code",
   "execution_count": 37,
   "metadata": {},
   "outputs": [
    {
     "name": "stdout",
     "output_type": "stream",
     "text": [
      "Avião de papel\n"
     ]
    }
   ],
   "source": [
    "words = ['Avião', 'de', 'papel']\n",
    "st = reduce(lambda x, y: x + \" \" + y, words)\n",
    "print(st)"
   ]
  },
  {
   "cell_type": "markdown",
   "metadata": {},
   "source": [
    "## Recursive Functions:\n",
    "\n",
    "13. Write a recursive function to calculate the nth term of the Fibonacci sequence.\n",
    "\n",
    "14. Write a recursive function to reverse a string."
   ]
  },
  {
   "cell_type": "markdown",
   "metadata": {},
   "source": [
    "The Fibonacci sequence is a series of integers where each number is the sum of the two preceding ones. Formally, the sequence is defined recursively by the following conditions:\n",
    "\n",
    "$F(0)=0$\n",
    "\n",
    "$F(1)=1$\n",
    "\n",
    "$F(n)=F(n−1)+F(n−2)$ for $n>1$"
   ]
  },
  {
   "cell_type": "code",
   "execution_count": 42,
   "metadata": {},
   "outputs": [
    {
     "data": {
      "text/plain": [
       "13"
      ]
     },
     "execution_count": 42,
     "metadata": {},
     "output_type": "execute_result"
    }
   ],
   "source": [
    "def fib(x):\n",
    "    if x <= 1:return x\n",
    "    else:return fib(x - 1) + fib(x - 2)\n",
    "fib(7)"
   ]
  },
  {
   "cell_type": "code",
   "execution_count": 45,
   "metadata": {},
   "outputs": [
    {
     "data": {
      "text/plain": [
       "'lepap ed oãivA'"
      ]
     },
     "execution_count": 45,
     "metadata": {},
     "output_type": "execute_result"
    }
   ],
   "source": [
    "def reverse_string(s):\n",
    "    return s[::-1]\n",
    "reverse_string(\"Avião de papel\")"
   ]
  },
  {
   "cell_type": "markdown",
   "metadata": {},
   "source": []
  }
 ],
 "metadata": {
  "kernelspec": {
   "display_name": "Python 3 (ipykernel)",
   "language": "python",
   "name": "python3"
  },
  "language_info": {
   "codemirror_mode": {
    "name": "ipython",
    "version": 3
   },
   "file_extension": ".py",
   "mimetype": "text/x-python",
   "name": "python",
   "nbconvert_exporter": "python",
   "pygments_lexer": "ipython3",
   "version": "3.11.7"
  },
  "vscode": {
   "interpreter": {
    "hash": "c56527485b7c9dd36c8c8808345694ae9d0a642c0f00dfb6356f9a65494ceb50"
   }
  }
 },
 "nbformat": 4,
 "nbformat_minor": 4
}
