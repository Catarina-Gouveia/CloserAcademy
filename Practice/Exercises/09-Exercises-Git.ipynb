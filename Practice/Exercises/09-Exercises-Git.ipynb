{
 "cells": [
  {
   "cell_type": "markdown",
   "metadata": {},
   "source": [
    "<div>\n",
    "    <img src=\"img/CloserAcademy.png\">\n",
    "</div>"
   ]
  },
  {
   "cell_type": "markdown",
   "metadata": {},
   "source": [
    "## **Exercises - Git**"
   ]
  },
  {
   "cell_type": "markdown",
   "metadata": {},
   "source": [
    "1. **Create a Local Repository**:\n",
    "   - Create a new folder named `exercise_gym`.\n",
    "   - Inside this folder, in the terminal or an IDE, initialize a Git repository using the command `git init`.\n",
    "\n",
    "\n",
    "2. **Add and Commit Files**:\n",
    "   - Create a simple text file inside your repository. Name it `README.md` with the content \"First Git repository\".\n",
    "   - Use the command `git status` to check the status of your repository.\n",
    "   - Add the file to version control using `git add`. \n",
    "      Note: `git add .` will add all your changed files to the staging area, while `git add <path_to_file>` will only add that file.\n",
    "   - Commit the file using `git commit`. \n",
    "   Note: If you use this command as is, a standard text editor will show up so you can write your commit message (normally this will be Vim). If that happens, press `i` (for insert), write your message and then hit `Esc`. Type `:wq` and hit `Enter` to save your changes and leave Vim. If you wish to avoid this, you can use the command `git commit -m \"Message\"` - this way you do the commit and add your commit message in the same line.\n",
    "\n",
    "\n",
    "3. **Create a Remote Repository on GitHub**:\n",
    "   - Create a free account on GitHub if you don't have one already.\n",
    "   - Create a new repository on GitHub.\n",
    "\n",
    "\n",
    "4. **Connect Local Repository with Remote Repository**:\n",
    "   - Add the remote repository to your local repository using `git remote add origin <remote_repository_URL>`.\n",
    "   - Push your commits to the remote repository using `git push -u origin master`.\n",
    "\n",
    "\n",
    "5. **Working with Branches**:\n",
    "   - Create a new branch named `feature` using `git branch feature`.\n",
    "   - Switch to the new branch using `git checkout feature`.\n",
    "   - Make some changes to the `README.md` file created in step 2, add and commit those changes.\n",
    "   - Switch back to the main branch using `git checkout master`.\n",
    "\n",
    "\n",
    "6. **Merge Branches**:\n",
    "   - Merge the changes from the `feature` branch into the main branch (`master`) using `git merge feature`.\n",
    "\n",
    "\n",
    "7. **Resolve Merge Conflicts**:\n",
    "   - Create a Merge Conflict: Make changes to the same part of a file in the different branches. For example, modify the same line in README.md differently in both the master and feature branches.\n",
    "   - Identify the Conflict: Execute git status to identify conflicted files.\n",
    "   - Open the conflicted file(s) in a text editor.\n",
    "   - Resolve the Conflict: Within the conflicted file(s), Git will mark the conflicting sections. Manually edit the file(s) to resolve conflicts by choosing which changes to keep. Remove the conflict markers added by Git (<<<<<<<, =======, >>>>>>>).\n",
    "   - Stage the Resolved Files: After resolving conflicts, stage the modified file(s) using `git add <filename>`.\n",
    "   - Commit the Changes: Commit the resolved changes with git commit -m \"Resolve merge conflict\".\n",
    "   - Finally you can push your changes to your remote repository using `git push`."
   ]
  },
  {
   "cell_type": "markdown",
   "metadata": {},
   "source": []
  }
 ],
 "metadata": {
  "kernelspec": {
   "display_name": "Python 3 (ipykernel)",
   "language": "python",
   "name": "python3"
  },
  "language_info": {
   "codemirror_mode": {
    "name": "ipython",
    "version": 3
   },
   "file_extension": ".py",
   "mimetype": "text/x-python",
   "name": "python",
   "nbconvert_exporter": "python",
   "pygments_lexer": "ipython3",
   "version": "3.11.2"
  },
  "vscode": {
   "interpreter": {
    "hash": "c56527485b7c9dd36c8c8808345694ae9d0a642c0f00dfb6356f9a65494ceb50"
   }
  }
 },
 "nbformat": 4,
 "nbformat_minor": 1
}
