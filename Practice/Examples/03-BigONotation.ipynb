{
 "cells": [
  {
   "cell_type": "markdown",
   "metadata": {},
   "source": [
    "<div>\n",
    "    <img src=\"img/CloserAcademy.png\">\n",
    "</div>"
   ]
  },
  {
   "cell_type": "markdown",
   "metadata": {},
   "source": [
    "## **Big-O Notation**\n",
    "\n",
    "Big-O notation is a way to describe the asymptotic behavior of a function, representing the upper limit of the growth of a function as the input size increases. It is commonly used in algorithm analysis to describe its performance in terms of efficiency and complexity. It is represented as *O(f(n))*, where *f(n)* is a function that describes the behavior of the algorithm in relation to the input size *n*.\n",
    "\n",
    "In simple terms, Big-O notation tells us how much time or space an algorithm needs to process an input of a specific size.\n",
    "\n",
    "Big-O notation allows us to compare the efficiency of different algorithms and understand how the runtime or space required by the algorithm grows as the input size increases. The smaller the degree of complexity (i.e., the smaller the value of *f(n)* in Big-O notation), the more efficient the algorithm.\n",
    "\n",
    "Examples:\n",
    "\n",
    "***O(1)*** - **Constant Complexity**\n",
    "<br><br>\n",
    "An algorithm with complexity *O(1)* has constant runtime, regardless of the input size."
   ]
  },
  {
   "cell_type": "code",
   "execution_count": 1,
   "metadata": {},
   "outputs": [],
   "source": [
    "def first_element(list):\n",
    "    return list[0]\n",
    "\n",
    "# In the example above, no matter the size of the list,\n",
    "# the function will always return the first element in constant time."
   ]
  },
  {
   "cell_type": "markdown",
   "metadata": {},
   "source": [
    "***O(n)*** - **Linear Complexity**\n",
    "<br><br>\n",
    "An algorithm with complexity *O(n)* has a runtime proportional to the size of the input."
   ]
  },
  {
   "cell_type": "code",
   "execution_count": 2,
   "metadata": {},
   "outputs": [],
   "source": [
    "def search_element(list, element):\n",
    "    for item in list:\n",
    "        if item == element:\n",
    "            return True\n",
    "    return False\n",
    "\n",
    "# In this example, the runtime increases linearly with the size of the list."
   ]
  },
  {
   "cell_type": "markdown",
   "metadata": {},
   "source": [
    "***O(n^2)*** - **Quadratic Complexity**\n",
    "<br><br>\n",
    "An algorithm with complexity *O(n^2)* has a runtime proportional to the square of the size of the input."
   ]
  },
  {
   "cell_type": "code",
   "execution_count": 3,
   "metadata": {},
   "outputs": [],
   "source": [
    "def sort_list(list):\n",
    "    n = len(list)\n",
    "    for i in range(n):\n",
    "        for j in range(n):\n",
    "            if list[i] < list[j]:\n",
    "                list[i], list[j] = list[j], list[i]\n",
    "\n",
    "# In this example, the runtime increases quadratically with the size of the list."
   ]
  },
  {
   "cell_type": "markdown",
   "metadata": {},
   "source": [
    "***O(log n)*** - **Logarithmic Complexity**\n",
    "<br><br>\n",
    "An algorithm with complexity *O(log n)* halves the size of the problem at each step."
   ]
  },
  {
   "cell_type": "code",
   "execution_count": 4,
   "metadata": {},
   "outputs": [],
   "source": [
    "def binary_search(list, element):\n",
    "    low, high = 0, len(list) - 1\n",
    "    while low <= high:\n",
    "        mid = (low + high) // 2\n",
    "        if list[mid] == element:\n",
    "            return mid\n",
    "        elif list[mid] < element:\n",
    "            low = mid + 1\n",
    "        else:\n",
    "            high = mid - 1\n",
    "    return -1\n",
    "\n",
    "# In this example, the list is halved at each iteration of the binary search."
   ]
  },
  {
   "cell_type": "markdown",
   "metadata": {},
   "source": [
    "**Illustration of the most common complexities in Big-O Notation:**"
   ]
  },
  {
   "cell_type": "markdown",
   "metadata": {},
   "source": [
    "<img src=\"img/BigONotation.png\" width=\"800\">"
   ]
  },
  {
   "cell_type": "markdown",
   "metadata": {},
   "source": []
  }
 ],
 "metadata": {
  "kernelspec": {
   "display_name": "Python 3 (ipykernel)",
   "language": "python",
   "name": "python3"
  },
  "language_info": {
   "codemirror_mode": {
    "name": "ipython",
    "version": 3
   },
   "file_extension": ".py",
   "mimetype": "text/x-python",
   "name": "python",
   "nbconvert_exporter": "python",
   "pygments_lexer": "ipython3",
   "version": "3.11.2"
  },
  "vscode": {
   "interpreter": {
    "hash": "ed1d5606f5aeedd55256c3249db3ec25384f334262ac609a48c72a22acaa424d"
   }
  }
 },
 "nbformat": 4,
 "nbformat_minor": 1
}
