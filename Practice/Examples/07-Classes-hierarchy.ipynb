{
 "cells": [
  {
   "cell_type": "markdown",
   "metadata": {},
   "source": [
    "<div>\n",
    "    <img src=\"img/CloserAcademy.png\">\n",
    "</div>"
   ]
  },
  {
   "cell_type": "markdown",
   "metadata": {},
   "source": [
    "## **Inheritance**\n",
    "\n",
    "\n",
    "In Object-Oriented Programming (OOP), hierarchy refers to the organization of classes in an inheritance structure, where classes are grouped into levels or layers based on their inheritance relationships.\n",
    "\n",
    "- In class hierarchy, classes can be organized in a structure of \"**superclass-subclass**\", also known as \"parent class - child class\". The parent class is called a superclass, and the child class is called a subclass.\n",
    "\n",
    "- Subclasses *inherit characteristics and behaviors from the superclass*, allowing code reuse and extension of class behavior. This means that subclasses can add new attributes and methods, or \"override\" existing methods of the superclass."
   ]
  },
  {
   "cell_type": "code",
   "execution_count": 1,
   "metadata": {},
   "outputs": [],
   "source": [
    "# Create the Animal class - Superclass\n",
    "class Animal():\n",
    "    \n",
    "    def __init__(self):\n",
    "        print(\"Animal created.\")\n",
    "\n",
    "    def identify(self):\n",
    "        print(\"Animal.\")\n",
    "\n",
    "    def eat(self):\n",
    "        print(\"Eating.\")"
   ]
  },
  {
   "cell_type": "code",
   "execution_count": 2,
   "metadata": {},
   "outputs": [],
   "source": [
    "# Create the Dog class - Subclass\n",
    "class Dog(Animal):\n",
    "    \n",
    "    def __init__(self):\n",
    "        super().__init__() # This will inherit the superclass __init__ method.\n",
    "        \n",
    "        # Add a print when initializing\n",
    "        print(\"Dog object created.\")\n",
    "\n",
    "    # Override the \"identify\" method of the superclass, here it will print \"Puppy\" instead of \"Animal\"\n",
    "    def identify(self):\n",
    "        print(\"Puppy\")\n",
    "\n",
    "    # New method added, exclusive to the Dog subclass\n",
    "    def bark(self):\n",
    "        print(\"Woof woof!\")"
   ]
  },
  {
   "cell_type": "markdown",
   "metadata": {},
   "source": [
    "**Note:**\n",
    "\n",
    "In addition to the methods defined in the Dog class, it will also have the \"eat\" method, which will be inherited from the Animal superclass, as it is defined there."
   ]
  },
  {
   "cell_type": "code",
   "execution_count": 3,
   "metadata": {},
   "outputs": [
    {
     "name": "stdout",
     "output_type": "stream",
     "text": [
      "Animal created.\n",
      "Dog object created.\n"
     ]
    }
   ],
   "source": [
    "# Create an object of the Dog subclass (instantiate the class)\n",
    "Rex = Dog()"
   ]
  },
  {
   "cell_type": "markdown",
   "metadata": {},
   "source": [
    "**Explanation:** Since the Dog subclass inherits the `__init__` method from the parent class (superclass), by using `super().__init__()`, this will first execute the method from the parent class and then the method from the child class (subclass)."
   ]
  },
  {
   "cell_type": "code",
   "execution_count": 4,
   "metadata": {},
   "outputs": [
    {
     "name": "stdout",
     "output_type": "stream",
     "text": [
      "Puppy\n"
     ]
    }
   ],
   "source": [
    "# Execute the \"identify\" method of the Dog class (subclass)\n",
    "Rex.identify()"
   ]
  },
  {
   "cell_type": "code",
   "execution_count": 5,
   "metadata": {},
   "outputs": [
    {
     "name": "stdout",
     "output_type": "stream",
     "text": [
      "Eating.\n"
     ]
    }
   ],
   "source": [
    "# Execute the eat method, inherited from the Animal superclass\n",
    "Rex.eat()"
   ]
  },
  {
   "cell_type": "code",
   "execution_count": 6,
   "metadata": {},
   "outputs": [
    {
     "name": "stdout",
     "output_type": "stream",
     "text": [
      "Woof woof!\n"
     ]
    }
   ],
   "source": [
    "# Execute the \"bark\" method of the Dog class (subclass)\n",
    "Rex.bark()"
   ]
  },
  {
   "cell_type": "code",
   "execution_count": null,
   "metadata": {},
   "outputs": [],
   "source": []
  }
 ],
 "metadata": {
  "kernelspec": {
   "display_name": "Python 3 (ipykernel)",
   "language": "python",
   "name": "python3"
  },
  "language_info": {
   "codemirror_mode": {
    "name": "ipython",
    "version": 3
   },
   "file_extension": ".py",
   "mimetype": "text/x-python",
   "name": "python",
   "nbconvert_exporter": "python",
   "pygments_lexer": "ipython3",
   "version": "3.11.2"
  },
  "vscode": {
   "interpreter": {
    "hash": "c56527485b7c9dd36c8c8808345694ae9d0a642c0f00dfb6356f9a65494ceb50"
   }
  }
 },
 "nbformat": 4,
 "nbformat_minor": 1
}
