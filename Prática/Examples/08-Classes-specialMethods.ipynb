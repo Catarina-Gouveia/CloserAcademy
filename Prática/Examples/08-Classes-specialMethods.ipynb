{
 "cells": [
  {
   "cell_type": "markdown",
   "metadata": {},
   "source": [
    "<div>\n",
    "    <img src=\"img/CloserAcademy.png\">\n",
    "</div>"
   ]
  },
  {
   "cell_type": "markdown",
   "metadata": {},
   "source": [
    "## **Special Methods**"
   ]
  },
  {
   "cell_type": "code",
   "execution_count": 1,
   "metadata": {},
   "outputs": [],
   "source": [
    "# Create the Book class\n",
    "class Book():\n",
    "    def __init__(self, title, author, pages):\n",
    "        print(\"Book created\")\n",
    "        self.title = title\n",
    "        self.author = author\n",
    "        self.pages = pages\n",
    "                \n",
    "    def __str__(self):\n",
    "        return f\"Title: {self.title}, author: {self.author}, pages: {self.pages}\"\n",
    "\n",
    "    def __add__(self, other):\n",
    "        return self.pages + other.pages\n",
    "\n",
    "    def __len__(self):\n",
    "        return self.pages\n",
    "    \n",
    "    def len(self):\n",
    "        return print(\"Pages of the book with common method:\", self.pages)"
   ]
  },
  {
   "cell_type": "code",
   "execution_count": 2,
   "metadata": {},
   "outputs": [
    {
     "name": "stdout",
     "output_type": "stream",
     "text": [
      "Book created\n"
     ]
    }
   ],
   "source": [
    "Lusiadas = Book(\"Os Lusíadas\", \"Luís de Camões\", 8816)"
   ]
  },
  {
   "cell_type": "markdown",
   "metadata": {},
   "source": [
    "Special methods are methods in Python that have special names starting and ending with two underscores (`__`). They allow classes to define specific behaviors for built-in Python operations such as addition, subtraction, string representation, etc.\n",
    "\n",
    "Special methods are automatically called in Python in specific situations, such as when objects of the class are involved in built-in operations. For example, when adding two objects, Python automatically calls the `__add__` method of the first object, passing the second object as an argument.\n",
    "\n",
    "Defining special methods in a class allows objects of that class to have customized behaviors for pre-defined Python functions and operations, making the code more expressive and intuitive."
   ]
  },
  {
   "cell_type": "code",
   "execution_count": 3,
   "metadata": {},
   "outputs": [
    {
     "name": "stdout",
     "output_type": "stream",
     "text": [
      "Title: Os Lusíadas, author: Luís de Camões, pages: 8816\n"
     ]
    },
    {
     "data": {
      "text/plain": [
       "'Title: Os Lusíadas, author: Luís de Camões, pages: 8816'"
      ]
     },
     "execution_count": 3,
     "metadata": {},
     "output_type": "execute_result"
    }
   ],
   "source": [
    "# Both of the following methods use the special method __str__ (string representation)\n",
    "print(Lusiadas)\n",
    "str(Lusiadas)"
   ]
  },
  {
   "cell_type": "markdown",
   "metadata": {},
   "source": [
    "Both examples use the special method `__str__`:\n",
    "\n",
    "1. `print(Lusiadas)`: When using `print(Lusiadas)`, Python automatically calls the `__str__` method of the `Lusiadas` object to obtain a string representation of the object. This allows printing meaningful information about the object.\n",
    "\n",
    "2. `str(Lusiadas)`: Here, we explicitly call the `__str__` method of the `Lusiadas` object using the `str()` function.\n",
    "\n",
    "In both cases, the `__str__` method is responsible for providing a readable representation of the object as a string. This is useful for debugging, visualization, and communicating information about the object in different contexts within Python code."
   ]
  },
  {
   "cell_type": "code",
   "execution_count": 4,
   "metadata": {},
   "outputs": [
    {
     "name": "stdout",
     "output_type": "stream",
     "text": [
      "8816\n"
     ]
    }
   ],
   "source": [
    "# Call the special method __len__\n",
    "print(len(Lusiadas))"
   ]
  },
  {
   "cell_type": "markdown",
   "metadata": {},
   "source": [
    "Note: Notice that you're not calling `Lusiadas.__len__()` as you would to call a \"normal\" method."
   ]
  },
  {
   "cell_type": "markdown",
   "metadata": {},
   "source": [
    "In Python, the `len()` function is used to obtain the length of an object, such as a list, a string, or, as in this case, an object tailored to our needs. When using `len(Lusiadas)`, Python automatically calls the `__len__` method of the `Lusiadas` object to obtain its length.\n",
    "\n",
    "It's not necessary to explicitly call `Lusiadas.__len__()` because the Python language was developed to allow the use of these special methods automatically when using Python's predefined functions or operators. This makes the code cleaner and more expressive.\n",
    "\n",
    "Therefore, `len(Lusiadas)` returns the length of the `Lusiadas` object, based on the implementation of the `__len__` method defined in the `Book` class."
   ]
  },
  {
   "cell_type": "code",
   "execution_count": 5,
   "metadata": {},
   "outputs": [
    {
     "name": "stdout",
     "output_type": "stream",
     "text": [
      "Pages of the book with common method: 8816\n"
     ]
    }
   ],
   "source": [
    "# Now let's call the len() method\n",
    "Lusiadas.len()"
   ]
  },
  {
   "cell_type": "code",
   "execution_count": 6,
   "metadata": {},
   "outputs": [
    {
     "name": "stdout",
     "output_type": "stream",
     "text": [
      "Book created\n"
     ]
    }
   ],
   "source": [
    "# Let's create a second Book\n",
    "example_book = Book(\"Example Title\", \"Xavier\", 1200)"
   ]
  },
  {
   "cell_type": "code",
   "execution_count": 7,
   "metadata": {},
   "outputs": [
    {
     "data": {
      "text/plain": [
       "10016"
      ]
     },
     "execution_count": 7,
     "metadata": {},
     "output_type": "execute_result"
    }
   ],
   "source": [
    "# Use the predefined operation +\n",
    "example_book + Lusiadas"
   ]
  },
  {
   "cell_type": "markdown",
   "metadata": {},
   "source": [
    "When using the predefined operation `+` between the objects `example_book` and `Lusiadas`, Python will attempt to add these two objects. However, for this operation to be performed, it is necessary for the class to which these objects belong to define the special method `__add__`.\n",
    "\n",
    "If the `__add__` method is defined in the classes of these objects, it will be automatically called when using the `+` operator. This allows classes to customize the behavior of object addition.\n",
    "\n",
    "If one of the objects' class does not define the `__add__` method, the operation will result in an error, indicating that the types of the objects do not support addition. Otherwise, the execution of the `__add__` method defined in the class of the object will be carried out."
   ]
  },
  {
   "cell_type": "markdown",
   "metadata": {},
   "source": [
    "**Note:** All special methods and functions are inherited from the Object class."
   ]
  },
  {
   "cell_type": "code",
   "execution_count": 8,
   "metadata": {},
   "outputs": [
    {
     "data": {
      "text/plain": [
       "['__add__',\n",
       " '__class__',\n",
       " '__delattr__',\n",
       " '__dict__',\n",
       " '__dir__',\n",
       " '__doc__',\n",
       " '__eq__',\n",
       " '__format__',\n",
       " '__ge__',\n",
       " '__getattribute__',\n",
       " '__getstate__',\n",
       " '__gt__',\n",
       " '__hash__',\n",
       " '__init__',\n",
       " '__init_subclass__',\n",
       " '__le__',\n",
       " '__len__',\n",
       " '__lt__',\n",
       " '__module__',\n",
       " '__ne__',\n",
       " '__new__',\n",
       " '__reduce__',\n",
       " '__reduce_ex__',\n",
       " '__repr__',\n",
       " '__setattr__',\n",
       " '__sizeof__',\n",
       " '__str__',\n",
       " '__subclasshook__',\n",
       " '__weakref__',\n",
       " 'author',\n",
       " 'len',\n",
       " 'pages',\n",
       " 'title']"
      ]
     },
     "execution_count": 8,
     "metadata": {},
     "output_type": "execute_result"
    }
   ],
   "source": [
    "# You can verify all the inherited special methods by calling the dir function\n",
    "dir(Lusiadas)"
   ]
  },
  {
   "cell_type": "code",
   "execution_count": 9,
   "metadata": {},
   "outputs": [],
   "source": [
    "# When you execute the special method delattr - you remove the specified attribute\n",
    "delattr(Lusiadas, \"pages\") # This method is inherited from the Object class - all special methods are inherited from this \"Object\" class."
   ]
  },
  {
   "cell_type": "code",
   "execution_count": 10,
   "metadata": {},
   "outputs": [
    {
     "data": {
      "text/plain": [
       "['__add__',\n",
       " '__class__',\n",
       " '__delattr__',\n",
       " '__dict__',\n",
       " '__dir__',\n",
       " '__doc__',\n",
       " '__eq__',\n",
       " '__format__',\n",
       " '__ge__',\n",
       " '__getattribute__',\n",
       " '__getstate__',\n",
       " '__gt__',\n",
       " '__hash__',\n",
       " '__init__',\n",
       " '__init_subclass__',\n",
       " '__le__',\n",
       " '__len__',\n",
       " '__lt__',\n",
       " '__module__',\n",
       " '__ne__',\n",
       " '__new__',\n",
       " '__reduce__',\n",
       " '__reduce_ex__',\n",
       " '__repr__',\n",
       " '__setattr__',\n",
       " '__sizeof__',\n",
       " '__str__',\n",
       " '__subclasshook__',\n",
       " '__weakref__',\n",
       " 'author',\n",
       " 'len',\n",
       " 'title']"
      ]
     },
     "execution_count": 10,
     "metadata": {},
     "output_type": "execute_result"
    }
   ],
   "source": [
    "# Let's check the special methods again\n",
    "dir(Lusiadas)"
   ]
  },
  {
   "cell_type": "markdown",
   "metadata": {},
   "source": [
    "As confirmed, the \"pages\" method has been removed from the Lusiadas class."
   ]
  },
  {
   "cell_type": "code",
   "execution_count": 11,
   "metadata": {},
   "outputs": [
    {
     "ename": "AttributeError",
     "evalue": "'Book' object has no attribute '__add__'",
     "output_type": "error",
     "traceback": [
      "\u001b[1;31m---------------------------------------------------------------------------\u001b[0m",
      "\u001b[1;31mAttributeError\u001b[0m                            Traceback (most recent call last)",
      "Cell \u001b[1;32mIn[11], line 1\u001b[0m\n\u001b[1;32m----> 1\u001b[0m \u001b[38;5;28;43mdelattr\u001b[39;49m\u001b[43m(\u001b[49m\u001b[43mLusiadas\u001b[49m\u001b[43m,\u001b[49m\u001b[43m \u001b[49m\u001b[38;5;124;43m\"\u001b[39;49m\u001b[38;5;124;43m__add__\u001b[39;49m\u001b[38;5;124;43m\"\u001b[39;49m\u001b[43m)\u001b[49m\n",
      "\u001b[1;31mAttributeError\u001b[0m: 'Book' object has no attribute '__add__'"
     ]
    }
   ],
   "source": [
    "delattr(Lusiadas, \"__add__\")"
   ]
  },
  {
   "cell_type": "markdown",
   "metadata": {},
   "source": [
    "O método __add__ não pode ser removido diretamente."
   ]
  },
  {
   "cell_type": "markdown",
   "metadata": {},
   "source": []
  }
 ],
 "metadata": {
  "kernelspec": {
   "display_name": "Python 3 (ipykernel)",
   "language": "python",
   "name": "python3"
  },
  "language_info": {
   "codemirror_mode": {
    "name": "ipython",
    "version": 3
   },
   "file_extension": ".py",
   "mimetype": "text/x-python",
   "name": "python",
   "nbconvert_exporter": "python",
   "pygments_lexer": "ipython3",
   "version": "3.11.2"
  },
  "vscode": {
   "interpreter": {
    "hash": "c56527485b7c9dd36c8c8808345694ae9d0a642c0f00dfb6356f9a65494ceb50"
   }
  }
 },
 "nbformat": 4,
 "nbformat_minor": 1
}
