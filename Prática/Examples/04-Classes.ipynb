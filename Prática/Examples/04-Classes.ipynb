{
 "cells": [
  {
   "cell_type": "markdown",
   "metadata": {},
   "source": [
    "<div>\n",
    "    <img src=\"img/CloserAcademy.png\">\n",
    "</div>"
   ]
  },
  {
   "cell_type": "markdown",
   "metadata": {},
   "source": [
    "## Classes\n",
    "\n",
    "- A class is a blueprint for creating objects.\n",
    "- It defines the structure and behavior that objects in the class will have.\n",
    "\n",
    "To create a class, you use the `class` keyword. The class name should follow the same convention used for creating function and variable names, however, by convention, it always starts with an uppercase letter (also known as Pascal Case)."
   ]
  },
  {
   "cell_type": "code",
   "execution_count": 1,
   "metadata": {},
   "outputs": [],
   "source": [
    "# Create a class named Livro\n",
    "class Livro:\n",
    "    \"\"\"\n",
    "    Class that represents a book.\n",
    "    \"\"\"\n",
    "\n",
    "    def __init__(self):\n",
    "        \"\"\"\n",
    "        Initialization method for each object created from this class.\n",
    "        The 'self' parameter is a reference to each attribute of the created object. It connects each object to the class.\n",
    "        \"\"\"\n",
    "        # Attributes of each object created from this class.\n",
    "        # The 'self' indicates that these are attributes of the object.\n",
    "        self.title = 'The Monk Who Sold His Ferrari'\n",
    "        self.id = 9988777\n",
    "        print(\"Constructor called to create an object of this class\")\n",
    "\n",
    "    def print_info(self):\n",
    "        \"\"\"\n",
    "        Method that prints information about the book.\n",
    "        \"\"\"\n",
    "        print(f\"The created book is '{self.title}' with ID {self.id}\")"
   ]
  },
  {
   "cell_type": "markdown",
   "metadata": {},
   "source": [
    "In this class, we have:\n",
    "\n",
    "The `__init__` method, which is called when an object of the class is created. This initializes the attributes of the object.<br><br>\n",
    "The attributes `title` and `id`, which are specific to each object created from the class.\n",
    "The `print_info` method, which prints details about the book."
   ]
  },
  {
   "cell_type": "code",
   "execution_count": 2,
   "metadata": {},
   "outputs": [
    {
     "name": "stdout",
     "output_type": "stream",
     "text": [
      "Constructor called to create an object of this class\n"
     ]
    }
   ],
   "source": [
    "# Create an instance of the Livro class\n",
    "example_book = Livro()"
   ]
  },
  {
   "cell_type": "code",
   "execution_count": 3,
   "metadata": {},
   "outputs": [
    {
     "data": {
      "text/plain": [
       "__main__.Livro"
      ]
     },
     "execution_count": 3,
     "metadata": {},
     "output_type": "execute_result"
    }
   ],
   "source": [
    "# Check the type of object \"example_book\" created from the Livro class\n",
    "type(example_book)"
   ]
  },
  {
   "cell_type": "code",
   "execution_count": 4,
   "metadata": {},
   "outputs": [
    {
     "data": {
      "text/plain": [
       "'The Monk Who Sold His Ferrari'"
      ]
     },
     "execution_count": 4,
     "metadata": {},
     "output_type": "execute_result"
    }
   ],
   "source": [
    "# Attribute \"title\" of the \"example_book\" object\n",
    "example_book.title"
   ]
  },
  {
   "cell_type": "code",
   "execution_count": 5,
   "metadata": {},
   "outputs": [
    {
     "name": "stdout",
     "output_type": "stream",
     "text": [
      "The created book is 'The Monk Who Sold His Ferrari' with ID 9988777\n"
     ]
    }
   ],
   "source": [
    "# Access the \"print_info\" method that prints details about the \"example_book\" object\n",
    "example_book.print_info()"
   ]
  },
  {
   "cell_type": "code",
   "execution_count": 6,
   "metadata": {},
   "outputs": [],
   "source": [
    "# Creating the Book class with parameters in the constructor method\n",
    "class Livro:\n",
    "    \"\"\"\n",
    "    Class that represents a book.\n",
    "\n",
    "    Args:\n",
    "        title (str): The title of the book.\n",
    "        id (int): The unique identifier of the book.\n",
    "    \"\"\"\n",
    "\n",
    "    def __init__(self, title, id):\n",
    "        \"\"\"\n",
    "        Constructor to create an object of the Livro class.\n",
    "\n",
    "        Args:\n",
    "            title (str): The title of the book.\n",
    "            id (int): The unique identifier of the book.\n",
    "        \"\"\"\n",
    "        self.title = title\n",
    "        self.id = id\n",
    "        print(\"Constructor called to create an object of this class\")\n",
    "\n",
    "    def print_info(self):\n",
    "        \"\"\"\n",
    "        Prints information about the book.\n",
    "        \"\"\"\n",
    "        print(f\"The created book is '{self.title}' with ID {self.id}\")"
   ]
  },
  {
   "cell_type": "code",
   "execution_count": 7,
   "metadata": {},
   "outputs": [
    {
     "name": "stdout",
     "output_type": "stream",
     "text": [
      "Constructor called to create an object of this class\n"
     ]
    }
   ],
   "source": [
    "# Creating the \"Livro1\" object, which is an instance of the Livro class\n",
    "Book1 = Livro(\"The Girl Who Stole Books\", 77886611)"
   ]
  },
  {
   "cell_type": "code",
   "execution_count": 8,
   "metadata": {},
   "outputs": [
    {
     "data": {
      "text/plain": [
       "'The Girl Who Stole Books'"
      ]
     },
     "execution_count": 8,
     "metadata": {},
     "output_type": "execute_result"
    }
   ],
   "source": [
    "Book1.title"
   ]
  },
  {
   "cell_type": "code",
   "execution_count": 9,
   "metadata": {},
   "outputs": [
    {
     "name": "stdout",
     "output_type": "stream",
     "text": [
      "The created book is 'The Girl Who Stole Books' with ID 77886611\n"
     ]
    }
   ],
   "source": [
    "# Aceder ao método da classe Livro1\n",
    "Book1.print_info()"
   ]
  },
  {
   "cell_type": "code",
   "execution_count": 10,
   "metadata": {},
   "outputs": [],
   "source": [
    "# Create the Dog class\n",
    "class Dog():\n",
    "    def __init__(self, breed):\n",
    "        self.breed = breed\n",
    "        print(\"Constructor called to create an object of this class\")"
   ]
  },
  {
   "cell_type": "code",
   "execution_count": 11,
   "metadata": {},
   "outputs": [
    {
     "name": "stdout",
     "output_type": "stream",
     "text": [
      "Constructor called to create an object of this class\n"
     ]
    }
   ],
   "source": [
    "# Create an object of the Dog class\n",
    "Rex = Dog(breed='Labrador')"
   ]
  },
  {
   "cell_type": "code",
   "execution_count": 12,
   "metadata": {},
   "outputs": [
    {
     "name": "stdout",
     "output_type": "stream",
     "text": [
      "Constructor called to create an object of this class\n"
     ]
    }
   ],
   "source": [
    "# Create an object of the Dog class\n",
    "Golias = Dog(breed='Husky')"
   ]
  },
  {
   "cell_type": "code",
   "execution_count": 13,
   "metadata": {},
   "outputs": [
    {
     "data": {
      "text/plain": [
       "'Labrador'"
      ]
     },
     "execution_count": 13,
     "metadata": {},
     "output_type": "execute_result"
    }
   ],
   "source": [
    "# Attribute of the Dog class associated with the created object\n",
    "Rex.breed"
   ]
  },
  {
   "cell_type": "code",
   "execution_count": 14,
   "metadata": {},
   "outputs": [
    {
     "data": {
      "text/plain": [
       "'Husky'"
      ]
     },
     "execution_count": 14,
     "metadata": {},
     "output_type": "execute_result"
    }
   ],
   "source": [
    "# Attribute of the Dog class associated with the created object\n",
    "Golias.breed"
   ]
  }
 ],
 "metadata": {
  "kernelspec": {
   "display_name": "Python 3 (ipykernel)",
   "language": "python",
   "name": "python3"
  },
  "language_info": {
   "codemirror_mode": {
    "name": "ipython",
    "version": 3
   },
   "file_extension": ".py",
   "mimetype": "text/x-python",
   "name": "python",
   "nbconvert_exporter": "python",
   "pygments_lexer": "ipython3",
   "version": "3.11.2"
  },
  "vscode": {
   "interpreter": {
    "hash": "ed1d5606f5aeedd55256c3249db3ec25384f334262ac609a48c72a22acaa424d"
   }
  }
 },
 "nbformat": 4,
 "nbformat_minor": 1
}
