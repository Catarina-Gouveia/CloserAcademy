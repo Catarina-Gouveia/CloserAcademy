{
 "cells": [
  {
   "cell_type": "markdown",
   "metadata": {},
   "source": [
    "<div>\n",
    "    <img src=\"img/CloserAcademy.png\">\n",
    "</div>"
   ]
  },
  {
   "cell_type": "markdown",
   "metadata": {},
   "source": [
    "## **Functions**"
   ]
  },
  {
   "cell_type": "markdown",
   "metadata": {},
   "source": [
    "- Reusable code blocks that perform a specific task. \n",
    "Help organize the code, making it more modular and easier to understand."
   ]
  },
  {
   "cell_type": "markdown",
   "metadata": {},
   "source": [
    "### **Built-in Functions**\n",
    "\n",
    "Built-in functions, or built-ins, in Python are functions that are available as part of Python's core codebase and do not require the import of any additional modules. These functions are widely used and provide essential functionalities for data manipulation, mathematical operations, iteration, string manipulation, etc."
   ]
  },
  {
   "cell_type": "markdown",
   "metadata": {},
   "source": [
    "Examples:"
   ]
  },
  {
   "cell_type": "code",
   "execution_count": 1,
   "metadata": {},
   "outputs": [
    {
     "name": "stdout",
     "output_type": "stream",
     "text": [
      "\n",
      "Hello, world!\n"
     ]
    }
   ],
   "source": [
    "print()  # This function is used to print values to the standard output.\n",
    "print('Hello, world!')"
   ]
  },
  {
   "cell_type": "markdown",
   "metadata": {},
   "source": [
    "`len()` - This function returns the length (number of items) of an object, such as a list, a string, a dictionary, etc."
   ]
  },
  {
   "cell_type": "code",
   "execution_count": 2,
   "metadata": {},
   "outputs": [
    {
     "name": "stdout",
     "output_type": "stream",
     "text": [
      "5\n"
     ]
    }
   ],
   "source": [
    "list_nr = [1, 2, 3, 4, 5]\n",
    "print(len(list_nr))"
   ]
  },
  {
   "cell_type": "markdown",
   "metadata": {},
   "source": [
    "`sum()` This function returns the sum of all elements in an iterable (such as a list, tuple, etc.)."
   ]
  },
  {
   "cell_type": "code",
   "execution_count": 3,
   "metadata": {},
   "outputs": [
    {
     "name": "stdout",
     "output_type": "stream",
     "text": [
      "15\n"
     ]
    }
   ],
   "source": [
    "list_nr = [1, 2, 3, 4, 5]\n",
    "print(sum(list_nr))  # Saída: 15"
   ]
  },
  {
   "cell_type": "markdown",
   "metadata": {},
   "source": [
    "`max()` Returns the maximum value in an iterable.\n",
    "\n",
    "\n",
    "`min()` Returns the minimum value in an iterable."
   ]
  },
  {
   "cell_type": "code",
   "execution_count": 4,
   "metadata": {},
   "outputs": [
    {
     "name": "stdout",
     "output_type": "stream",
     "text": [
      "20\n",
      "5\n"
     ]
    }
   ],
   "source": [
    "list_nr = [10, 20, 5, 15]\n",
    "print(max(list_nr))  # Saída: 20\n",
    "print(min(list_nr))  # Saída: 5"
   ]
  },
  {
   "cell_type": "markdown",
   "metadata": {},
   "source": [
    "[Python Documentation - built-in functions](https://docs.python.org/3/library/functions.html)"
   ]
  },
  {
   "cell_type": "markdown",
   "metadata": {},
   "source": [
    "### **User-defined functions**"
   ]
  },
  {
   "cell_type": "code",
   "execution_count": 5,
   "metadata": {},
   "outputs": [
    {
     "name": "stdout",
     "output_type": "stream",
     "text": [
      "Hello, World!\n"
     ]
    }
   ],
   "source": [
    "# Create a simple function that prints \"Hello, World!\" when called.\n",
    "def hello_world():\n",
    "    print(\"Hello, World!\")\n",
    "\n",
    "hello_world()"
   ]
  },
  {
   "cell_type": "markdown",
   "metadata": {},
   "source": [
    "A function always has the following structure (syntax):\n",
    "- `def` (definition): Keyword used to define a function.\n",
    "- `function_name`: Name of the function, which should follow Python's [naming conventions](https://pythonguides.com/python-naming-conventions/#:~:text=Python%20naming%20conventions%20are%20a%20set%20of%20guidelines,is%20considered%20a%20mark%20of%20good%20coding%20practice.). It should be descriptive of its purpose.\n",
    "- `arguments`: Parameters that the function can receive (optional).\n",
    "- Function body: Block of code that performs a specific task.\n",
    "- `return`: Keyword used to return a value from the function (optional)."
   ]
  },
  {
   "cell_type": "code",
   "execution_count": 6,
   "metadata": {},
   "outputs": [],
   "source": [
    "# Function structure:\n",
    "def function_name(arguments):\n",
    "    # Function body\n",
    "    # Performs a specific task\n",
    "    return result  # Optional, if the function returns a value"
   ]
  },
  {
   "cell_type": "markdown",
   "metadata": {},
   "source": [
    "Another example of a function: Suppose we want to calculate the area and perimeter of a rectangle based on the provided length and width. We can create a function like this:"
   ]
  },
  {
   "cell_type": "code",
   "execution_count": 7,
   "metadata": {},
   "outputs": [
    {
     "name": "stdout",
     "output_type": "stream",
     "text": [
      "Rectangle area: 15\n",
      "Rectangle perimeter: 16\n"
     ]
    }
   ],
   "source": [
    "def rectangle_info(length, width):\n",
    "    area = length * width\n",
    "    perimeter = 2 * (length + width)\n",
    "    return area, perimeter\n",
    "\n",
    "# Example of usage:\n",
    "length = 5\n",
    "width = 3\n",
    "rectangle_area, rectangle_perimeter = rectangle_info(length, width)\n",
    "print(f\"Rectangle area: {rectangle_area}\")\n",
    "print(f\"Rectangle perimeter: {rectangle_perimeter}\")"
   ]
  },
  {
   "cell_type": "code",
   "execution_count": 8,
   "metadata": {},
   "outputs": [
    {
     "data": {
      "text/plain": [
       "(15, 16)"
      ]
     },
     "execution_count": 8,
     "metadata": {},
     "output_type": "execute_result"
    }
   ],
   "source": [
    "rectangle_info(width, length)"
   ]
  },
  {
   "cell_type": "markdown",
   "metadata": {},
   "source": [
    "Note: In case there is more than one variable to be returned, they will be returned as a tuple."
   ]
  },
  {
   "cell_type": "markdown",
   "metadata": {},
   "source": [
    "Another example:"
   ]
  },
  {
   "cell_type": "code",
   "execution_count": 9,
   "metadata": {},
   "outputs": [
    {
     "name": "stdout",
     "output_type": "stream",
     "text": [
      "Mean: 31.00\n",
      "Median: 30.00\n"
     ]
    }
   ],
   "source": [
    "def calculate_mean_median(lst):\n",
    "    \"\"\"\n",
    "    Calculates the mean and median of a list of numbers.\n",
    "\n",
    "    Args:\n",
    "        lst (list): A list of numbers.\n",
    "\n",
    "    Returns:\n",
    "        float, float: The mean and median of the list.\n",
    "    \"\"\"\n",
    "    # Calculate the mean\n",
    "    mean = sum(lst) / len(lst)\n",
    "\n",
    "    # Sort the list\n",
    "    sorted_list = sorted(lst)\n",
    "\n",
    "    # Calculate the median\n",
    "    size = len(sorted_list)\n",
    "    if size % 2 == 0:\n",
    "        # If the list size is even, the median is the average of the two central values\n",
    "        median = (sorted_list[size // 2 - 1] + sorted_list[size // 2]) / 2\n",
    "    else:\n",
    "        # If the list size is odd, the median is the central value\n",
    "        median = sorted_list[size // 2]\n",
    "\n",
    "    return mean, median\n",
    "\n",
    "# Example of usage:\n",
    "numbers = [10, 20, 30, 45, 50]\n",
    "mean_result, median_result = calculate_mean_median(numbers)\n",
    "print(f\"Mean: {mean_result:.2f}\")\n",
    "print(f\"Median: {median_result:.2f}\")"
   ]
  },
  {
   "cell_type": "markdown",
   "metadata": {},
   "source": [
    "In Python, function arguments can be classified into different types, each offering flexibility and specific functionalities when defining and calling functions. Below are the main types of arguments in Python:\n",
    "\n",
    "#### **1. Positional Arguments**:\n",
    "\n",
    "These are the arguments passed to a function in the same order as they were defined.\n",
    "The order of arguments when calling the function is important.\n",
    "\n",
    "Example:"
   ]
  },
  {
   "cell_type": "code",
   "execution_count": 10,
   "metadata": {},
   "outputs": [
    {
     "name": "stdout",
     "output_type": "stream",
     "text": [
      "Alice Hello !\n",
      "Hello Alice !\n"
     ]
    }
   ],
   "source": [
    "def greeting(name, message):\n",
    "    print(message, name, \"!\")\n",
    "\n",
    "greeting(\"Hello\", \"Alice\")  # \"Hello Alice !\"\n",
    "greeting(\"Alice\", \"Hello\")  # \"Alice Hello !\""
   ]
  },
  {
   "cell_type": "markdown",
   "metadata": {},
   "source": [
    "In positional arguments, the order of the arguments when calling the function is important, as each argument is associated with the corresponding parameter in the order they are passed. However, it is possible to change the position of the arguments when calling the function, as long as the parameter names are explicitly provided."
   ]
  },
  {
   "cell_type": "code",
   "execution_count": 11,
   "metadata": {},
   "outputs": [
    {
     "name": "stdout",
     "output_type": "stream",
     "text": [
      "Hello Alice !\n"
     ]
    }
   ],
   "source": [
    "greeting(message=\"Hello\", name=\"Alice\")"
   ]
  },
  {
   "cell_type": "markdown",
   "metadata": {},
   "source": [
    "This allows Python to associate each argument with the corresponding parameter, regardless of the order they are provided.\n",
    "This type of argument is also called \n",
    "\n",
    "#### **2. Keyword Arguments:**\n",
    "\n",
    "These are the arguments passed to a function with their names explicitly indicated.\n",
    "The order of arguments is not important as long as the names match the function's parameters."
   ]
  },
  {
   "cell_type": "markdown",
   "metadata": {},
   "source": [
    "### **3. Default Arguments:**\n",
    "\n",
    "These are arguments that have a predefined value in the function declaration itself.\n",
    "If they are not passed during the function call, the default values will be used.\n",
    "Example:"
   ]
  },
  {
   "cell_type": "code",
   "execution_count": 12,
   "metadata": {},
   "outputs": [
    {
     "name": "stdout",
     "output_type": "stream",
     "text": [
      "Hello Maria !\n"
     ]
    }
   ],
   "source": [
    "def greeting(name, message=\"Hello\"):\n",
    "    print(message, name, \"!\")\n",
    "\n",
    "greeting(\"Maria\")  # \"Hello Maria !\""
   ]
  },
  {
   "cell_type": "code",
   "execution_count": 13,
   "metadata": {},
   "outputs": [
    {
     "name": "stdout",
     "output_type": "stream",
     "text": [
      "Goodbye Maria !\n"
     ]
    }
   ],
   "source": [
    "def greeting(name, message=\"Hello\"):\n",
    "    print(message, name, \"!\")\n",
    "\n",
    "greeting(\"Maria\", message=\"Goodbye\")  # \"Goodbye Maria !\""
   ]
  },
  {
   "cell_type": "markdown",
   "metadata": {},
   "source": [
    "When a function has arguments with default values, they should be defined after the arguments that do not have default values.\n",
    "\n",
    "#### **4. Arbitrary Arguments (args):**\n",
    "\n",
    "Allow passing an arbitrary number of positional arguments to a function.\n",
    "\n",
    "The arguments are grouped into a tuple within the function."
   ]
  },
  {
   "cell_type": "code",
   "execution_count": 14,
   "metadata": {},
   "outputs": [
    {
     "name": "stdout",
     "output_type": "stream",
     "text": [
      "Apple\n",
      "Banana\n",
      "Orange\n"
     ]
    }
   ],
   "source": [
    "def list_items(*args):\n",
    "    for item in args:\n",
    "        print(item)\n",
    "\n",
    "list_items(\"Apple\", \"Banana\", \"Orange\")  # \"Apple\", \"Banana\", \"Orange\""
   ]
  },
  {
   "cell_type": "code",
   "execution_count": 15,
   "metadata": {},
   "outputs": [
    {
     "name": "stdout",
     "output_type": "stream",
     "text": [
      "4.0\n",
      "30.0\n"
     ]
    }
   ],
   "source": [
    "def calculate_mean(*numbers):\n",
    "    return sum(numbers) / len(numbers)\n",
    "\n",
    "print(calculate_mean(2, 4, 6))  # 4.0\n",
    "print(calculate_mean(10, 20, 30, 40, 50))  # 30.0"
   ]
  },
  {
   "cell_type": "markdown",
   "metadata": {},
   "source": [
    "#### **5. Keyword Arbitrary Arguments (kwargs):**\n",
    "\n",
    "Allow passing an arbitrary number of named arguments to a function.\n",
    "\n",
    "The arguments are grouped into a dictionary within the function.\n",
    "\n",
    "Example:"
   ]
  },
  {
   "cell_type": "code",
   "execution_count": 16,
   "metadata": {},
   "outputs": [
    {
     "name": "stdout",
     "output_type": "stream",
     "text": [
      "name: Alice\n",
      "age: 30\n",
      "city: São Paulo\n",
      "----------\n",
      "name: Alice\n",
      "age: 30\n",
      "city: São Paulo\n"
     ]
    }
   ],
   "source": [
    "def print_info(**kwargs):\n",
    "    for key, value in kwargs.items():\n",
    "        print(f\"{key}: {value}\")\n",
    "\n",
    "print_info(name=\"Alice\", age=30, city=\"São Paulo\")  # \"name: Alice\", \"age: 30\", \"city: São Paulo\"\n",
    "\n",
    "print(\"----------\")\n",
    "# Another example of calling the same function:\n",
    "info = {\"name\": \"Alice\", \"age\": 30, \"city\": \"São Paulo\"}\n",
    "print_info(**info)"
   ]
  },
  {
   "cell_type": "markdown",
   "metadata": {},
   "source": [
    "### **Comments and Docstrings**\n",
    "\n",
    "Comments and docstrings are important features in Python for documenting and explaining code.\n",
    "\n",
    "#### Comments:\n",
    "\n",
    "- **What they are:** Comments are pieces of text in the code that are ignored by the Python interpreter. They are used to explain, describe, and annotate the code to facilitate its understanding.\n",
    "\n",
    "- **Syntax:** Comments in Python are preceded by the `#` character. Any text after the `#` on a line is considered a comment and is not executed by the interpreter.\n",
    "\n",
    "- **What they are for:** Explain the purpose of a line or block of code, illustrate how the code works, make notes for programmers who will review or modify the code in the future, among other purposes."
   ]
  },
  {
   "cell_type": "code",
   "execution_count": 17,
   "metadata": {},
   "outputs": [],
   "source": [
    "# This is a line of code that assigns the value 5 to the variable x\n",
    "x = 5"
   ]
  },
  {
   "cell_type": "markdown",
   "metadata": {},
   "source": [
    "#### Docstrings:\n",
    "\n",
    "- **What they are:** Docstrings are documentation strings embedded directly in Python source code, used to document functions, classes, modules, and methods.\n",
    "\n",
    "- **Syntax:** They are placed between triple quotes (`\"\"\"`) immediately after the definition of a function, class, module, or method. They can span multiple lines and typically include information about the function's purpose, parameters, what it returns, and usage examples.\n",
    "\n",
    "- **What they are for:** They serve as the official documentation of the code, which can be accessed by other programmers using documentation tools like `help()` or Integrated Development Environments (IDEs) that provide suggestions and information about functions and methods.\n",
    "\n",
    "- **Example:**"
   ]
  },
  {
   "cell_type": "code",
   "execution_count": 18,
   "metadata": {},
   "outputs": [],
   "source": [
    "def calculate_sum(a, b):\n",
    "      \"\"\"\n",
    "      Calculates the sum of two numbers.\n",
    "\n",
    "      Args:\n",
    "          a (int, float): The first number.\n",
    "          b (int, float): The second number.\n",
    "\n",
    "      Returns:\n",
    "          int, float: The sum of the two numbers.\n",
    "      \"\"\"\n",
    "      result = a + b\n",
    "      return result"
   ]
  },
  {
   "cell_type": "code",
   "execution_count": 19,
   "metadata": {},
   "outputs": [
    {
     "name": "stdout",
     "output_type": "stream",
     "text": [
      "Help on function calculate_sum in module __main__:\n",
      "\n",
      "calculate_sum(a, b)\n",
      "    Calculates the sum of two numbers.\n",
      "    \n",
      "    Args:\n",
      "        a (int, float): The first number.\n",
      "        b (int, float): The second number.\n",
      "    \n",
      "    Returns:\n",
      "        int, float: The sum of the two numbers.\n",
      "\n"
     ]
    }
   ],
   "source": [
    "help(calculate_sum)"
   ]
  },
  {
   "cell_type": "code",
   "execution_count": null,
   "metadata": {},
   "outputs": [],
   "source": []
  }
 ],
 "metadata": {
  "kernelspec": {
   "display_name": "Python 3 (ipykernel)",
   "language": "python",
   "name": "python3"
  },
  "language_info": {
   "codemirror_mode": {
    "name": "ipython",
    "version": 3
   },
   "file_extension": ".py",
   "mimetype": "text/x-python",
   "name": "python",
   "nbconvert_exporter": "python",
   "pygments_lexer": "ipython3",
   "version": "3.11.2"
  },
  "vscode": {
   "interpreter": {
    "hash": "ed1d5606f5aeedd55256c3249db3ec25384f334262ac609a48c72a22acaa424d"
   }
  }
 },
 "nbformat": 4,
 "nbformat_minor": 1
}
