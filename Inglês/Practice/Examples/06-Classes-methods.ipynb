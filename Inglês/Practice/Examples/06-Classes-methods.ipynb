{
 "cells": [
  {
   "cell_type": "markdown",
   "metadata": {},
   "source": [
    "<div>\n",
    "    <img src=\"img/CloserAcademy.png\">\n",
    "</div>"
   ]
  },
  {
   "cell_type": "markdown",
   "metadata": {},
   "source": [
    "## **Methods**"
   ]
  },
  {
   "cell_type": "code",
   "execution_count": 1,
   "metadata": {},
   "outputs": [],
   "source": [
    "# Creating a class called Circle\n",
    "class Circle():\n",
    "    \n",
    "    # The value of pi is constant\n",
    "    pi = 3.14\n",
    "\n",
    "    # When an object of this class is created, this method will be executed and the predefined value of the radius will be 5.\n",
    "    def __init__(self, radius = 5):\n",
    "        self.radius = radius \n",
    "\n",
    "    # This method calculates the area. The \"self\" uses the attributes of this object\n",
    "    def area(self):\n",
    "        return (self.radius ** 2) * Circle.pi\n",
    "\n",
    "    # Method to set a new radius\n",
    "    def setRadius(self, new_radius):\n",
    "        self.radius = new_radius\n",
    "\n",
    "    # Method to get the radius of the circle\n",
    "    def getRadius(self):\n",
    "        return self.radius"
   ]
  },
  {
   "cell_type": "markdown",
   "metadata": {},
   "source": [
    "Note: In this case, we chose to use the \"Camel Case\" convention:\n",
    "In this style, the method name starts with a lowercase letter, and the first letter of each subsequent new word is uppercase."
   ]
  },
  {
   "cell_type": "code",
   "execution_count": 2,
   "metadata": {},
   "outputs": [],
   "source": [
    "# Create the object \"circ\" - an instance of the \"Circle\" class\n",
    "circ = Circle()"
   ]
  },
  {
   "cell_type": "code",
   "execution_count": 3,
   "metadata": {},
   "outputs": [
    {
     "data": {
      "text/plain": [
       "5"
      ]
     },
     "execution_count": 3,
     "metadata": {},
     "output_type": "execute_result"
    }
   ],
   "source": [
    "# Execute the \"getRadius\" method of the Circle class\n",
    "circ.getRadius()"
   ]
  },
  {
   "cell_type": "code",
   "execution_count": 4,
   "metadata": {},
   "outputs": [],
   "source": [
    "# Create another object called circ1. An instance of the Circle class.\n",
    "# This time, replacing the value of the radius attribute:\n",
    "circ1 = Circle(7)"
   ]
  },
  {
   "cell_type": "code",
   "execution_count": 5,
   "metadata": {},
   "outputs": [
    {
     "data": {
      "text/plain": [
       "7"
      ]
     },
     "execution_count": 5,
     "metadata": {},
     "output_type": "execute_result"
    }
   ],
   "source": [
    "# Execute the \"getRadius\" method of the Circle class\n",
    "circ1.getRadius()"
   ]
  },
  {
   "cell_type": "code",
   "execution_count": 6,
   "metadata": {},
   "outputs": [
    {
     "name": "stdout",
     "output_type": "stream",
     "text": [
      "The radius is: 5\n"
     ]
    }
   ],
   "source": [
    "# Print the radius of the first created object\n",
    "print('The radius is:', circ.getRadius())"
   ]
  },
  {
   "cell_type": "code",
   "execution_count": 7,
   "metadata": {},
   "outputs": [
    {
     "name": "stdout",
     "output_type": "stream",
     "text": [
      "The radius is: 78.5\n"
     ]
    }
   ],
   "source": [
    "# Print the area of the first created object\n",
    "print('The radius is:', circ.area())"
   ]
  },
  {
   "cell_type": "code",
   "execution_count": 8,
   "metadata": {},
   "outputs": [],
   "source": [
    "# Generate a new value for the radius of the circle of the circ object\n",
    "circ.setRadius(3)"
   ]
  },
  {
   "cell_type": "code",
   "execution_count": 9,
   "metadata": {},
   "outputs": [
    {
     "name": "stdout",
     "output_type": "stream",
     "text": [
      "The new radius is equal to: 3\n"
     ]
    }
   ],
   "source": [
    "# Print the new radius of the circ object\n",
    "print('The new radius is equal to:', circ.getRadius())"
   ]
  },
  {
   "cell_type": "code",
   "execution_count": 10,
   "metadata": {},
   "outputs": [
    {
     "name": "stdout",
     "output_type": "stream",
     "text": [
      "The new area is equal to: 28.26\n"
     ]
    }
   ],
   "source": [
    "# Print the new area of the circ object\n",
    "print('The new area is equal to:', circ.area())"
   ]
  },
  {
   "cell_type": "code",
   "execution_count": null,
   "metadata": {},
   "outputs": [],
   "source": []
  }
 ],
 "metadata": {
  "kernelspec": {
   "display_name": "Python 3 (ipykernel)",
   "language": "python",
   "name": "python3"
  },
  "language_info": {
   "codemirror_mode": {
    "name": "ipython",
    "version": 3
   },
   "file_extension": ".py",
   "mimetype": "text/x-python",
   "name": "python",
   "nbconvert_exporter": "python",
   "pygments_lexer": "ipython3",
   "version": "3.11.2"
  },
  "vscode": {
   "interpreter": {
    "hash": "c56527485b7c9dd36c8c8808345694ae9d0a642c0f00dfb6356f9a65494ceb50"
   }
  }
 },
 "nbformat": 4,
 "nbformat_minor": 1
}
